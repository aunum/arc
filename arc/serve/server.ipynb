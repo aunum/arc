{
 "cells": [
  {
   "cell_type": "code",
   "execution_count": 12,
   "metadata": {},
   "outputs": [
    {
     "name": "stdout",
     "output_type": "stream",
     "text": [
      "<class 'super'>\n"
     ]
    },
    {
     "data": {
      "text/plain": [
       "['a', 'b', 'c', 'd']"
      ]
     },
     "execution_count": 12,
     "metadata": {},
     "output_type": "execute_result"
    }
   ],
   "source": [
    "from typing import List\n",
    "\n",
    "class A:\n",
    "    def add(self) -> List[str]:\n",
    "        return [\n",
    "            \"a\",\n",
    "            \"b\",\n",
    "        ]\n",
    "\n",
    "class B(A):\n",
    "    def add(self) -> List[str]:\n",
    "        l = super().add()\n",
    "        l.extend([\"c\", \"d\"])\n",
    "        return l\n",
    "\n",
    "b = B()\n",
    "b.add()"
   ]
  },
  {
   "cell_type": "code",
   "execution_count": 24,
   "metadata": {},
   "outputs": [],
   "source": [
    "from typing import List\n",
    "\n",
    "class A:\n",
    "    def add(self) -> List[str]:\n",
    "        if hasattr(super(), \"add\"):\n",
    "            print(\"has attr\")\n",
    "        print(\"no attr\")"
   ]
  },
  {
   "cell_type": "code",
   "execution_count": 25,
   "metadata": {},
   "outputs": [
    {
     "name": "stdout",
     "output_type": "stream",
     "text": [
      "no attr\n"
     ]
    }
   ],
   "source": [
    "a = A()\n",
    "a.add()"
   ]
  },
  {
   "cell_type": "code",
   "execution_count": 71,
   "metadata": {},
   "outputs": [
    {
     "name": "stdout",
     "output_type": "stream",
     "text": [
      "-----\n",
      "class name:  A\n",
      "class dict:  {'__module__': '__main__', '__qualname__': 'A', 'add': <classmethod(<function A.add at 0x113b396c0>)>}\n",
      "bases:  (<class '__main__.AA'>,)\n",
      "attributeName:  __module__\n",
      "attribute:  __main__\n",
      "type attribute:  <class 'str'>\n",
      "attributeName:  __qualname__\n",
      "attribute:  A\n",
      "type attribute:  <class 'str'>\n",
      "attributeName:  add\n",
      "attribute:  <classmethod(<function A.add at 0x113b396c0>)>\n",
      "type attribute:  <class 'classmethod'>\n",
      "!!found a function!!\n",
      "wrapper!\n"
     ]
    },
    {
     "ename": "AttributeError",
     "evalue": "readonly attribute",
     "output_type": "error",
     "traceback": [
      "\u001b[0;31m---------------------------------------------------------------------------\u001b[0m",
      "\u001b[0;31mAttributeError\u001b[0m                            Traceback (most recent call last)",
      "Cell \u001b[0;32mIn [71], line 51\u001b[0m\n\u001b[1;32m     48\u001b[0m     \u001b[38;5;28;01mdef\u001b[39;00m \u001b[38;5;21msub\u001b[39m(\u001b[38;5;28mself\u001b[39m):\n\u001b[1;32m     49\u001b[0m         \u001b[38;5;28;01mpass\u001b[39;00m\n\u001b[0;32m---> 51\u001b[0m \u001b[38;5;28;01mclass\u001b[39;00m \u001b[38;5;21;01mA\u001b[39;00m(AA, metaclass\u001b[38;5;241m=\u001b[39mMetaClass):\n\u001b[1;32m     52\u001b[0m     \u001b[38;5;129m@classmethod\u001b[39m\n\u001b[1;32m     53\u001b[0m     \u001b[38;5;28;01mdef\u001b[39;00m \u001b[38;5;21madd\u001b[39m(\u001b[38;5;28mself\u001b[39m) \u001b[38;5;241m-\u001b[39m\u001b[38;5;241m>\u001b[39m List[\u001b[38;5;28mstr\u001b[39m]:\n\u001b[1;32m     54\u001b[0m         \u001b[38;5;28;01mreturn\u001b[39;00m [\n\u001b[1;32m     55\u001b[0m             \u001b[38;5;124m\"\u001b[39m\u001b[38;5;124ma\u001b[39m\u001b[38;5;124m\"\u001b[39m,\n\u001b[1;32m     56\u001b[0m             \u001b[38;5;124m\"\u001b[39m\u001b[38;5;124mb\u001b[39m\u001b[38;5;124m\"\u001b[39m,\n\u001b[1;32m     57\u001b[0m         ]\n",
      "Cell \u001b[0;32mIn [71], line 42\u001b[0m, in \u001b[0;36mMetaClass.__new__\u001b[0;34m(meta, classname, bases, classDict)\u001b[0m\n\u001b[1;32m     40\u001b[0m         \u001b[38;5;28mprint\u001b[39m(\u001b[38;5;124m\"\u001b[39m\u001b[38;5;124m!!found a function!!\u001b[39m\u001b[38;5;124m\"\u001b[39m)\n\u001b[1;32m     41\u001b[0m         \u001b[38;5;66;03m# replace it with a wrapped version\u001b[39;00m\n\u001b[0;32m---> 42\u001b[0m         attribute \u001b[38;5;241m=\u001b[39m \u001b[43mwrapper\u001b[49m\u001b[43m(\u001b[49m\u001b[43mattribute\u001b[49m\u001b[43m,\u001b[49m\u001b[43m \u001b[49m\u001b[43mbases\u001b[49m\u001b[43m)\u001b[49m\n\u001b[1;32m     43\u001b[0m     newClassDict[attributeName] \u001b[38;5;241m=\u001b[39m attribute\n\u001b[1;32m     44\u001b[0m \u001b[38;5;28;01mreturn\u001b[39;00m \u001b[38;5;28mtype\u001b[39m\u001b[38;5;241m.\u001b[39m\u001b[38;5;21m__new__\u001b[39m(meta, classname, bases, newClassDict)\n",
      "Cell \u001b[0;32mIn [71], line 9\u001b[0m, in \u001b[0;36mwrapper\u001b[0;34m(method, bases)\u001b[0m\n\u001b[1;32m      4\u001b[0m \u001b[38;5;28;01mdef\u001b[39;00m \u001b[38;5;21mwrapper\u001b[39m(method, bases):\n\u001b[1;32m      5\u001b[0m     \u001b[38;5;28mprint\u001b[39m(\u001b[38;5;124m\"\u001b[39m\u001b[38;5;124mwrapper!\u001b[39m\u001b[38;5;124m\"\u001b[39m)\n\u001b[1;32m      7\u001b[0m \u001b[43m    \u001b[49m\u001b[38;5;129;43m@wraps\u001b[39;49m\u001b[43m(\u001b[49m\u001b[43mmethod\u001b[49m\u001b[43m)\u001b[49m\n\u001b[1;32m      8\u001b[0m \u001b[43m    \u001b[49m\u001b[38;5;129;43m@classmethod\u001b[39;49m\n\u001b[0;32m----> 9\u001b[0m \u001b[43m    \u001b[49m\u001b[38;5;28;43;01mdef\u001b[39;49;00m\u001b[43m \u001b[49m\u001b[38;5;21;43mwrapped\u001b[39;49m\u001b[43m(\u001b[49m\u001b[38;5;28;43mcls\u001b[39;49m\u001b[43m,\u001b[49m\u001b[43m \u001b[49m\u001b[38;5;241;43m*\u001b[39;49m\u001b[43margs\u001b[49m\u001b[43m,\u001b[49m\u001b[43m \u001b[49m\u001b[38;5;241;43m*\u001b[39;49m\u001b[38;5;241;43m*\u001b[39;49m\u001b[43mkwargs\u001b[49m\u001b[43m)\u001b[49m\u001b[43m:\u001b[49m\n\u001b[1;32m     10\u001b[0m \u001b[43m        \u001b[49m\u001b[38;5;28;43mprint\u001b[39;49m\u001b[43m(\u001b[49m\u001b[38;5;124;43m\"\u001b[39;49m\u001b[38;5;124;43mcalling wrapped!!\u001b[39;49m\u001b[38;5;124;43m\"\u001b[39;49m\u001b[43m)\u001b[49m\n\u001b[1;32m     11\u001b[0m \u001b[43m        \u001b[49m\u001b[43mfin\u001b[49m\u001b[43m \u001b[49m\u001b[38;5;241;43m=\u001b[39;49m\u001b[43m \u001b[49m\u001b[43m[\u001b[49m\u001b[43m]\u001b[49m\n",
      "File \u001b[0;32m~/.pyenv/versions/3.10.1/lib/python3.10/functools.py:61\u001b[0m, in \u001b[0;36mupdate_wrapper\u001b[0;34m(wrapper, wrapped, assigned, updated)\u001b[0m\n\u001b[1;32m     58\u001b[0m     \u001b[39mgetattr\u001b[39m(wrapper, attr)\u001b[39m.\u001b[39mupdate(\u001b[39mgetattr\u001b[39m(wrapped, attr, {}))\n\u001b[1;32m     59\u001b[0m \u001b[39m# Issue #17482: set __wrapped__ last so we don't inadvertently copy it\u001b[39;00m\n\u001b[1;32m     60\u001b[0m \u001b[39m# from the wrapped function when updating __dict__\u001b[39;00m\n\u001b[0;32m---> 61\u001b[0m wrapper\u001b[39m.\u001b[39;49m__wrapped__ \u001b[39m=\u001b[39m wrapped\n\u001b[1;32m     62\u001b[0m \u001b[39m# Return the wrapper so this can be used as a decorator via partial()\u001b[39;00m\n\u001b[1;32m     63\u001b[0m \u001b[39mreturn\u001b[39;00m wrapper\n",
      "\u001b[0;31mAttributeError\u001b[0m: readonly attribute"
     ]
    }
   ],
   "source": [
    "from functools import wraps\n",
    "from types import FunctionType, ClassMethodDescriptorType\n",
    "\n",
    "def wrapper(method, bases):\n",
    "    print(\"wrapper!\")\n",
    "\n",
    "    @wraps(method)\n",
    "    @classmethod\n",
    "    def wrapped(cls, *args, **kwargs):\n",
    "        print(\"calling wrapped!!\")\n",
    "        fin = []\n",
    "        for base in bases:\n",
    "            print(\"checking base: \", base)\n",
    "            if hasattr(base, \"add\"):\n",
    "                a = base.add(cls, *args, **kwargs)\n",
    "                print(\"a add: \", a)\n",
    "                fin.extend(a)\n",
    "            # print(\"adding base!!!: \", base.add())\n",
    "        r = method(*args, **kwargs)\n",
    "        fin.extend(r)\n",
    "        return fin\n",
    "    return wrapped\n",
    "\n",
    "class MetaClass(type):\n",
    "    def __new__(meta, classname, bases, classDict):\n",
    "        newClassDict = {}\n",
    "        print(\"-----\")\n",
    "        print(\"class name: \", classname)\n",
    "        print(\"class dict: \", classDict)\n",
    "        print(\"bases: \", bases)\n",
    "        # for base in bases:\n",
    "        #     if hasattr(base, \"add\"):\n",
    "        #         print(\"adding base: \", base)\n",
    "        #         print(\"#$# base add: \", base.add())\n",
    "        for attributeName, attribute in classDict.items():\n",
    "            print(\"attributeName: \", attributeName)\n",
    "            print(\"attribute: \", attribute)\n",
    "            print(\"type attribute: \", type(attribute))\n",
    "            if isinstance(attribute, classmethod):\n",
    "                print(\"!!found a function!!\")\n",
    "                # replace it with a wrapped version\n",
    "                attribute = wrapper(attribute, bases)\n",
    "            newClassDict[attributeName] = attribute\n",
    "        return type.__new__(meta, classname, bases, newClassDict)\n",
    "\n",
    "\n",
    "class AA():\n",
    "    def sub(self):\n",
    "        pass\n",
    "\n",
    "class A(AA, metaclass=MetaClass):\n",
    "    @classmethod\n",
    "    def add(self) -> List[str]:\n",
    "        return [\n",
    "            \"a\",\n",
    "            \"b\",\n",
    "        ]\n",
    "\n",
    "class B(A):\n",
    "    @classmethod\n",
    "    def add(self) -> List[str]:\n",
    "        return [\"c\", \"d\"]\n",
    "\n",
    "class D(B):\n",
    "    @classmethod\n",
    "    def add(self) -> List[str]:\n",
    "        return [\"e\", \"f\"]\n",
    "\n",
    "b = D()\n",
    "b.add()\n"
   ]
  },
  {
   "cell_type": "code",
   "execution_count": 34,
   "metadata": {},
   "outputs": [
    {
     "data": {
      "text/plain": [
       "__main__.A"
      ]
     },
     "execution_count": 34,
     "metadata": {},
     "output_type": "execute_result"
    }
   ],
   "source": [
    "A"
   ]
  },
  {
   "cell_type": "code",
   "execution_count": 33,
   "metadata": {},
   "outputs": [
    {
     "data": {
      "text/plain": [
       "<__main__.A at 0x1135c0df0>"
      ]
     },
     "execution_count": 33,
     "metadata": {},
     "output_type": "execute_result"
    }
   ],
   "source": [
    "A()"
   ]
  },
  {
   "cell_type": "code",
   "execution_count": 47,
   "metadata": {},
   "outputs": [
    {
     "ename": "AttributeError",
     "evalue": "'F' object has no attribute 'a'",
     "output_type": "error",
     "traceback": [
      "\u001b[0;31m---------------------------------------------------------------------------\u001b[0m",
      "\u001b[0;31mAttributeError\u001b[0m                            Traceback (most recent call last)",
      "Cell \u001b[0;32mIn [47], line 13\u001b[0m\n\u001b[1;32m     10\u001b[0m         \u001b[38;5;28;01mpass\u001b[39;00m\n\u001b[1;32m     12\u001b[0m f \u001b[38;5;241m=\u001b[39m F(\u001b[38;5;124m\"\u001b[39m\u001b[38;5;124mx\u001b[39m\u001b[38;5;124m\"\u001b[39m)\n\u001b[0;32m---> 13\u001b[0m f\u001b[38;5;241m.\u001b[39mp()\n",
      "Cell \u001b[0;32mIn [47], line 5\u001b[0m, in \u001b[0;36mE.p\u001b[0;34m(self)\u001b[0m\n\u001b[1;32m      4\u001b[0m \u001b[38;5;28;01mdef\u001b[39;00m \u001b[38;5;21mp\u001b[39m(\u001b[38;5;28mself\u001b[39m):\n\u001b[0;32m----> 5\u001b[0m     \u001b[38;5;28mprint\u001b[39m(\u001b[38;5;28;43mself\u001b[39;49m\u001b[38;5;241;43m.\u001b[39;49m\u001b[43ma\u001b[49m)\n",
      "\u001b[0;31mAttributeError\u001b[0m: 'F' object has no attribute 'a'"
     ]
    }
   ],
   "source": [
    "class E:\n",
    "    def __init__(self, l: str, a: str):\n",
    "        self.a = l\n",
    "    def p(self):\n",
    "        print(\"xz\")\n",
    "\n",
    "class F(E):\n",
    "    def __init__(self, l: str):\n",
    "        # super().__init__(l)\n",
    "        pass\n",
    "\n",
    "f = F(\"x\")\n",
    "f.p()"
   ]
  },
  {
   "cell_type": "code",
   "execution_count": 75,
   "metadata": {},
   "outputs": [],
   "source": [
    "class X:\n",
    "    def accumulate(method):\n",
    "        @wraps(method)\n",
    "        def wrapped(*args, **kwargs):\n",
    "            r = method(*args, **kwargs)\n",
    "            print(\"r: \", r)\n",
    "            return r\n",
    "        return wrapped\n",
    "\n",
    "    def add(self) -> List[str]:\n",
    "        return [\"a\", \"b\"]"
   ]
  },
  {
   "cell_type": "code",
   "execution_count": 76,
   "metadata": {},
   "outputs": [
    {
     "ename": "NameError",
     "evalue": "name 'accumulate' is not defined",
     "output_type": "error",
     "traceback": [
      "\u001b[0;31m---------------------------------------------------------------------------\u001b[0m",
      "\u001b[0;31mNameError\u001b[0m                                 Traceback (most recent call last)",
      "Cell \u001b[0;32mIn [76], line 1\u001b[0m\n\u001b[0;32m----> 1\u001b[0m \u001b[38;5;28;01mclass\u001b[39;00m \u001b[38;5;21;01mY\u001b[39;00m(X):\n\u001b[1;32m      2\u001b[0m     \u001b[38;5;129m@accumulate\u001b[39m\n\u001b[1;32m      3\u001b[0m     \u001b[38;5;28;01mdef\u001b[39;00m \u001b[38;5;21madd\u001b[39m(\u001b[38;5;28mself\u001b[39m) \u001b[38;5;241m-\u001b[39m\u001b[38;5;241m>\u001b[39m List[\u001b[38;5;28mstr\u001b[39m]:\n\u001b[1;32m      4\u001b[0m         \u001b[38;5;28;01mreturn\u001b[39;00m [\u001b[38;5;124m\"\u001b[39m\u001b[38;5;124mb\u001b[39m\u001b[38;5;124m\"\u001b[39m, \u001b[38;5;124m\"\u001b[39m\u001b[38;5;124mc\u001b[39m\u001b[38;5;124m\"\u001b[39m]\n",
      "Cell \u001b[0;32mIn [76], line 2\u001b[0m, in \u001b[0;36mY\u001b[0;34m()\u001b[0m\n\u001b[1;32m      1\u001b[0m \u001b[38;5;28;01mclass\u001b[39;00m \u001b[38;5;21;01mY\u001b[39;00m(X):\n\u001b[0;32m----> 2\u001b[0m     \u001b[38;5;129m@accumulate\u001b[39m\n\u001b[1;32m      3\u001b[0m     \u001b[38;5;28;01mdef\u001b[39;00m \u001b[38;5;21madd\u001b[39m(\u001b[38;5;28mself\u001b[39m) \u001b[38;5;241m-\u001b[39m\u001b[38;5;241m>\u001b[39m List[\u001b[38;5;28mstr\u001b[39m]:\n\u001b[1;32m      4\u001b[0m         \u001b[38;5;28;01mreturn\u001b[39;00m [\u001b[38;5;124m\"\u001b[39m\u001b[38;5;124mb\u001b[39m\u001b[38;5;124m\"\u001b[39m, \u001b[38;5;124m\"\u001b[39m\u001b[38;5;124mc\u001b[39m\u001b[38;5;124m\"\u001b[39m]\n",
      "\u001b[0;31mNameError\u001b[0m: name 'accumulate' is not defined"
     ]
    }
   ],
   "source": [
    "class Y(X):\n",
    "    @accumulate\n",
    "    def add(self) -> List[str]:\n",
    "        return [\"b\", \"c\"]\n",
    "    "
   ]
  },
  {
   "cell_type": "code",
   "execution_count": 82,
   "metadata": {},
   "outputs": [],
   "source": [
    "from dataclasses import make_dataclass, is_dataclass, field\n",
    "from typing import Generic, TypeVar, Type, Dict, Any\n",
    "import inspect\n",
    "from dataclasses_jsonschema import JsonSchemaMixin, T\n",
    "from simple_parsing.helpers import Serializable\n",
    "\n",
    "M = TypeVar(\"M\")\n",
    "\n",
    "class DataclassBuilder(Generic[M]):\n",
    "    @classmethod\n",
    "    def build(cls) -> Type[M]:\n",
    "        \"\"\"Generate a dataclass for a class\n",
    "\n",
    "        Args:\n",
    "            cls (Type[&quot;Server&quot;]): A class\n",
    "\n",
    "        Returns:\n",
    "            Opts: A dataclass with the init options of the class\n",
    "        \"\"\"\n",
    "        if is_dataclass(cls):\n",
    "            raise ValueError(\"cannot create a dataclass from a dataclass\")\n",
    "        sig: inspect.Signature = inspect.signature(cls.__init__)\n",
    "        fin_params = []\n",
    "        for param in sig.parameters:\n",
    "            if param == \"self\":\n",
    "                continue\n",
    "            if sig.parameters[param].default == inspect._empty:\n",
    "                fin_params.append((param, sig.parameters[param].annotation))\n",
    "            else:\n",
    "                fin_params.append(\n",
    "                    (\n",
    "                        param,\n",
    "                        sig.parameters[param].annotation,\n",
    "                        field(default=sig.parameters[param].default),\n",
    "                    )  # type: ignore\n",
    "                )\n",
    "\n",
    "        return make_dataclass(cls.__name__ + \"Opts\", fin_params, bases=(Serializable, JsonSchemaMixin))"
   ]
  },
  {
   "cell_type": "code",
   "execution_count": 80,
   "metadata": {},
   "outputs": [],
   "source": [
    "class Foo():\n",
    "\n",
    "    def __init__(self, a: str):\n",
    "        self.a = a\n",
    "\n",
    "    def schema(cls) -> Dict[str, Any]\n"
   ]
  },
  {
   "cell_type": "code",
   "execution_count": 81,
   "metadata": {},
   "outputs": [
    {
     "data": {
      "text/plain": [
       "{'type': 'object',\n",
       " 'properties': {},\n",
       " 'description': 'FooOpts()',\n",
       " '$schema': 'http://json-schema.org/draft-06/schema#'}"
      ]
     },
     "execution_count": 81,
     "metadata": {},
     "output_type": "execute_result"
    }
   ],
   "source": [
    "foo_opts = Foo.as_dataclass()\n",
    "foo_opts.json_schema()"
   ]
  },
  {
   "cell_type": "code",
   "execution_count": null,
   "metadata": {},
   "outputs": [],
   "source": []
  }
 ],
 "metadata": {
  "kernelspec": {
   "display_name": "Python 3.10.1 ('.venv': poetry)",
   "language": "python",
   "name": "python3"
  },
  "language_info": {
   "codemirror_mode": {
    "name": "ipython",
    "version": 3
   },
   "file_extension": ".py",
   "mimetype": "text/x-python",
   "name": "python",
   "nbconvert_exporter": "python",
   "pygments_lexer": "ipython3",
   "version": "3.10.1"
  },
  "orig_nbformat": 4,
  "vscode": {
   "interpreter": {
    "hash": "9cb08cb2a702d17d38c6205b154418aceedf8786af79cc5fee9671f8dd47c302"
   }
  }
 },
 "nbformat": 4,
 "nbformat_minor": 2
}

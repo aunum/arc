{
 "cells": [
  {
   "cell_type": "code",
   "execution_count": 12,
   "metadata": {},
   "outputs": [
    {
     "name": "stdout",
     "output_type": "stream",
     "text": [
      "<class 'super'>\n"
     ]
    },
    {
     "data": {
      "text/plain": [
       "['a', 'b', 'c', 'd']"
      ]
     },
     "execution_count": 12,
     "metadata": {},
     "output_type": "execute_result"
    }
   ],
   "source": [
    "from typing import List\n",
    "\n",
    "class A:\n",
    "    def add(self) -> List[str]:\n",
    "        return [\n",
    "            \"a\",\n",
    "            \"b\",\n",
    "        ]\n",
    "\n",
    "class B(A):\n",
    "    def add(self) -> List[str]:\n",
    "        l = super().add()\n",
    "        l.extend([\"c\", \"d\"])\n",
    "        return l\n",
    "\n",
    "b = B()\n",
    "b.add()"
   ]
  },
  {
   "cell_type": "code",
   "execution_count": 24,
   "metadata": {},
   "outputs": [],
   "source": [
    "from typing import List\n",
    "\n",
    "class A:\n",
    "    def add(self) -> List[str]:\n",
    "        if hasattr(super(), \"add\"):\n",
    "            print(\"has attr\")\n",
    "        print(\"no attr\")"
   ]
  },
  {
   "cell_type": "code",
   "execution_count": 25,
   "metadata": {},
   "outputs": [
    {
     "name": "stdout",
     "output_type": "stream",
     "text": [
      "no attr\n"
     ]
    }
   ],
   "source": [
    "a = A()\n",
    "a.add()"
   ]
  },
  {
   "cell_type": "code",
   "execution_count": 71,
   "metadata": {},
   "outputs": [
    {
     "name": "stdout",
     "output_type": "stream",
     "text": [
      "-----\n",
      "class name:  A\n",
      "class dict:  {'__module__': '__main__', '__qualname__': 'A', 'add': <classmethod(<function A.add at 0x113b396c0>)>}\n",
      "bases:  (<class '__main__.AA'>,)\n",
      "attributeName:  __module__\n",
      "attribute:  __main__\n",
      "type attribute:  <class 'str'>\n",
      "attributeName:  __qualname__\n",
      "attribute:  A\n",
      "type attribute:  <class 'str'>\n",
      "attributeName:  add\n",
      "attribute:  <classmethod(<function A.add at 0x113b396c0>)>\n",
      "type attribute:  <class 'classmethod'>\n",
      "!!found a function!!\n",
      "wrapper!\n"
     ]
    },
    {
     "ename": "AttributeError",
     "evalue": "readonly attribute",
     "output_type": "error",
     "traceback": [
      "\u001b[0;31m---------------------------------------------------------------------------\u001b[0m",
      "\u001b[0;31mAttributeError\u001b[0m                            Traceback (most recent call last)",
      "Cell \u001b[0;32mIn [71], line 51\u001b[0m\n\u001b[1;32m     48\u001b[0m     \u001b[38;5;28;01mdef\u001b[39;00m \u001b[38;5;21msub\u001b[39m(\u001b[38;5;28mself\u001b[39m):\n\u001b[1;32m     49\u001b[0m         \u001b[38;5;28;01mpass\u001b[39;00m\n\u001b[0;32m---> 51\u001b[0m \u001b[38;5;28;01mclass\u001b[39;00m \u001b[38;5;21;01mA\u001b[39;00m(AA, metaclass\u001b[38;5;241m=\u001b[39mMetaClass):\n\u001b[1;32m     52\u001b[0m     \u001b[38;5;129m@classmethod\u001b[39m\n\u001b[1;32m     53\u001b[0m     \u001b[38;5;28;01mdef\u001b[39;00m \u001b[38;5;21madd\u001b[39m(\u001b[38;5;28mself\u001b[39m) \u001b[38;5;241m-\u001b[39m\u001b[38;5;241m>\u001b[39m List[\u001b[38;5;28mstr\u001b[39m]:\n\u001b[1;32m     54\u001b[0m         \u001b[38;5;28;01mreturn\u001b[39;00m [\n\u001b[1;32m     55\u001b[0m             \u001b[38;5;124m\"\u001b[39m\u001b[38;5;124ma\u001b[39m\u001b[38;5;124m\"\u001b[39m,\n\u001b[1;32m     56\u001b[0m             \u001b[38;5;124m\"\u001b[39m\u001b[38;5;124mb\u001b[39m\u001b[38;5;124m\"\u001b[39m,\n\u001b[1;32m     57\u001b[0m         ]\n",
      "Cell \u001b[0;32mIn [71], line 42\u001b[0m, in \u001b[0;36mMetaClass.__new__\u001b[0;34m(meta, classname, bases, classDict)\u001b[0m\n\u001b[1;32m     40\u001b[0m         \u001b[38;5;28mprint\u001b[39m(\u001b[38;5;124m\"\u001b[39m\u001b[38;5;124m!!found a function!!\u001b[39m\u001b[38;5;124m\"\u001b[39m)\n\u001b[1;32m     41\u001b[0m         \u001b[38;5;66;03m# replace it with a wrapped version\u001b[39;00m\n\u001b[0;32m---> 42\u001b[0m         attribute \u001b[38;5;241m=\u001b[39m \u001b[43mwrapper\u001b[49m\u001b[43m(\u001b[49m\u001b[43mattribute\u001b[49m\u001b[43m,\u001b[49m\u001b[43m \u001b[49m\u001b[43mbases\u001b[49m\u001b[43m)\u001b[49m\n\u001b[1;32m     43\u001b[0m     newClassDict[attributeName] \u001b[38;5;241m=\u001b[39m attribute\n\u001b[1;32m     44\u001b[0m \u001b[38;5;28;01mreturn\u001b[39;00m \u001b[38;5;28mtype\u001b[39m\u001b[38;5;241m.\u001b[39m\u001b[38;5;21m__new__\u001b[39m(meta, classname, bases, newClassDict)\n",
      "Cell \u001b[0;32mIn [71], line 9\u001b[0m, in \u001b[0;36mwrapper\u001b[0;34m(method, bases)\u001b[0m\n\u001b[1;32m      4\u001b[0m \u001b[38;5;28;01mdef\u001b[39;00m \u001b[38;5;21mwrapper\u001b[39m(method, bases):\n\u001b[1;32m      5\u001b[0m     \u001b[38;5;28mprint\u001b[39m(\u001b[38;5;124m\"\u001b[39m\u001b[38;5;124mwrapper!\u001b[39m\u001b[38;5;124m\"\u001b[39m)\n\u001b[1;32m      7\u001b[0m \u001b[43m    \u001b[49m\u001b[38;5;129;43m@wraps\u001b[39;49m\u001b[43m(\u001b[49m\u001b[43mmethod\u001b[49m\u001b[43m)\u001b[49m\n\u001b[1;32m      8\u001b[0m \u001b[43m    \u001b[49m\u001b[38;5;129;43m@classmethod\u001b[39;49m\n\u001b[0;32m----> 9\u001b[0m \u001b[43m    \u001b[49m\u001b[38;5;28;43;01mdef\u001b[39;49;00m\u001b[43m \u001b[49m\u001b[38;5;21;43mwrapped\u001b[39;49m\u001b[43m(\u001b[49m\u001b[38;5;28;43mcls\u001b[39;49m\u001b[43m,\u001b[49m\u001b[43m \u001b[49m\u001b[38;5;241;43m*\u001b[39;49m\u001b[43margs\u001b[49m\u001b[43m,\u001b[49m\u001b[43m \u001b[49m\u001b[38;5;241;43m*\u001b[39;49m\u001b[38;5;241;43m*\u001b[39;49m\u001b[43mkwargs\u001b[49m\u001b[43m)\u001b[49m\u001b[43m:\u001b[49m\n\u001b[1;32m     10\u001b[0m \u001b[43m        \u001b[49m\u001b[38;5;28;43mprint\u001b[39;49m\u001b[43m(\u001b[49m\u001b[38;5;124;43m\"\u001b[39;49m\u001b[38;5;124;43mcalling wrapped!!\u001b[39;49m\u001b[38;5;124;43m\"\u001b[39;49m\u001b[43m)\u001b[49m\n\u001b[1;32m     11\u001b[0m \u001b[43m        \u001b[49m\u001b[43mfin\u001b[49m\u001b[43m \u001b[49m\u001b[38;5;241;43m=\u001b[39;49m\u001b[43m \u001b[49m\u001b[43m[\u001b[49m\u001b[43m]\u001b[49m\n",
      "File \u001b[0;32m~/.pyenv/versions/3.10.1/lib/python3.10/functools.py:61\u001b[0m, in \u001b[0;36mupdate_wrapper\u001b[0;34m(wrapper, wrapped, assigned, updated)\u001b[0m\n\u001b[1;32m     58\u001b[0m     \u001b[39mgetattr\u001b[39m(wrapper, attr)\u001b[39m.\u001b[39mupdate(\u001b[39mgetattr\u001b[39m(wrapped, attr, {}))\n\u001b[1;32m     59\u001b[0m \u001b[39m# Issue #17482: set __wrapped__ last so we don't inadvertently copy it\u001b[39;00m\n\u001b[1;32m     60\u001b[0m \u001b[39m# from the wrapped function when updating __dict__\u001b[39;00m\n\u001b[0;32m---> 61\u001b[0m wrapper\u001b[39m.\u001b[39;49m__wrapped__ \u001b[39m=\u001b[39m wrapped\n\u001b[1;32m     62\u001b[0m \u001b[39m# Return the wrapper so this can be used as a decorator via partial()\u001b[39;00m\n\u001b[1;32m     63\u001b[0m \u001b[39mreturn\u001b[39;00m wrapper\n",
      "\u001b[0;31mAttributeError\u001b[0m: readonly attribute"
     ]
    }
   ],
   "source": [
    "from functools import wraps\n",
    "from types import FunctionType, ClassMethodDescriptorType\n",
    "\n",
    "def wrapper(method, bases):\n",
    "    print(\"wrapper!\")\n",
    "\n",
    "    @wraps(method)\n",
    "    @classmethod\n",
    "    def wrapped(cls, *args, **kwargs):\n",
    "        print(\"calling wrapped!!\")\n",
    "        fin = []\n",
    "        for base in bases:\n",
    "            print(\"checking base: \", base)\n",
    "            if hasattr(base, \"add\"):\n",
    "                a = base.add(cls, *args, **kwargs)\n",
    "                print(\"a add: \", a)\n",
    "                fin.extend(a)\n",
    "            # print(\"adding base!!!: \", base.add())\n",
    "        r = method(*args, **kwargs)\n",
    "        fin.extend(r)\n",
    "        return fin\n",
    "    return wrapped\n",
    "\n",
    "class MetaClass(type):\n",
    "    def __new__(meta, classname, bases, classDict):\n",
    "        newClassDict = {}\n",
    "        print(\"-----\")\n",
    "        print(\"class name: \", classname)\n",
    "        print(\"class dict: \", classDict)\n",
    "        print(\"bases: \", bases)\n",
    "        # for base in bases:\n",
    "        #     if hasattr(base, \"add\"):\n",
    "        #         print(\"adding base: \", base)\n",
    "        #         print(\"#$# base add: \", base.add())\n",
    "        for attributeName, attribute in classDict.items():\n",
    "            print(\"attributeName: \", attributeName)\n",
    "            print(\"attribute: \", attribute)\n",
    "            print(\"type attribute: \", type(attribute))\n",
    "            if isinstance(attribute, classmethod):\n",
    "                print(\"!!found a function!!\")\n",
    "                # replace it with a wrapped version\n",
    "                attribute = wrapper(attribute, bases)\n",
    "            newClassDict[attributeName] = attribute\n",
    "        return type.__new__(meta, classname, bases, newClassDict)\n",
    "\n",
    "\n",
    "class AA():\n",
    "    def sub(self):\n",
    "        pass\n",
    "\n",
    "class A(AA, metaclass=MetaClass):\n",
    "    @classmethod\n",
    "    def add(self) -> List[str]:\n",
    "        return [\n",
    "            \"a\",\n",
    "            \"b\",\n",
    "        ]\n",
    "\n",
    "class B(A):\n",
    "    @classmethod\n",
    "    def add(self) -> List[str]:\n",
    "        return [\"c\", \"d\"]\n",
    "\n",
    "class D(B):\n",
    "    @classmethod\n",
    "    def add(self) -> List[str]:\n",
    "        return [\"e\", \"f\"]\n",
    "\n",
    "b = D()\n",
    "b.add()\n"
   ]
  },
  {
   "cell_type": "code",
   "execution_count": 34,
   "metadata": {},
   "outputs": [
    {
     "data": {
      "text/plain": [
       "__main__.A"
      ]
     },
     "execution_count": 34,
     "metadata": {},
     "output_type": "execute_result"
    }
   ],
   "source": [
    "A"
   ]
  },
  {
   "cell_type": "code",
   "execution_count": 33,
   "metadata": {},
   "outputs": [
    {
     "data": {
      "text/plain": [
       "<__main__.A at 0x1135c0df0>"
      ]
     },
     "execution_count": 33,
     "metadata": {},
     "output_type": "execute_result"
    }
   ],
   "source": [
    "A()"
   ]
  },
  {
   "cell_type": "code",
   "execution_count": 47,
   "metadata": {},
   "outputs": [
    {
     "ename": "AttributeError",
     "evalue": "'F' object has no attribute 'a'",
     "output_type": "error",
     "traceback": [
      "\u001b[0;31m---------------------------------------------------------------------------\u001b[0m",
      "\u001b[0;31mAttributeError\u001b[0m                            Traceback (most recent call last)",
      "Cell \u001b[0;32mIn [47], line 13\u001b[0m\n\u001b[1;32m     10\u001b[0m         \u001b[38;5;28;01mpass\u001b[39;00m\n\u001b[1;32m     12\u001b[0m f \u001b[38;5;241m=\u001b[39m F(\u001b[38;5;124m\"\u001b[39m\u001b[38;5;124mx\u001b[39m\u001b[38;5;124m\"\u001b[39m)\n\u001b[0;32m---> 13\u001b[0m f\u001b[38;5;241m.\u001b[39mp()\n",
      "Cell \u001b[0;32mIn [47], line 5\u001b[0m, in \u001b[0;36mE.p\u001b[0;34m(self)\u001b[0m\n\u001b[1;32m      4\u001b[0m \u001b[38;5;28;01mdef\u001b[39;00m \u001b[38;5;21mp\u001b[39m(\u001b[38;5;28mself\u001b[39m):\n\u001b[0;32m----> 5\u001b[0m     \u001b[38;5;28mprint\u001b[39m(\u001b[38;5;28;43mself\u001b[39;49m\u001b[38;5;241;43m.\u001b[39;49m\u001b[43ma\u001b[49m)\n",
      "\u001b[0;31mAttributeError\u001b[0m: 'F' object has no attribute 'a'"
     ]
    }
   ],
   "source": [
    "class E:\n",
    "    def __init__(self, l: str, a: str):\n",
    "        self.a = l\n",
    "    def p(self):\n",
    "        print(\"xz\")\n",
    "\n",
    "class F(E):\n",
    "    def __init__(self, l: str):\n",
    "        # super().__init__(l)\n",
    "        pass\n",
    "\n",
    "f = F(\"x\")\n",
    "f.p()"
   ]
  },
  {
   "cell_type": "code",
   "execution_count": 75,
   "metadata": {},
   "outputs": [],
   "source": [
    "class X:\n",
    "    def accumulate(method):\n",
    "        @wraps(method)\n",
    "        def wrapped(*args, **kwargs):\n",
    "            r = method(*args, **kwargs)\n",
    "            print(\"r: \", r)\n",
    "            return r\n",
    "        return wrapped\n",
    "\n",
    "    def add(self) -> List[str]:\n",
    "        return [\"a\", \"b\"]"
   ]
  },
  {
   "cell_type": "code",
   "execution_count": 76,
   "metadata": {},
   "outputs": [
    {
     "ename": "NameError",
     "evalue": "name 'accumulate' is not defined",
     "output_type": "error",
     "traceback": [
      "\u001b[0;31m---------------------------------------------------------------------------\u001b[0m",
      "\u001b[0;31mNameError\u001b[0m                                 Traceback (most recent call last)",
      "Cell \u001b[0;32mIn [76], line 1\u001b[0m\n\u001b[0;32m----> 1\u001b[0m \u001b[38;5;28;01mclass\u001b[39;00m \u001b[38;5;21;01mY\u001b[39;00m(X):\n\u001b[1;32m      2\u001b[0m     \u001b[38;5;129m@accumulate\u001b[39m\n\u001b[1;32m      3\u001b[0m     \u001b[38;5;28;01mdef\u001b[39;00m \u001b[38;5;21madd\u001b[39m(\u001b[38;5;28mself\u001b[39m) \u001b[38;5;241m-\u001b[39m\u001b[38;5;241m>\u001b[39m List[\u001b[38;5;28mstr\u001b[39m]:\n\u001b[1;32m      4\u001b[0m         \u001b[38;5;28;01mreturn\u001b[39;00m [\u001b[38;5;124m\"\u001b[39m\u001b[38;5;124mb\u001b[39m\u001b[38;5;124m\"\u001b[39m, \u001b[38;5;124m\"\u001b[39m\u001b[38;5;124mc\u001b[39m\u001b[38;5;124m\"\u001b[39m]\n",
      "Cell \u001b[0;32mIn [76], line 2\u001b[0m, in \u001b[0;36mY\u001b[0;34m()\u001b[0m\n\u001b[1;32m      1\u001b[0m \u001b[38;5;28;01mclass\u001b[39;00m \u001b[38;5;21;01mY\u001b[39;00m(X):\n\u001b[0;32m----> 2\u001b[0m     \u001b[38;5;129m@accumulate\u001b[39m\n\u001b[1;32m      3\u001b[0m     \u001b[38;5;28;01mdef\u001b[39;00m \u001b[38;5;21madd\u001b[39m(\u001b[38;5;28mself\u001b[39m) \u001b[38;5;241m-\u001b[39m\u001b[38;5;241m>\u001b[39m List[\u001b[38;5;28mstr\u001b[39m]:\n\u001b[1;32m      4\u001b[0m         \u001b[38;5;28;01mreturn\u001b[39;00m [\u001b[38;5;124m\"\u001b[39m\u001b[38;5;124mb\u001b[39m\u001b[38;5;124m\"\u001b[39m, \u001b[38;5;124m\"\u001b[39m\u001b[38;5;124mc\u001b[39m\u001b[38;5;124m\"\u001b[39m]\n",
      "\u001b[0;31mNameError\u001b[0m: name 'accumulate' is not defined"
     ]
    }
   ],
   "source": [
    "class Y(X):\n",
    "    @accumulate\n",
    "    def add(self) -> List[str]:\n",
    "        return [\"b\", \"c\"]\n",
    "    "
   ]
  },
  {
   "cell_type": "code",
   "execution_count": 120,
   "metadata": {},
   "outputs": [],
   "source": [
    "from dataclasses import make_dataclass, is_dataclass, field\n",
    "from typing import Generic, TypeVar, Type, Dict, Any, Optional\n",
    "import inspect\n",
    "from dataclasses_jsonschema import JsonSchemaMixin, T\n",
    "from simple_parsing.helpers import Serializable\n",
    "from arc.generic import RuntimeGeneric\n",
    "\n",
    "M = TypeVar(\"M\")\n",
    "\n",
    "class DataclassBuilder(RuntimeGeneric, Generic[M]):\n",
    "    @classmethod\n",
    "    def build(cls, reg_cls: Type) -> Optional[Type[M]]:\n",
    "        \"\"\"Generate a dataclass for a class\n",
    "\n",
    "        Args:\n",
    "            cls (Type[&quot;Server&quot;]): A class\n",
    "\n",
    "        Returns:\n",
    "            Opts: A dataclass with the init options of the class\n",
    "        \"\"\"\n",
    "        if is_dataclass(cls):\n",
    "            raise ValueError(\"cannot create a dataclass from a dataclass\")\n",
    "\n",
    "        sig: inspect.Signature = inspect.signature(reg_cls.__init__)\n",
    "        fin_params = []\n",
    "        for param in sig.parameters:\n",
    "            if param == \"self\":\n",
    "                continue\n",
    "            if sig.parameters[param].default == inspect._empty:\n",
    "                fin_params.append((param, sig.parameters[param].annotation))\n",
    "            else:\n",
    "                fin_params.append(\n",
    "                    (\n",
    "                        param,\n",
    "                        sig.parameters[param].annotation,\n",
    "                        field(default=sig.parameters[param].default),\n",
    "                    )  # type: ignore\n",
    "                )\n",
    "        if len(fin_params) == 0:\n",
    "            return None\n",
    "        generic_args = cls.__args__\n",
    "        if len(generic_args) == 0:\n",
    "            return make_dataclass(reg_cls.__name__ + \"Opts\", fin_params)\n",
    "        else:\n",
    "            return make_dataclass(reg_cls.__name__ + \"Opts\", fin_params, bases=generic_args)"
   ]
  },
  {
   "cell_type": "code",
   "execution_count": 127,
   "metadata": {},
   "outputs": [],
   "source": [
    "class Foo():\n",
    "\n",
    "    def __init__(self):\n",
    "        self.a = a\n",
    "\n",
    "    @classmethod\n",
    "    def schema(cls) -> Dict[str, Any]:\n",
    "        opts= DataclassBuilder[JsonSchemaMixin].build(cls)\n",
    "        if opts is None:\n",
    "            return {}\n",
    "        return opts.json_schema()\n",
    "\n",
    "    @classmethod\n",
    "    def opts(cls) -> Optional[Type[Serializable]]:\n",
    "        return DataclassBuilder[Serializable].build(cls)\n"
   ]
  },
  {
   "cell_type": "code",
   "execution_count": 128,
   "metadata": {},
   "outputs": [
    {
     "data": {
      "text/plain": [
       "{}"
      ]
     },
     "execution_count": 128,
     "metadata": {},
     "output_type": "execute_result"
    }
   ],
   "source": [
    "Foo.schema()"
   ]
  },
  {
   "cell_type": "code",
   "execution_count": 129,
   "metadata": {},
   "outputs": [],
   "source": [
    "opts = Foo.opts()"
   ]
  },
  {
   "cell_type": "code",
   "execution_count": 132,
   "metadata": {},
   "outputs": [],
   "source": [
    "opts"
   ]
  },
  {
   "cell_type": "code",
   "execution_count": 134,
   "metadata": {},
   "outputs": [
    {
     "data": {
      "text/plain": [
       "'jj hello!'"
      ]
     },
     "execution_count": 134,
     "metadata": {},
     "output_type": "execute_result"
    }
   ],
   "source": [
    "class R:\n",
    "    def hello(self, a: str) -> str:\n",
    "        return a + \" hello!\"\n",
    "\n",
    "r = R()\n",
    "r.hello(\"jj\")"
   ]
  },
  {
   "cell_type": "code",
   "execution_count": 171,
   "metadata": {},
   "outputs": [
    {
     "name": "stdout",
     "output_type": "stream",
     "text": [
      "attribute:  __main__\n",
      "attr name:  __module__\n",
      "attribute:  A\n",
      "attr name:  __qualname__\n",
      "attribute:  <function A.__init__ at 0x115276b00>\n",
      "attr name:  __init__\n",
      "attribute:  <function A.echo at 0x115277ac0>\n",
      "attr name:  echo\n"
     ]
    }
   ],
   "source": [
    "from functools import wraps\n",
    "from types import FunctionType\n",
    "\n",
    "def init_wrapper(method):\n",
    "    @wraps(method)\n",
    "    def wrapped(*args, **kwargs):\n",
    "        selfVar = args[0]\n",
    "        _kwargs = kwargs.copy()\n",
    "        names = method.__code__.co_varnames\n",
    "        _kwargs.update(zip(names[1:], args[1:]))\n",
    "        if not \"_kwargs\" in selfVar.__dict__:\n",
    "            selfVar.__dict__[\"_kwargs\"] = _kwargs\n",
    "        return method(*args, **kwargs)\n",
    "    return wrapped\n",
    "\n",
    "class ServerMetaClass(type):\n",
    "    def __new__(meta, classname, bases, classDict):\n",
    "        newClassDict = {}\n",
    "        for attributeName, attribute in classDict.items():\n",
    "            if isinstance(attribute, FunctionType):\n",
    "                if attributeName == \"__init__\":\n",
    "                    attribute = init_wrapper(attribute)\n",
    "            newClassDict[attributeName] = attribute\n",
    "        return type.__new__(meta, classname, bases, newClassDict)\n",
    "\n",
    "class A(metaclass=MetaClass):\n",
    "    def __init__(self, a: str, b: int) -> None:\n",
    "        self.a = a\n",
    "\n",
    "    def echo(self, txt: str) -> str:\n",
    "        return self.a + txt"
   ]
  },
  {
   "cell_type": "code",
   "execution_count": 172,
   "metadata": {},
   "outputs": [],
   "source": [
    "a = A(\"hello\", 5)"
   ]
  },
  {
   "cell_type": "code",
   "execution_count": 173,
   "metadata": {},
   "outputs": [
    {
     "data": {
      "text/plain": [
       "'hellotoday'"
      ]
     },
     "execution_count": 173,
     "metadata": {},
     "output_type": "execute_result"
    }
   ],
   "source": [
    "a.echo(\"today\")"
   ]
  },
  {
   "cell_type": "code",
   "execution_count": 174,
   "metadata": {},
   "outputs": [
    {
     "data": {
      "text/plain": [
       "{'_kwargs': {'a': 'hello', 'b': 5}, 'a': 'hello'}"
      ]
     },
     "execution_count": 174,
     "metadata": {},
     "output_type": "execute_result"
    }
   ],
   "source": [
    "a.__dict__"
   ]
  },
  {
   "cell_type": "code",
   "execution_count": 175,
   "metadata": {},
   "outputs": [
    {
     "name": "stdout",
     "output_type": "stream",
     "text": [
      "attribute:  __main__\n",
      "attr name:  __module__\n",
      "attribute:  B\n",
      "attr name:  __qualname__\n",
      "attribute:  <function B.__init__ at 0x115334700>\n",
      "attr name:  __init__\n",
      "attribute:  <cell at 0x115327f40: empty>\n",
      "attr name:  __classcell__\n"
     ]
    }
   ],
   "source": [
    "class B(A):\n",
    "    def __init__(self, a: str, b: int, c: bool) -> None:\n",
    "        super().__init__(a, b)\n",
    "\n",
    "b = B(\"bird\", 1, True)\n"
   ]
  },
  {
   "cell_type": "code",
   "execution_count": 176,
   "metadata": {},
   "outputs": [
    {
     "data": {
      "text/plain": [
       "{'a': 'bird', 'b': 1, 'c': True}"
      ]
     },
     "execution_count": 176,
     "metadata": {},
     "output_type": "execute_result"
    }
   ],
   "source": [
    "b._kwargs"
   ]
  },
  {
   "cell_type": "code",
   "execution_count": 183,
   "metadata": {},
   "outputs": [],
   "source": [
    "if isinstance(b, str):\n",
    "    print(\"yes\")"
   ]
  },
  {
   "cell_type": "code",
   "execution_count": 184,
   "metadata": {},
   "outputs": [
    {
     "data": {
      "text/plain": [
       "PosixPath('/config/config.json')"
      ]
     },
     "execution_count": 184,
     "metadata": {},
     "output_type": "execute_result"
    }
   ],
   "source": [
    "from pathlib import Path\n",
    "\n",
    "Path(\"/config\", \"config.json\")"
   ]
  },
  {
   "cell_type": "code",
   "execution_count": 204,
   "metadata": {},
   "outputs": [
    {
     "name": "stdout",
     "output_type": "stream",
     "text": [
      "outer wrap\n"
     ]
    }
   ],
   "source": [
    "from starlette.applications import Starlette\n",
    "\n",
    "\n",
    "def wrapper(method):\n",
    "    print(\"outer wrap\")\n",
    "    @wraps(method)\n",
    "    def wrapped(*args, **kwargs):\n",
    "        print(\"args: \", args)\n",
    "        print(\"kwargs: \", kwargs)\n",
    "        print(\"inner wrap\")\n",
    "        return method(*args, **kwargs)\n",
    "    return wrapped\n",
    "    \n",
    "class E:\n",
    "    @wrapper\n",
    "    def c(self, a: str) -> None:\n",
    "        print(\"yes: \", a)"
   ]
  },
  {
   "cell_type": "code",
   "execution_count": 205,
   "metadata": {},
   "outputs": [
    {
     "name": "stdout",
     "output_type": "stream",
     "text": [
      "args:  ('help',)\n",
      "kwargs:  {}\n",
      "inner wrap\n"
     ]
    },
    {
     "ename": "TypeError",
     "evalue": "E.c() missing 1 required positional argument: 'a'",
     "output_type": "error",
     "traceback": [
      "\u001b[0;31m---------------------------------------------------------------------------\u001b[0m",
      "\u001b[0;31mTypeError\u001b[0m                                 Traceback (most recent call last)",
      "Cell \u001b[0;32mIn [205], line 1\u001b[0m\n\u001b[0;32m----> 1\u001b[0m E\u001b[38;5;241m.\u001b[39mc(\u001b[38;5;124m\"\u001b[39m\u001b[38;5;124mhelp\u001b[39m\u001b[38;5;124m\"\u001b[39m)\n",
      "Cell \u001b[0;32mIn [204], line 11\u001b[0m, in \u001b[0;36mwrap.<locals>.wrapped\u001b[0;34m(*args, **kwargs)\u001b[0m\n\u001b[1;32m      9\u001b[0m \u001b[38;5;28mprint\u001b[39m(\u001b[38;5;124m\"\u001b[39m\u001b[38;5;124mkwargs: \u001b[39m\u001b[38;5;124m\"\u001b[39m, kwargs)\n\u001b[1;32m     10\u001b[0m \u001b[38;5;28mprint\u001b[39m(\u001b[38;5;124m\"\u001b[39m\u001b[38;5;124minner wrap\u001b[39m\u001b[38;5;124m\"\u001b[39m)\n\u001b[0;32m---> 11\u001b[0m \u001b[38;5;28;01mreturn\u001b[39;00m \u001b[43mmethod\u001b[49m\u001b[43m(\u001b[49m\u001b[38;5;241;43m*\u001b[39;49m\u001b[43margs\u001b[49m\u001b[43m,\u001b[49m\u001b[43m \u001b[49m\u001b[38;5;241;43m*\u001b[39;49m\u001b[38;5;241;43m*\u001b[39;49m\u001b[43mkwargs\u001b[49m\u001b[43m)\u001b[49m\n",
      "\u001b[0;31mTypeError\u001b[0m: E.c() missing 1 required positional argument: 'a'"
     ]
    }
   ],
   "source": [
    "E.c(\"help\")"
   ]
  },
  {
   "cell_type": "code",
   "execution_count": null,
   "metadata": {},
   "outputs": [],
   "source": []
  },
  {
   "cell_type": "code",
   "execution_count": 206,
   "metadata": {},
   "outputs": [],
   "source": [
    "from abc import ABC, abstractmethod, abstractclassmethod\n",
    "\n",
    "class H(ABC):\n",
    "    @abstractmethod\n",
    "    def b(self, c: str) -> bool:\n",
    "        pass\n",
    "\n",
    "    def e(self, r: bool) -> str:\n",
    "        return \"yes\"\n",
    "\n"
   ]
  },
  {
   "cell_type": "code",
   "execution_count": 213,
   "metadata": {},
   "outputs": [],
   "source": [
    "class I(H):\n",
    "    def b(self, c: str) -> bool:\n",
    "        return True"
   ]
  },
  {
   "cell_type": "code",
   "execution_count": 214,
   "metadata": {},
   "outputs": [],
   "source": [
    "import inspect"
   ]
  },
  {
   "cell_type": "code",
   "execution_count": 216,
   "metadata": {},
   "outputs": [],
   "source": [
    "bases = inspect.getmro(I)"
   ]
  },
  {
   "cell_type": "code",
   "execution_count": 218,
   "metadata": {},
   "outputs": [
    {
     "name": "stdout",
     "output_type": "stream",
     "text": [
      "<class '__main__.I'>\n",
      "False\n",
      "<class '__main__.H'>\n",
      "True\n",
      "<class 'abc.ABC'>\n",
      "False\n",
      "<class 'object'>\n",
      "False\n"
     ]
    }
   ],
   "source": [
    "for base in bases:\n",
    "    print(base)\n",
    "    print(inspect.isabstract(base))"
   ]
  },
  {
   "cell_type": "code",
   "execution_count": 1,
   "metadata": {},
   "outputs": [],
   "source": [
    "from arc.serve.server_test import Foo"
   ]
  },
  {
   "cell_type": "code",
   "execution_count": 240,
   "metadata": {},
   "outputs": [
    {
     "data": {
      "text/plain": [
       "(arc.serve.server_test.Foo,\n",
       " arc.serve.server.Server,\n",
       " abc.ABC,\n",
       " arc.serve.server.APIUtil,\n",
       " dataclasses_jsonschema.JsonSchemaMixin,\n",
       " object)"
      ]
     },
     "execution_count": 240,
     "metadata": {},
     "output_type": "execute_result"
    }
   ],
   "source": [
    "inspect.getmro(Foo)"
   ]
  },
  {
   "cell_type": "code",
   "execution_count": 4,
   "metadata": {},
   "outputs": [
    {
     "name": "stdout",
     "output_type": "stream",
     "text": [
      "<class 'arc.serve.server_test.Foo'>\n",
      "base str: <class 'arc.serve.server_test.Foo'>\n",
      "is subs!\n",
      "<class 'arc.serve.server.Server'>\n",
      "base str: <class 'arc.serve.server.Server'>\n",
      "hello!!\n",
      "is subs!\n",
      "<class 'abc.ABC'>\n",
      "base str: <class 'abc.ABC'>\n",
      "<class 'arc.serve.server.APIUtil'>\n",
      "base str: <class 'arc.serve.server.APIUtil'>\n",
      "<class 'dataclasses_jsonschema.JsonSchemaMixin'>\n",
      "base str: <class 'dataclasses_jsonschema.JsonSchemaMixin'>\n",
      "<class 'object'>\n",
      "base str: <class 'object'>\n"
     ]
    }
   ],
   "source": [
    "from arc.serve.server import Server\n",
    "import inspect\n",
    "\n",
    "bases = inspect.getmro(Foo)\n",
    "# bases = bases[1:]\n",
    "for base in bases:\n",
    "    print(base)\n",
    "    print(\"base str:\", str(base))\n",
    "    if base == Server:\n",
    "        print(\"hello!!\")\n",
    "    if isinstance(base, Server):\n",
    "        print(\"is instance!\")\n",
    "        print(base.__name__.lower())\n",
    "    if issubclass(base, Server):\n",
    "        print(\"is subs!\")"
   ]
  },
  {
   "cell_type": "code",
   "execution_count": 231,
   "metadata": {},
   "outputs": [
    {
     "name": "stdout",
     "output_type": "stream",
     "text": [
      "base sub:  <class 'arc.serve.server.Server'>\n"
     ]
    }
   ],
   "source": [
    "bases = inspect.getmro(Foo)\n",
    "bases = bases[1:]\n",
    "for base in bases:\n",
    "    if issubclass(base, Server):\n",
    "        print(\"base sub: \", base)\n",
    "        if inspect.isabstract(base):\n",
    "            print(\"shorty!: \", base.short_name())"
   ]
  },
  {
   "cell_type": "code",
   "execution_count": 233,
   "metadata": {},
   "outputs": [
    {
     "data": {
      "text/plain": [
       "False"
      ]
     },
     "execution_count": 233,
     "metadata": {},
     "output_type": "execute_result"
    }
   ],
   "source": [
    "inspect.isabstract(Foo)"
   ]
  },
  {
   "cell_type": "code",
   "execution_count": 235,
   "metadata": {},
   "outputs": [
    {
     "data": {
      "text/plain": [
       "False"
      ]
     },
     "execution_count": 235,
     "metadata": {},
     "output_type": "execute_result"
    }
   ],
   "source": [
    "from inspect import isabstract\n",
    "\n",
    "\n",
    "isabstract(Foo)"
   ]
  },
  {
   "cell_type": "code",
   "execution_count": 5,
   "metadata": {},
   "outputs": [
    {
     "name": "stdout",
     "output_type": "stream",
     "text": [
      "yeah\n"
     ]
    },
    {
     "data": {
      "text/plain": [
       "'server'"
      ]
     },
     "execution_count": 5,
     "metadata": {},
     "output_type": "execute_result"
    }
   ],
   "source": [
    "Foo.artifact_type()"
   ]
  },
  {
   "cell_type": "code",
   "execution_count": null,
   "metadata": {},
   "outputs": [],
   "source": []
  },
  {
   "cell_type": "code",
   "execution_count": null,
   "metadata": {},
   "outputs": [],
   "source": []
  },
  {
   "cell_type": "code",
   "execution_count": null,
   "metadata": {},
   "outputs": [],
   "source": []
  },
  {
   "cell_type": "markdown",
   "metadata": {},
   "source": [
    "# HTTP-RPC"
   ]
  },
  {
   "cell_type": "code",
   "execution_count": 301,
   "metadata": {},
   "outputs": [],
   "source": [
    "from typing import List, Dict, Any, get_type_hints\n",
    "from functools import wraps\n",
    "from types import FunctionType\n",
    "from inspect import signature\n",
    "from multiprocessing import Process\n",
    "\n",
    "from starlette.responses import JSONResponse\n",
    "from starlette.routing import Route\n",
    "\n",
    "def init_wrapper(method):\n",
    "    @wraps(method)\n",
    "    def wrapped(*args, **kwargs):\n",
    "        self_var = args[0]\n",
    "        _kwargs = kwargs.copy()\n",
    "        names = method.__code__.co_varnames\n",
    "        _kwargs.update(zip(names[1:], args[1:]))\n",
    "        if \"_kwargs\" not in self_var.__dict__:\n",
    "            self_var.__dict__[\"_kwargs\"] = _kwargs\n",
    "        return method(*args, **kwargs)\n",
    "\n",
    "    return wrapped\n",
    "    \n",
    "def req_wrapper(method):\n",
    "    @wraps(method)\n",
    "    def wrapped(*args, **kwargs):\n",
    "        self_var = args[0]\n",
    "        _kwargs = kwargs.copy()\n",
    "        code = method.__code__\n",
    "        print(\"code: \", code)\n",
    "        print(\"code dict: \", )\n",
    "        return method(*args, **kwargs)\n",
    "\n",
    "    return wrapped\n",
    "\n",
    "\n",
    "def local(method):\n",
    "    method.local = True\n",
    "    return method\n",
    "\n",
    "class ServerMetaClass(type):\n",
    "    \"\"\"Server metaclass is the metaclass for the Server type\"\"\"\n",
    "\n",
    "    def __new__(meta, classname, bases, classDict):\n",
    "        newClassDict = {}\n",
    "        routes: List[str] = []\n",
    "\n",
    "        for attributeName, attribute in classDict.items():\n",
    "            if isinstance(attribute, FunctionType):\n",
    "                if hasattr(attribute, \"local\"):\n",
    "                    print(\"!!! ignoring: \", attributeName)\n",
    "                    continue\n",
    "                \n",
    "                if attributeName.startswith(\"__\"):\n",
    "                    continue\n",
    "                \n",
    "                if attributeName == \"__init__\":\n",
    "                    attribute = init_wrapper(attribute)\n",
    "                elif not attributeName.startswith(\"_\"):\n",
    "                    print(\"attribute: \", attribute)\n",
    "                    print(\"sig: \", signature(attribute))\n",
    "                    print(\"sig params: \", signature(attribute).parameters)\n",
    "                    load_lines = []\n",
    "                    sig = signature(attribute)\n",
    "                    for k in sig.parameters:\n",
    "                        print(\"k\", k)\n",
    "                        if k == \"self\":\n",
    "                            continue\n",
    "                        param = sig.parameters[k]\n",
    "                        print(\"param annot: \", param.annotation)\n",
    "                        _op = getattr(param.annotation, \"from_dict\", None)\n",
    "                        print(\"_op: \", _op)\n",
    "                        if callable(_op):\n",
    "                            print(\"!!!! callable\")\n",
    "                            load_lines.append(f\"jdict['{k}'] = {param.annotation.__name__}.from_dict(jdict['{k}'])\")\n",
    "\n",
    "                    hints = get_type_hints(attribute)\n",
    "                    ret = hints[\"return\"]\n",
    "                    ret_op = getattr(ret, \"to_dict\", None)\n",
    "                    ser_line = \"\"\n",
    "                    print(\"ret_op: \", ret_op)\n",
    "                    if callable(ret_op):\n",
    "                        ser_line = \"ret = ret.to_dict()\"\n",
    "                        \n",
    "                    joined_load_lines = \"\\n\".join(load_lines)\n",
    "                    req_code = f\"\"\"\n",
    "async def _{attributeName}_req(self, request): \n",
    "    jdict = await request.json()\n",
    "    {joined_load_lines}\n",
    "    ret = {attributeName}(**jdict)\n",
    "    {ser_line}\n",
    "    return JSONResponse(ret)\n",
    "\"\"\"\n",
    "                    print(\"req code: \", req_code)\n",
    "                    exec(req_code)\n",
    "                    newClassDict[f\"_{attributeName}_req\"] = eval(f\"_{attributeName}_req\")\n",
    "                    routes.append(f\"Route('/{attributeName}', endpoint=self._{attributeName}_req)\")\n",
    "            newClassDict[attributeName] = attribute\n",
    "        \n",
    "        routes_joined = \", \".join(routes)\n",
    "        route_code = f\"\"\"\n",
    "def _routes(self) -> List[Route]:\n",
    "    return [{routes_joined}]\n",
    "\"\"\"\n",
    "        print(\"route code: \", route_code)\n",
    "        exec(route_code)\n",
    "        newClassDict[\"_routes\"] = _routes\n",
    "        return type.__new__(meta, classname, bases, newClassDict)"
   ]
  },
  {
   "cell_type": "code",
   "execution_count": 357,
   "metadata": {},
   "outputs": [
    {
     "name": "stdout",
     "output_type": "stream",
     "text": [
      "route code:  \n",
      "def _routes(self) -> List[Route]:\n",
      "    return []\n",
      "\n"
     ]
    }
   ],
   "source": [
    "import typing\n",
    "from typing import Type\n",
    "\n",
    "class Server(metaclass=ServerMetaClass):\n",
    "    # def _assemble_import(module, name):\n",
    "    #     return 'import {} as {}'.format(module.__name__, name)\n",
    "        \n",
    "    @classmethod\n",
    "    def gen_client(cls) -> str:\n",
    "        fns = inspect.getmembers(cls, predicate=inspect.isfunction)\n",
    "        print(\"fns: \", fns)\n",
    "        params: List[str] = []\n",
    "        methods: List[str] = []\n",
    "        imports: List[str] = []\n",
    "        for name, fn in fns:\n",
    "            if name.startswith(\"_\"):\n",
    "                continue\n",
    "            \n",
    "            print(\"name: \", name)\n",
    "            print(\"fn: \", fn)\n",
    "            sig = inspect.signature(fn)\n",
    "            print(\"sig str: \", str(sig))\n",
    "\n",
    "            # print(\"sig: \", sig)\n",
    "            # print(\"params: \", sig.parameters)\n",
    "\n",
    "            for k in sig.parameters:\n",
    "                if k == \"self\":\n",
    "                    continue\n",
    "                param = sig.parameters[k]\n",
    "                # print(\"param annot: \", param.annotation)\n",
    "                _op = getattr(param.annotation, \"to_dict\", None)\n",
    "                if callable(_op):\n",
    "                    params.append(f\"'{k}': {k}.to_dict()\")\n",
    "                    continue\n",
    "\n",
    "                params.append(f\"'{k}': {k}\")\n",
    "\n",
    "            import_statements: Dict[str, Any] = {}\n",
    "            hints = get_type_hints(fn)\n",
    "\n",
    "            def proc_hint(h: Type):\n",
    "                print(\"===================\")\n",
    "                print(\"processing hint....\")\n",
    "                print(\"===================\")\n",
    "                mod = h.__module__\n",
    "                print(\"h mod: \", mod)\n",
    "\n",
    "                if mod == \"builtins\":\n",
    "                    return\n",
    "            \n",
    "\n",
    "                if isinstance(h, typing._GenericAlias):\n",
    "                    print(\"is generic\")\n",
    "                    args = typing.get_args(h)\n",
    "                    for arg in args:\n",
    "                        print(\"processing arg: \", arg)\n",
    "                        proc_hint(arg)\n",
    "\n",
    "                    origin = typing.get_origin(h)\n",
    "                    if origin == list:\n",
    "                        origin = List\n",
    "                    if origin == dict:\n",
    "                        origin = Dict\n",
    "                    h = origin\n",
    "\n",
    "                import_statements[f\"from {mod} import {h.__name__}\"] = None\n",
    "                \n",
    "            for hint in hints:\n",
    "                print(\"hint: \", hint)\n",
    "                h = hints[hint]\n",
    "                proc_hint(h)\n",
    "            \n",
    "            ret = hints[\"return\"]\n",
    "            ret_op = getattr(ret, \"from_dict\", None)\n",
    "            ser_line = \"ret = jdict['response']\"\n",
    "            print(\"ret_op: \", ret_op)\n",
    "            if callable(ret_op):\n",
    "                ser_line = \"ret = ret.from_dict(jdict)\"\n",
    "\n",
    "            params_joined = \",\".join(params)\n",
    "\n",
    "            client_fn = f\"\"\"\n",
    "    def {name}{sig}:\n",
    "        params = json.dumps({{{params_joined}}}).encode(\"utf8\")\n",
    "        req = request.Request(f\"{{self.server_addr}}/{name}\", data=params, headers={{\"content-type\": \"application/json\"}})\n",
    "        resp = request.urlopen(req)\n",
    "        data = resp.read().decode(\"utf-8\")\n",
    "        jdict = json.loads(data)\n",
    "        {ser_line}\n",
    "        return ret\n",
    "            \"\"\"\n",
    "            methods.append(client_fn)\n",
    "        \n",
    "        imports_joined = \"\\n\".join(import_statements.keys())\n",
    "        methods_joined = \"\\n\".join(methods)\n",
    "        client_file = f\"\"\"\n",
    "from urllib import request\n",
    "import json\n",
    "import logging\n",
    "\n",
    "from arc.serve.server import Client\n",
    "{imports_joined}\n",
    "\n",
    "class {cls.__name__}Client(Client):\n",
    "{methods_joined}\n",
    "        \"\"\"\n",
    "\n",
    "        return client_file\n",
    "\n",
    "    @classmethod\n",
    "    def write_client_file(cls) -> None:\n",
    "        with open(f\"{cls.__name__.lower()}_client.py\", 'w', encoding = 'utf-8') as f:\n",
    "            f.write(cls.gen_client())"
   ]
  },
  {
   "cell_type": "code",
   "execution_count": 358,
   "metadata": {},
   "outputs": [
    {
     "name": "stdout",
     "output_type": "stream",
     "text": [
      "attribute:  <function Model.fit at 0x12bb8b490>\n",
      "sig:  (self, x: List[int], y: List[int], opts: Dict[str, Any]) -> float\n",
      "sig params:  OrderedDict([('self', <Parameter \"self\">), ('x', <Parameter \"x: List[int]\">), ('y', <Parameter \"y: List[int]\">), ('opts', <Parameter \"opts: Dict[str, Any]\">)])\n",
      "k self\n",
      "k x\n",
      "param annot:  typing.List[int]\n",
      "_op:  None\n",
      "k y\n",
      "param annot:  typing.List[int]\n",
      "_op:  None\n",
      "k opts\n",
      "param annot:  typing.Dict[str, typing.Any]\n",
      "_op:  None\n",
      "ret_op:  None\n",
      "req code:  \n",
      "async def _fit_req(self, request): \n",
      "    jdict = await request.json()\n",
      "    \n",
      "    ret = fit(**jdict)\n",
      "    \n",
      "    return JSONResponse(ret)\n",
      "\n",
      "route code:  \n",
      "def _routes(self) -> List[Route]:\n",
      "    return [Route('/fit', endpoint=self._fit_req)]\n",
      "\n"
     ]
    }
   ],
   "source": [
    "class Model(Server):\n",
    "    def fit(self, x: List[int], y: List[int], opts: Dict[str, Any]) -> float:\n",
    "        print(\"fitting x to y\")\n",
    "        return 1"
   ]
  },
  {
   "cell_type": "code",
   "execution_count": 359,
   "metadata": {},
   "outputs": [
    {
     "name": "stdout",
     "output_type": "stream",
     "text": [
      "fns:  [('_fit_req', <function _fit_req at 0x12bb8a050>), ('_routes', <function _routes at 0x12a7ac5e0>), ('fit', <function Model.fit at 0x12bb8b490>)]\n",
      "name:  fit\n",
      "fn:  <function Model.fit at 0x12bb8b490>\n",
      "sig str:  (self, x: List[int], y: List[int], opts: Dict[str, Any]) -> float\n",
      "hint:  x\n",
      "===================\n",
      "processing hint....\n",
      "===================\n",
      "h mod:  typing\n",
      "is generic\n",
      "processing arg:  <class 'int'>\n",
      "===================\n",
      "processing hint....\n",
      "===================\n",
      "h mod:  builtins\n",
      "hint:  y\n",
      "===================\n",
      "processing hint....\n",
      "===================\n",
      "h mod:  typing\n",
      "is generic\n",
      "processing arg:  <class 'int'>\n",
      "===================\n",
      "processing hint....\n",
      "===================\n",
      "h mod:  builtins\n",
      "hint:  opts\n",
      "===================\n",
      "processing hint....\n",
      "===================\n",
      "h mod:  typing\n",
      "is generic\n",
      "processing arg:  <class 'str'>\n",
      "===================\n",
      "processing hint....\n",
      "===================\n",
      "h mod:  builtins\n",
      "processing arg:  typing.Any\n",
      "===================\n",
      "processing hint....\n",
      "===================\n",
      "h mod:  typing\n",
      "hint:  return\n",
      "===================\n",
      "processing hint....\n",
      "===================\n",
      "h mod:  builtins\n",
      "ret_op:  None\n",
      "fns:  [('_fit_req', <function _fit_req at 0x12bb8a050>), ('_routes', <function _routes at 0x12a7ac5e0>), ('fit', <function Model.fit at 0x12bb8b490>)]\n",
      "name:  fit\n",
      "fn:  <function Model.fit at 0x12bb8b490>\n",
      "sig str:  (self, x: List[int], y: List[int], opts: Dict[str, Any]) -> float\n",
      "hint:  x\n",
      "===================\n",
      "processing hint....\n",
      "===================\n",
      "h mod:  typing\n",
      "is generic\n",
      "processing arg:  <class 'int'>\n",
      "===================\n",
      "processing hint....\n",
      "===================\n",
      "h mod:  builtins\n",
      "hint:  y\n",
      "===================\n",
      "processing hint....\n",
      "===================\n",
      "h mod:  typing\n",
      "is generic\n",
      "processing arg:  <class 'int'>\n",
      "===================\n",
      "processing hint....\n",
      "===================\n",
      "h mod:  builtins\n",
      "hint:  opts\n",
      "===================\n",
      "processing hint....\n",
      "===================\n",
      "h mod:  typing\n",
      "is generic\n",
      "processing arg:  <class 'str'>\n",
      "===================\n",
      "processing hint....\n",
      "===================\n",
      "h mod:  builtins\n",
      "processing arg:  typing.Any\n",
      "===================\n",
      "processing hint....\n",
      "===================\n",
      "h mod:  typing\n",
      "hint:  return\n",
      "===================\n",
      "processing hint....\n",
      "===================\n",
      "h mod:  builtins\n",
      "ret_op:  None\n"
     ]
    }
   ],
   "source": [
    "Model.gen_client()\n",
    "Model.write_client_file()"
   ]
  },
  {
   "cell_type": "code",
   "execution_count": 372,
   "metadata": {},
   "outputs": [],
   "source": [
    "from typing import Generic, TypeVar\n",
    "\n",
    "X = TypeVar('X')\n",
    "\n",
    "class A(Generic[X]):\n",
    "    def a(x: X):\n",
    "        print(x)\n",
    "\n",
    "b = A[int]\n",
    "\n",
    "class B:\n",
    "    def b(a: A[int]):\n",
    "        print(a)"
   ]
  },
  {
   "cell_type": "code",
   "execution_count": 376,
   "metadata": {},
   "outputs": [
    {
     "name": "stdout",
     "output_type": "stream",
     "text": [
      "<class 'typing._GenericAlias'>\n"
     ]
    }
   ],
   "source": [
    "from typing import get_origin\n",
    "\n",
    "\n",
    "get_origin(b)\n",
    "print(type(A[int]))"
   ]
  },
  {
   "cell_type": "code",
   "execution_count": 298,
   "metadata": {},
   "outputs": [
    {
     "data": {
      "text/plain": [
       "{'a': __main__.A[int]}"
      ]
     },
     "execution_count": 298,
     "metadata": {},
     "output_type": "execute_result"
    }
   ],
   "source": [
    "h = typing.get_type_hints(B.b)\n",
    "h"
   ]
  },
  {
   "cell_type": "code",
   "execution_count": 335,
   "metadata": {},
   "outputs": [
    {
     "data": {
      "text/plain": [
       "(int,)"
      ]
     },
     "execution_count": 335,
     "metadata": {},
     "output_type": "execute_result"
    }
   ],
   "source": [
    "typing.get_args(h['a'])"
   ]
  },
  {
   "cell_type": "code",
   "execution_count": 287,
   "metadata": {},
   "outputs": [
    {
     "data": {
      "text/plain": [
       "NoneType"
      ]
     },
     "execution_count": 287,
     "metadata": {},
     "output_type": "execute_result"
    }
   ],
   "source": [
    "type(a)"
   ]
  },
  {
   "cell_type": "code",
   "execution_count": 239,
   "metadata": {},
   "outputs": [
    {
     "data": {
      "text/plain": [
       "<function _GenericAlias.mro()>"
      ]
     },
     "execution_count": 239,
     "metadata": {},
     "output_type": "execute_result"
    }
   ],
   "source": [
    "typing._GenericAlias.mro"
   ]
  },
  {
   "cell_type": "code",
   "execution_count": 206,
   "metadata": {},
   "outputs": [
    {
     "name": "stdout",
     "output_type": "stream",
     "text": [
      "route code:  \n",
      "def _routes(self) -> List[Route]:\n",
      "    return []\n",
      "\n"
     ]
    }
   ],
   "source": [
    "class B(metaclass=ServerMetaClass):\n",
    "    pass"
   ]
  },
  {
   "cell_type": "code",
   "execution_count": 220,
   "metadata": {},
   "outputs": [
    {
     "data": {
      "text/plain": [
       "'typing'"
      ]
     },
     "execution_count": 220,
     "metadata": {},
     "output_type": "execute_result"
    }
   ],
   "source": [
    "List.__module__"
   ]
  },
  {
   "cell_type": "code",
   "execution_count": 190,
   "metadata": {},
   "outputs": [
    {
     "name": "stdout",
     "output_type": "stream",
     "text": [
      "route code:  \n",
      "def _routes(self) -> List[Route]:\n",
      "    return []\n",
      "\n",
      "!!! ignoring:  name\n",
      "attribute:  <function A.echo at 0x12b73fe20>\n",
      "sig:  (self, s: str, append: bool = True) -> str\n",
      "sig params:  OrderedDict([('self', <Parameter \"self\">), ('s', <Parameter \"s: str\">), ('append', <Parameter \"append: bool = True\">)])\n",
      "k self\n",
      "k s\n",
      "param annot:  <class 'str'>\n",
      "_op:  None\n",
      "k append\n",
      "param annot:  <class 'bool'>\n",
      "_op:  None\n",
      "ret_op:  None\n",
      "req code:  \n",
      "async def _echo_req(self, request): \n",
      "    jdict = await request.json()\n",
      "    \n",
      "    ret = echo(**jdict)\n",
      "    \n",
      "    return JSONResponse(ret)\n",
      "\n",
      "attribute:  <function A.add at 0x12b7dc3a0>\n",
      "sig:  (self, x: int, y: int) -> int\n",
      "sig params:  OrderedDict([('self', <Parameter \"self\">), ('x', <Parameter \"x: int\">), ('y', <Parameter \"y: int\">)])\n",
      "k self\n",
      "k x\n",
      "param annot:  <class 'int'>\n",
      "_op:  None\n",
      "k y\n",
      "param annot:  <class 'int'>\n",
      "_op:  None\n",
      "ret_op:  None\n",
      "req code:  \n",
      "async def _add_req(self, request): \n",
      "    jdict = await request.json()\n",
      "    \n",
      "    ret = add(**jdict)\n",
      "    \n",
      "    return JSONResponse(ret)\n",
      "\n",
      "attribute:  <function A.obj_ser at 0x12b7dc430>\n",
      "sig:  (self, o: __main__.ObjSer) -> __main__.ObjSer\n",
      "sig params:  OrderedDict([('self', <Parameter \"self\">), ('o', <Parameter \"o: __main__.ObjSer\">)])\n",
      "k self\n",
      "k o\n",
      "param annot:  <class '__main__.ObjSer'>\n",
      "_op:  <bound method ObjSer.from_dict of <class '__main__.ObjSer'>>\n",
      "!!!! callable\n",
      "ret_op:  <function ObjSer.to_dict at 0x12b7dc310>\n",
      "req code:  \n",
      "async def _obj_ser_req(self, request): \n",
      "    jdict = await request.json()\n",
      "    jdict['o'] = ObjSer.from_dict(jdict['o'])\n",
      "    ret = obj_ser(**jdict)\n",
      "    ret = ret.to_dict()\n",
      "    return JSONResponse(ret)\n",
      "\n",
      "route code:  \n",
      "def _routes(self) -> List[Route]:\n",
      "    return [Route('/echo', endpoint=self.echo), Route('/add', endpoint=self.add), Route('/obj_ser', endpoint=self.obj_ser)]\n",
      "\n"
     ]
    }
   ],
   "source": [
    "class ObjSer:\n",
    "    def __init__(self, a: str, b: int) -> None:\n",
    "        self.a = a\n",
    "        self.b = b\n",
    "\n",
    "    @classmethod\n",
    "    def from_dict(cls, d: Dict[str, Any]) -> \"ObjSer\":\n",
    "        return cls(**d)\n",
    "\n",
    "    def to_dict(self) -> Dict[str, Any]:\n",
    "        return {\"a\": a, \"b\": b}\n",
    "\n",
    "class B(metaclass=ServerMetaClass):\n",
    "    pass\n",
    "\n",
    "class A(metaclass=ServerMetaClass):\n",
    "    \"\"\"A A class\"\"\"\n",
    "\n",
    "    def __init__(self, a: str, b: int, c: bool, d: List[str], e: Dict[str, Any] = {\"int\": 1}):\n",
    "        \"\"\"Create an A class\n",
    "\n",
    "        Args:\n",
    "            a (str): A str\n",
    "            b (int): B int\n",
    "            c (bool): C bool\n",
    "            d (List[str]): D list of str\n",
    "            e (Dict[str, Any], optional): E dict. Defaults to {\"int\": 1}.\n",
    "        \"\"\"\n",
    "        self.a = a\n",
    "        self.b = b\n",
    "        self.c = c\n",
    "        self.d = d\n",
    "        self.e = e\n",
    "\n",
    "    @local\n",
    "    def name(self) -> str:\n",
    "        \"\"\"Name of the class\n",
    "\n",
    "        Returns:\n",
    "            str: The name of the class\n",
    "        \"\"\"\n",
    "        return \"A\"\n",
    "\n",
    "    def echo(self, s: str, append: bool = True) -> str:\n",
    "        \"\"\"Echo back the str\n",
    "\n",
    "        Args:\n",
    "            s (str): Str to echo\n",
    "            append (bool, optional): Whether to append to the str when echoed\n",
    "\n",
    "        Returns:\n",
    "            str: The echoed string\n",
    "        \"\"\"\n",
    "        if append:\n",
    "            return s + \" hello\"\n",
    "        \n",
    "        return s\n",
    "\n",
    "    def add(self, x: int, y: int) -> int:\n",
    "        \"\"\"Add x and y\n",
    "\n",
    "        Args:\n",
    "            x (int): x to add\n",
    "            y (int): y to add\n",
    "\n",
    "        Returns:\n",
    "            int: Sum of the numbers\n",
    "        \"\"\"\n",
    "        return x + y   \n",
    "\n",
    "    def obj_ser(self, o: ObjSer) -> ObjSer:\n",
    "        \"\"\"Test a serializable object\n",
    "\n",
    "        Args:\n",
    "            o (ObjSer): A serializable object\n",
    "\n",
    "        Returns:\n",
    "            ObjSer: A serializable object\n",
    "        \"\"\"\n",
    "        return o \n",
    "\n",
    "    def _bool_to_int(self, c: bool) -> int:\n",
    "        return int(c) \n"
   ]
  },
  {
   "cell_type": "code",
   "execution_count": 139,
   "metadata": {},
   "outputs": [
    {
     "name": "stdout",
     "output_type": "stream",
     "text": [
      "attribute:  <function B.new_meth at 0x12a1ff520>\n",
      "sig:  (self, c: int) -> bool\n",
      "sig params:  OrderedDict([('self', <Parameter \"self\">), ('c', <Parameter \"c: int\">)])\n",
      "k self\n",
      "k c\n",
      "param annot:  <class 'int'>\n",
      "_op:  None\n",
      "ret_op:  None\n",
      "req code:  \n",
      "async def _new_meth_req(self, request): \n",
      "    jdict = await request.json()\n",
      "    \n",
      "    ret = new_meth(**jdict)\n",
      "    \n",
      "    return JSONResponse(ret)\n",
      "\n",
      "route code:  \n",
      "def _routes(self) -> List[Route]:\n",
      "    return [Route('/new_meth', endpoint=self.new_meth)]\n",
      "\n"
     ]
    }
   ],
   "source": [
    "class B(A):\n",
    "    def new_meth(self, c: int) -> bool:\n",
    "        return True"
   ]
  },
  {
   "cell_type": "code",
   "execution_count": 124,
   "metadata": {},
   "outputs": [
    {
     "data": {
      "text/plain": [
       "mappingproxy({'__module__': '__main__',\n",
       "              '_new_meth_req': <function __main__._new_meth_req(self, request)>,\n",
       "              'new_meth': <function __main__.B.new_meth(self, c: int) -> bool>,\n",
       "              '_routes': <function __main__._routes() -> List[starlette.routing.Route]>,\n",
       "              '__doc__': None})"
      ]
     },
     "execution_count": 124,
     "metadata": {},
     "output_type": "execute_result"
    }
   ],
   "source": [
    "B.__dict__"
   ]
  },
  {
   "cell_type": "code",
   "execution_count": 85,
   "metadata": {},
   "outputs": [
    {
     "data": {
      "text/plain": [
       "''"
      ]
     },
     "execution_count": 85,
     "metadata": {},
     "output_type": "execute_result"
    }
   ],
   "source": [
    "j = []\n",
    "\"\\n\".join(j)"
   ]
  },
  {
   "cell_type": "code",
   "execution_count": 99,
   "metadata": {},
   "outputs": [],
   "source": [
    "t = eval(\"lambda: print('hello')\")"
   ]
  },
  {
   "cell_type": "code",
   "execution_count": 92,
   "metadata": {},
   "outputs": [],
   "source": [
    "a = c"
   ]
  },
  {
   "cell_type": "code",
   "execution_count": 93,
   "metadata": {},
   "outputs": [
    {
     "name": "stdout",
     "output_type": "stream",
     "text": [
      "hello\n"
     ]
    }
   ],
   "source": [
    "a()"
   ]
  },
  {
   "cell_type": "code",
   "execution_count": 100,
   "metadata": {},
   "outputs": [
    {
     "name": "stdout",
     "output_type": "stream",
     "text": [
      "hello\n"
     ]
    }
   ],
   "source": [
    "t()"
   ]
  },
  {
   "cell_type": "code",
   "execution_count": 111,
   "metadata": {},
   "outputs": [],
   "source": [
    "route_code = f\"\"\"\n",
    "def _routes() -> List[Route]:\n",
    "    return [Route(\"/path\", endpoint=t),]\n",
    "\"\"\""
   ]
  },
  {
   "cell_type": "code",
   "execution_count": 112,
   "metadata": {},
   "outputs": [],
   "source": [
    "exec(route_code)"
   ]
  },
  {
   "cell_type": "code",
   "execution_count": 113,
   "metadata": {},
   "outputs": [
    {
     "data": {
      "text/plain": [
       "[<starlette.routing.Route at 0x12a1b2f50>]"
      ]
     },
     "execution_count": 113,
     "metadata": {},
     "output_type": "execute_result"
    }
   ],
   "source": [
    "_routes()"
   ]
  },
  {
   "cell_type": "code",
   "execution_count": 178,
   "metadata": {},
   "outputs": [],
   "source": [
    "class E:\n",
    "    def hello(self, a: str) -> bool:\n",
    "        return True\n",
    "\n",
    "class F(E):\n",
    "    def d(self, b: bool) -> int:\n",
    "        return 1"
   ]
  },
  {
   "cell_type": "code",
   "execution_count": 179,
   "metadata": {},
   "outputs": [
    {
     "data": {
      "text/plain": [
       "mappingproxy({'__module__': '__main__',\n",
       "              'd': <function __main__.F.d(self, b: bool) -> int>,\n",
       "              '__doc__': None})"
      ]
     },
     "execution_count": 179,
     "metadata": {},
     "output_type": "execute_result"
    }
   ],
   "source": [
    "F.__dict__"
   ]
  },
  {
   "cell_type": "code",
   "execution_count": 184,
   "metadata": {},
   "outputs": [
    {
     "name": "stdout",
     "output_type": "stream",
     "text": [
      "name:  d\n",
      "fn:  <function F.d at 0x12b73cca0>\n",
      "name:  hello\n",
      "fn:  <function E.hello at 0x12b73d750>\n"
     ]
    }
   ],
   "source": [
    "fns = inspect.getmembers(F, predicate=inspect.isfunction)\n",
    "\n",
    "for name, fn in fns:\n",
    "    print(\"name: \", name)\n",
    "    print(\"fn: \", fn)"
   ]
  },
  {
   "cell_type": "code",
   "execution_count": 172,
   "metadata": {},
   "outputs": [
    {
     "data": {
      "text/plain": [
       "['__class__',\n",
       " '__delattr__',\n",
       " '__dict__',\n",
       " '__dir__',\n",
       " '__doc__',\n",
       " '__eq__',\n",
       " '__format__',\n",
       " '__ge__',\n",
       " '__getattribute__',\n",
       " '__gt__',\n",
       " '__hash__',\n",
       " '__init__',\n",
       " '__init_subclass__',\n",
       " '__le__',\n",
       " '__lt__',\n",
       " '__module__',\n",
       " '__ne__',\n",
       " '__new__',\n",
       " '__reduce__',\n",
       " '__reduce_ex__',\n",
       " '__repr__',\n",
       " '__setattr__',\n",
       " '__sizeof__',\n",
       " '__str__',\n",
       " '__subclasshook__',\n",
       " '__weakref__',\n",
       " 'd',\n",
       " 'hello']"
      ]
     },
     "execution_count": 172,
     "metadata": {},
     "output_type": "execute_result"
    }
   ],
   "source": [
    "dir(F)"
   ]
  },
  {
   "cell_type": "code",
   "execution_count": 127,
   "metadata": {},
   "outputs": [
    {
     "data": {
      "text/plain": [
       "<function __main__.E.hello(a: str) -> bool>"
      ]
     },
     "execution_count": 127,
     "metadata": {},
     "output_type": "execute_result"
    }
   ],
   "source": [
    "F.hello"
   ]
  },
  {
   "cell_type": "code",
   "execution_count": 158,
   "metadata": {},
   "outputs": [],
   "source": [
    "class C:\n",
    "    @staticmethod\n",
    "    def a() -> List[str]:\n",
    "        return [\"s\"]\n",
    "\n",
    "class D(C):\n",
    "    @staticmethod\n",
    "    def a() -> List[str]:\n",
    "        print(super())"
   ]
  },
  {
   "cell_type": "code",
   "execution_count": 159,
   "metadata": {},
   "outputs": [
    {
     "ename": "RuntimeError",
     "evalue": "super(): no arguments",
     "output_type": "error",
     "traceback": [
      "\u001b[0;31m---------------------------------------------------------------------------\u001b[0m",
      "\u001b[0;31mRuntimeError\u001b[0m                              Traceback (most recent call last)",
      "Cell \u001b[0;32mIn [159], line 5\u001b[0m\n\u001b[1;32m      2\u001b[0m c\u001b[38;5;241m.\u001b[39ma()\n\u001b[1;32m      4\u001b[0m d \u001b[38;5;241m=\u001b[39m D()\n\u001b[0;32m----> 5\u001b[0m d\u001b[38;5;241m.\u001b[39ma()\n",
      "Cell \u001b[0;32mIn [158], line 9\u001b[0m, in \u001b[0;36mD.a\u001b[0;34m()\u001b[0m\n\u001b[1;32m      7\u001b[0m \u001b[38;5;129m@staticmethod\u001b[39m\n\u001b[1;32m      8\u001b[0m \u001b[38;5;28;01mdef\u001b[39;00m \u001b[38;5;21ma\u001b[39m() \u001b[38;5;241m-\u001b[39m\u001b[38;5;241m>\u001b[39m List[\u001b[38;5;28mstr\u001b[39m]:\n\u001b[0;32m----> 9\u001b[0m     \u001b[38;5;28mprint\u001b[39m(\u001b[38;5;28;43msuper\u001b[39;49m\u001b[43m(\u001b[49m\u001b[43m)\u001b[49m)\n",
      "\u001b[0;31mRuntimeError\u001b[0m: super(): no arguments"
     ]
    }
   ],
   "source": [
    "c = C()\n",
    "c.a()\n",
    "\n",
    "d = D()\n",
    "d.a()"
   ]
  },
  {
   "cell_type": "code",
   "execution_count": 259,
   "metadata": {},
   "outputs": [
    {
     "data": {
      "text/plain": [
       "['s']"
      ]
     },
     "execution_count": 259,
     "metadata": {},
     "output_type": "execute_result"
    }
   ],
   "source": [
    "C.a()"
   ]
  },
  {
   "cell_type": "code",
   "execution_count": 260,
   "metadata": {},
   "outputs": [],
   "source": [
    "from abc import abstractclassmethod"
   ]
  },
  {
   "cell_type": "code",
   "execution_count": 261,
   "metadata": {},
   "outputs": [],
   "source": [
    "loca = locals().copy()"
   ]
  },
  {
   "cell_type": "code",
   "execution_count": 262,
   "metadata": {},
   "outputs": [],
   "source": [
    "f = filter(lambda x: inspect.ismodule(x[1]), loca.items())"
   ]
  },
  {
   "cell_type": "code",
   "execution_count": 263,
   "metadata": {},
   "outputs": [
    {
     "name": "stdout",
     "output_type": "stream",
     "text": [
      "('__builtin__', <module 'builtins' (built-in)>)\n",
      "('__builtins__', <module 'builtins' (built-in)>)\n",
      "('sys', <module 'sys' (built-in)>)\n",
      "('os', <module 'os' from '/Users/patrickbarker/.pyenv/versions/3.10.1/lib/python3.10/os.py'>)\n",
      "('inspect', <module 'inspect' from '/Users/patrickbarker/.pyenv/versions/3.10.1/lib/python3.10/inspect.py'>)\n",
      "('typing', <module 'typing' from '/Users/patrickbarker/.pyenv/versions/3.10.1/lib/python3.10/typing.py'>)\n"
     ]
    }
   ],
   "source": [
    "for e in f:\n",
    "    print(e)"
   ]
  },
  {
   "cell_type": "code",
   "execution_count": 264,
   "metadata": {},
   "outputs": [
    {
     "data": {
      "text/plain": [
       "dict_keys(['__name__', '__doc__', '__package__', '__loader__', '__spec__', '__builtin__', '__builtins__', '_ih', '_oh', '_dh', 'In', 'Out', 'get_ipython', 'exit', 'quit', '_', '__', '___', 'sys', 'os', '__vsc_ipynb_file__', '_i', '_ii', '_iii', '_i1', 'Foo', '_i2', '_2', '_i3', 'Server', '_i4', 'inspect', 'bases', 'base', '_i5', '_5', '_i6', 'init_wrapper', 'req_wrapper', 'ServerMetaClass', '_i7', '_i8', 'List', '_i9', '_i10', 'Dict', '_i11', '_i12', 'Any', '_i13', '_i14', 'wraps', 'FunctionType', '_i15', 'A', '_i16', '_i17', '_i18', 'a', '_i19', '_19', '_i20', '_i21', '_i22', '_i23', '_i24', 'add', '_i25', '_i26', '_26', '_i27', '_i28', '_28', '_i29', '_i30', '_30', '_i31', '_i32', '_i33', 'add1', '_i34', '_i35', '_i36', '_i37', '_37', '_i38', '_i39', '_39', '_i40', '_i41', '_41', '_i42', '_i43', '_43', '_i44', '_i45', '_45', '_i46', '_46', '_i47', '_i48', '_48', '_i49', '_i50', '_50', '_i51', '_51', '_i52', '_i53', '_i54', 'signature', '_i55', '_i56', '_i57', '_i58', '_i59', '_i60', '_i61', '_i62', '_i63', '_i64', '_i65', '_i66', '_i67', 'ObjSer', '_i68', '_i69', '_i70', '_70', '_i71', '_i72', '_i73', '_i74', '_i75', '_i76', '_i77', '_i78', '_i79', '_i80', '_i81', '_i82', '_i83', '_i84', '_i85', 'j', '_85', '_i86', '_i87', '_87', '_i88', '_i89', 'get_type_hints', 'JSONResponse', 'Route', '_i90', '_i91', 'c', '_i92', '_i93', '_i94', '_i95', '_i96', '_i97', 't', '_i98', '_i99', '_i100', '_i101', '_i102', '_i103', 'route_code', '_i104', '_i105', '_i106', '_routes', '_i107', '_i108', '_i109', '_i110', '_i111', '_i112', '_i113', '_113', '_i114', '_i115', '_i116', '_i117', '_i118', '_i119', '_i120', '_i121', '_i122', '_i123', 'B', '_i124', '_124', '_i125', 'E', 'F', '_i126', '_126', '_i127', '_127', '_i128', 'Process', '_i129', '_i130', '_i131', '_i132', 'C', '_i133', '_i134', '_i135', '_135', '_i136', '_i137', '_i138', '_i139', '_i140', 'D', '_i141', '_141', '_i142', '_i143', '_143', '_i144', 'd', '_i145', '_i146', '_i147', '_i148', '_i149', '_i150', '_150', '_i151', '_i152', '_i153', '_i154', '_i155', '_i156', '_i157', '_i158', '_i159', '_i160', '_i161', '_i162', '_i163', '_i164', '_i165', '_i166', 'local', '_i167', '_i168', '_i169', '_169', '_i170', '_170', '_i171', '_171', '_i172', '_172', '_i173', '_173', '_i174', '_174', '_i175', '_175', '_i176', '_176', '_i177', '_177', '_i178', '_i179', '_179', '_i180', '_180', '_i181', '_181', '_i182', '_182', '_i183', '_183', '_i184', 'fns', 'name', 'fn', '_i185', '_i186', '_i187', '_i188', '_i189', '_i190', '_i191', '_i192', '_i193', 'Model', '_i194', '_i195', '_i196', '_i197', '_i198', '_198', '_i199', '_i200', '_i201', '_201', '_i202', '_i203', '_i204', '_i205', '_205', '_i206', '_i207', '_i208', '_i209', '_209', '_i210', '_i211', '_i212', '_212', '_i213', '_i214', '_i215', '_i216', '_216', '_i217', '_i218', '_i219', '_i220', '_220', '_i221', '_i222', '_i223', '_i224', '_i225', '_i226', '_i227', '_i228', '_i229', '_i230', '_i231', '_i232', '_i233', '_i234', '_i235', '_i236', '_i237', '_i238', 'typing', '_i239', '_239', '_i240', '_240', '_i241', '_i242', '_242', '_i243', 's', '_i244', '_i245', 'f', '_i246', '_i247', '_247', '_i248', 'ModuleFinder', 'finder', '_i249', '_249', '_i250', 'loca', '_i251', '_i252', 'e', '_i253', '_i254', '_254', '_i255', '_255', '_i256', '_i257', '_257', '_i258', '_258', '_i259', '_259', '_i260', 'abstractclassmethod', '_i261'])"
      ]
     },
     "execution_count": 264,
     "metadata": {},
     "output_type": "execute_result"
    }
   ],
   "source": [
    "loca.keys()"
   ]
  },
  {
   "cell_type": "code",
   "execution_count": 267,
   "metadata": {},
   "outputs": [
    {
     "data": {
      "text/plain": [
       "type"
      ]
     },
     "execution_count": 267,
     "metadata": {},
     "output_type": "execute_result"
    }
   ],
   "source": [
    "inspect.isty(loca[\"abstractclassmethod\"])"
   ]
  },
  {
   "cell_type": "code",
   "execution_count": 269,
   "metadata": {},
   "outputs": [],
   "source": [
    "from modulefinder import ModuleFinder\n",
    "\n",
    "finder = ModuleFinder()"
   ]
  },
  {
   "cell_type": "code",
   "execution_count": 362,
   "metadata": {},
   "outputs": [
    {
     "data": {
      "text/plain": [
       "False"
      ]
     },
     "execution_count": 362,
     "metadata": {},
     "output_type": "execute_result"
    }
   ],
   "source": [
    "typ = List\n",
    "get_origin(typ) == typing.Generic"
   ]
  },
  {
   "cell_type": "code",
   "execution_count": null,
   "metadata": {},
   "outputs": [],
   "source": [
    "import importlib\n",
    "importlib.import_module(\"\")"
   ]
  }
 ],
 "metadata": {
  "kernelspec": {
   "display_name": "Python 3.10.1 ('.venv': poetry)",
   "language": "python",
   "name": "python3"
  },
  "language_info": {
   "codemirror_mode": {
    "name": "ipython",
    "version": 3
   },
   "file_extension": ".py",
   "mimetype": "text/x-python",
   "name": "python",
   "nbconvert_exporter": "python",
   "pygments_lexer": "ipython3",
   "version": "3.10.1"
  },
  "orig_nbformat": 4,
  "vscode": {
   "interpreter": {
    "hash": "9cb08cb2a702d17d38c6205b154418aceedf8786af79cc5fee9671f8dd47c302"
   }
  }
 },
 "nbformat": 4,
 "nbformat_minor": 2
}

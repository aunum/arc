{
 "cells": [
  {
   "cell_type": "code",
   "execution_count": 201,
   "metadata": {},
   "outputs": [],
   "source": [
    "class A:\n",
    "    def delete(self):\n",
    "        del self\n",
    "\n",
    "a = A()"
   ]
  },
  {
   "cell_type": "code",
   "execution_count": 202,
   "metadata": {},
   "outputs": [],
   "source": [
    "from enum import Enum\n",
    "\n",
    "class E(Enum):\n",
    "    A = \"a\"\n",
    "    B = \"b\""
   ]
  },
  {
   "cell_type": "code",
   "execution_count": 204,
   "metadata": {},
   "outputs": [
    {
     "data": {
      "text/plain": [
       "mappingproxy({'_generate_next_value_': <function enum.Enum._generate_next_value_(name, start, count, last_values)>,\n",
       "              '__module__': '__main__',\n",
       "              '__doc__': 'An enumeration.',\n",
       "              '_member_names_': ['A', 'B'],\n",
       "              '_member_map_': {'A': <E.A: 'a'>, 'B': <E.B: 'b'>},\n",
       "              '_member_type_': object,\n",
       "              '_value2member_map_': {'a': <E.A: 'a'>, 'b': <E.B: 'b'>},\n",
       "              'A': <E.A: 'a'>,\n",
       "              'B': <E.B: 'b'>,\n",
       "              '__new__': <function enum.Enum.__new__(cls, value)>})"
      ]
     },
     "execution_count": 204,
     "metadata": {},
     "output_type": "execute_result"
    }
   ],
   "source": [
    "E.__dict__"
   ]
  },
  {
   "cell_type": "code",
   "execution_count": 207,
   "metadata": {},
   "outputs": [],
   "source": [
    "e = E.A"
   ]
  },
  {
   "cell_type": "code",
   "execution_count": 208,
   "metadata": {},
   "outputs": [
    {
     "data": {
      "text/plain": [
       "{'_value_': 'a', '_name_': 'A', '__objclass__': <enum 'E'>}"
      ]
     },
     "execution_count": 208,
     "metadata": {},
     "output_type": "execute_result"
    }
   ],
   "source": [
    "e.__dict__"
   ]
  },
  {
   "cell_type": "code",
   "execution_count": 210,
   "metadata": {},
   "outputs": [
    {
     "ename": "ImportError",
     "evalue": "cannot import name 'NoneType' from 'typing' (/Users/patrickbarker/.pyenv/versions/3.10.1/lib/python3.10/typing.py)",
     "output_type": "error",
     "traceback": [
      "\u001b[0;31m---------------------------------------------------------------------------\u001b[0m",
      "\u001b[0;31mImportError\u001b[0m                               Traceback (most recent call last)",
      "Cell \u001b[0;32mIn [210], line 1\u001b[0m\n\u001b[0;32m----> 1\u001b[0m \u001b[38;5;28;01mfrom\u001b[39;00m \u001b[38;5;21;01mtyping\u001b[39;00m \u001b[38;5;28;01mimport\u001b[39;00m NoneType\n",
      "\u001b[0;31mImportError\u001b[0m: cannot import name 'NoneType' from 'typing' (/Users/patrickbarker/.pyenv/versions/3.10.1/lib/python3.10/typing.py)"
     ]
    }
   ],
   "source": [
    "from typing import NoneType"
   ]
  },
  {
   "cell_type": "code",
   "execution_count": 2,
   "metadata": {},
   "outputs": [],
   "source": [
    "a.delete()"
   ]
  },
  {
   "cell_type": "code",
   "execution_count": 3,
   "metadata": {},
   "outputs": [
    {
     "name": "stdout",
     "output_type": "stream",
     "text": [
      "<__main__.A object at 0x12f8e9ea0>\n"
     ]
    }
   ],
   "source": [
    "print(a)"
   ]
  },
  {
   "cell_type": "code",
   "execution_count": 9,
   "metadata": {},
   "outputs": [],
   "source": [
    "import arc.core.resource"
   ]
  },
  {
   "cell_type": "code",
   "execution_count": 10,
   "metadata": {},
   "outputs": [],
   "source": [
    "r = arc.core.resource.Resource"
   ]
  },
  {
   "cell_type": "code",
   "execution_count": 11,
   "metadata": {},
   "outputs": [
    {
     "data": {
      "text/plain": [
       "'arc.core.resource'"
      ]
     },
     "execution_count": 11,
     "metadata": {},
     "output_type": "execute_result"
    }
   ],
   "source": [
    "r.__module__"
   ]
  },
  {
   "cell_type": "code",
   "execution_count": 12,
   "metadata": {},
   "outputs": [
    {
     "data": {
      "text/plain": [
       "'Resource'"
      ]
     },
     "execution_count": 12,
     "metadata": {},
     "output_type": "execute_result"
    }
   ],
   "source": [
    "r.__name__"
   ]
  },
  {
   "cell_type": "code",
   "execution_count": 24,
   "metadata": {},
   "outputs": [],
   "source": [
    "from typing import Dict, Any\n",
    "\n",
    "def a(b: Dict[str, Any], c: str):\n",
    "    b[\"c\"] = \"d\"\n",
    "    c = c + \"hello\""
   ]
  },
  {
   "cell_type": "code",
   "execution_count": 25,
   "metadata": {},
   "outputs": [],
   "source": [
    "f = {\"e\": \"f\"}"
   ]
  },
  {
   "cell_type": "code",
   "execution_count": 26,
   "metadata": {},
   "outputs": [
    {
     "data": {
      "text/plain": [
       "{'e': 'f', 'c': 'd'}"
      ]
     },
     "execution_count": 26,
     "metadata": {},
     "output_type": "execute_result"
    }
   ],
   "source": [
    "d = \"hello\"\n",
    "a(f, d)\n",
    "f"
   ]
  },
  {
   "cell_type": "code",
   "execution_count": 27,
   "metadata": {},
   "outputs": [
    {
     "data": {
      "text/plain": [
       "'hello'"
      ]
     },
     "execution_count": 27,
     "metadata": {},
     "output_type": "execute_result"
    }
   ],
   "source": [
    "d"
   ]
  },
  {
   "cell_type": "code",
   "execution_count": 37,
   "metadata": {},
   "outputs": [
    {
     "data": {
      "text/plain": [
       "typing._GenericAlias"
      ]
     },
     "execution_count": 37,
     "metadata": {},
     "output_type": "execute_result"
    }
   ],
   "source": [
    "from typing import Optional, Iterable\n",
    "\n",
    "\n",
    "a = Iterable[str]\n",
    "type(a)"
   ]
  },
  {
   "cell_type": "code",
   "execution_count": 54,
   "metadata": {},
   "outputs": [
    {
     "data": {
      "text/plain": [
       "False"
      ]
     },
     "execution_count": 54,
     "metadata": {},
     "output_type": "execute_result"
    }
   ],
   "source": [
    "from collections.abc import Iterable\n",
    "\n",
    "a.__origin__ == Iterable\n",
    "isinstance(a.__origin__, Iterable)"
   ]
  },
  {
   "cell_type": "code",
   "execution_count": 47,
   "metadata": {},
   "outputs": [
    {
     "data": {
      "text/plain": [
       "{'_inst': True,\n",
       " '_name': 'Iterable',\n",
       " '__origin__': collections.abc.Iterable,\n",
       " '__slots__': None,\n",
       " '__args__': (str,),\n",
       " '__parameters__': (),\n",
       " '_typevar_types': typing.TypeVar,\n",
       " '_paramspec_tvars': False}"
      ]
     },
     "execution_count": 47,
     "metadata": {},
     "output_type": "execute_result"
    }
   ],
   "source": [
    "a.__dict__"
   ]
  },
  {
   "cell_type": "code",
   "execution_count": 51,
   "metadata": {},
   "outputs": [
    {
     "ename": "TypeError",
     "evalue": "issubclass() arg 1 must be a class",
     "output_type": "error",
     "traceback": [
      "\u001b[0;31m---------------------------------------------------------------------------\u001b[0m",
      "\u001b[0;31mTypeError\u001b[0m                                 Traceback (most recent call last)",
      "Cell \u001b[0;32mIn [51], line 1\u001b[0m\n\u001b[0;32m----> 1\u001b[0m \u001b[38;5;28missubclass\u001b[39m(Iterable, a\u001b[38;5;241m.\u001b[39m\u001b[38;5;18m__dict__\u001b[39m)\n",
      "\u001b[0;31mTypeError\u001b[0m: issubclass() arg 1 must be a class"
     ]
    }
   ],
   "source": [
    "issubclass(Iterable, a.__dict__)"
   ]
  },
  {
   "cell_type": "code",
   "execution_count": 44,
   "metadata": {},
   "outputs": [
    {
     "ename": "TypeError",
     "evalue": "Subscripted generics cannot be used with class and instance checks",
     "output_type": "error",
     "traceback": [
      "\u001b[0;31m---------------------------------------------------------------------------\u001b[0m",
      "\u001b[0;31mTypeError\u001b[0m                                 Traceback (most recent call last)",
      "Cell \u001b[0;32mIn [44], line 1\u001b[0m\n\u001b[0;32m----> 1\u001b[0m \u001b[38;5;28misinstance\u001b[39m(a, Iterable[\u001b[38;5;28mstr\u001b[39m])\n",
      "File \u001b[0;32m~/.pyenv/versions/3.10.1/lib/python3.10/typing.py:980\u001b[0m, in \u001b[0;36m_BaseGenericAlias.__instancecheck__\u001b[0;34m(self, obj)\u001b[0m\n\u001b[1;32m    979\u001b[0m \u001b[39mdef\u001b[39;00m \u001b[39m__instancecheck__\u001b[39m(\u001b[39mself\u001b[39m, obj):\n\u001b[0;32m--> 980\u001b[0m     \u001b[39mreturn\u001b[39;00m \u001b[39mself\u001b[39;49m\u001b[39m.\u001b[39;49m\u001b[39m__subclasscheck__\u001b[39;49m(\u001b[39mtype\u001b[39;49m(obj))\n",
      "File \u001b[0;32m~/.pyenv/versions/3.10.1/lib/python3.10/typing.py:983\u001b[0m, in \u001b[0;36m_BaseGenericAlias.__subclasscheck__\u001b[0;34m(self, cls)\u001b[0m\n\u001b[1;32m    982\u001b[0m \u001b[39mdef\u001b[39;00m \u001b[39m__subclasscheck__\u001b[39m(\u001b[39mself\u001b[39m, \u001b[39mcls\u001b[39m):\n\u001b[0;32m--> 983\u001b[0m     \u001b[39mraise\u001b[39;00m \u001b[39mTypeError\u001b[39;00m(\u001b[39m\"\u001b[39m\u001b[39mSubscripted generics cannot be used with\u001b[39m\u001b[39m\"\u001b[39m\n\u001b[1;32m    984\u001b[0m                     \u001b[39m\"\u001b[39m\u001b[39m class and instance checks\u001b[39m\u001b[39m\"\u001b[39m)\n",
      "\u001b[0;31mTypeError\u001b[0m: Subscripted generics cannot be used with class and instance checks"
     ]
    }
   ],
   "source": [
    "isinstance(a, Iterable[str])"
   ]
  },
  {
   "cell_type": "code",
   "execution_count": 55,
   "metadata": {},
   "outputs": [
    {
     "data": {
      "text/plain": [
       "collections.abc.Iterable"
      ]
     },
     "execution_count": 55,
     "metadata": {},
     "output_type": "execute_result"
    }
   ],
   "source": [
    "import typing\n",
    "typing.get_origin(a)"
   ]
  },
  {
   "cell_type": "code",
   "execution_count": 57,
   "metadata": {},
   "outputs": [
    {
     "data": {
      "text/plain": [
       "'\\n  a para\\n  graph for\\n  the pig\\n'"
      ]
     },
     "execution_count": 57,
     "metadata": {},
     "output_type": "execute_result"
    }
   ],
   "source": [
    "import textwrap\n",
    "\n",
    "a = \"\"\"\n",
    "a para\n",
    "graph for\n",
    "the pig\n",
    "\"\"\"\n",
    "\n",
    "textwrap.indent(a, '  ')"
   ]
  },
  {
   "cell_type": "code",
   "execution_count": 58,
   "metadata": {},
   "outputs": [],
   "source": [
    "a = 1"
   ]
  },
  {
   "cell_type": "code",
   "execution_count": 59,
   "metadata": {},
   "outputs": [
    {
     "ename": "AttributeError",
     "evalue": "'int' object has no attribute '__dict__'",
     "output_type": "error",
     "traceback": [
      "\u001b[0;31m---------------------------------------------------------------------------\u001b[0m",
      "\u001b[0;31mAttributeError\u001b[0m                            Traceback (most recent call last)",
      "Cell \u001b[0;32mIn [59], line 1\u001b[0m\n\u001b[0;32m----> 1\u001b[0m a\u001b[38;5;241m.\u001b[39m\u001b[38;5;18m__dict__\u001b[39m\n",
      "\u001b[0;31mAttributeError\u001b[0m: 'int' object has no attribute '__dict__'"
     ]
    }
   ],
   "source": [
    "a.__dict__"
   ]
  },
  {
   "cell_type": "code",
   "execution_count": 220,
   "metadata": {},
   "outputs": [],
   "source": [
    "class A:\n",
    "    b: int\n",
    "    c: str\n",
    "\n",
    "    def __init__(self, a: int, b: str) -> None:\n",
    "        self.a = a\n",
    "        self.b = b\n",
    "\n",
    "    def t(self) -> None:\n",
    "        pass\n",
    "\n"
   ]
  },
  {
   "cell_type": "code",
   "execution_count": 176,
   "metadata": {},
   "outputs": [],
   "source": [
    "a = A(1, \"two\")"
   ]
  },
  {
   "cell_type": "code",
   "execution_count": 199,
   "metadata": {},
   "outputs": [
    {
     "data": {
      "text/plain": [
       "{'_inst': False,\n",
       " '_name': 'List',\n",
       " '__origin__': list,\n",
       " '__slots__': None,\n",
       " '__args__': (str,),\n",
       " '__parameters__': (),\n",
       " '_typevar_types': typing.TypeVar,\n",
       " '_paramspec_tvars': False}"
      ]
     },
     "execution_count": 199,
     "metadata": {},
     "output_type": "execute_result"
    }
   ],
   "source": [
    "a.__dict__"
   ]
  },
  {
   "cell_type": "code",
   "execution_count": 200,
   "metadata": {},
   "outputs": [
    {
     "name": "stdout",
     "output_type": "stream",
     "text": [
      "yyyy\n"
     ]
    }
   ],
   "source": [
    "y = \"y\"\n",
    "x = \"x\"\n",
    "if y == \"y\":\n",
    "    print(\"yyyy\")\n",
    "    pass\n",
    "elif x == \"x\":\n",
    "    print(\"xxxx\")\n",
    "    pass\n",
    "else:\n",
    "    print(\"else\")"
   ]
  },
  {
   "cell_type": "code",
   "execution_count": 196,
   "metadata": {},
   "outputs": [],
   "source": [
    "from typing import List"
   ]
  },
  {
   "cell_type": "code",
   "execution_count": 197,
   "metadata": {},
   "outputs": [],
   "source": [
    "a = List[str]"
   ]
  },
  {
   "cell_type": "code",
   "execution_count": 198,
   "metadata": {},
   "outputs": [
    {
     "data": {
      "text/plain": [
       "{'_inst': False,\n",
       " '_name': 'List',\n",
       " '__origin__': list,\n",
       " '__slots__': None,\n",
       " '__args__': (str,),\n",
       " '__parameters__': (),\n",
       " '_typevar_types': typing.TypeVar,\n",
       " '_paramspec_tvars': False}"
      ]
     },
     "execution_count": 198,
     "metadata": {},
     "output_type": "execute_result"
    }
   ],
   "source": [
    "a.__dict__"
   ]
  },
  {
   "cell_type": "code",
   "execution_count": 193,
   "metadata": {},
   "outputs": [
    {
     "data": {
      "text/plain": [
       "{'b': int, 'c': str}"
      ]
     },
     "execution_count": 193,
     "metadata": {},
     "output_type": "execute_result"
    }
   ],
   "source": [
    "A.__annotations__"
   ]
  },
  {
   "cell_type": "code",
   "execution_count": 194,
   "metadata": {},
   "outputs": [],
   "source": [
    "from typing import Type\n",
    "\n",
    "def annotations_match(annotations: Dict[str, Type], d: Dict[str, Any]) -> bool:\n",
    "    for name, t in annotations.items():\n",
    "        if name not in d:\n",
    "            return False\n",
    "\n",
    "        if not isinstance(d[name], t):\n",
    "            return False\n",
    "    \n",
    "    return True"
   ]
  },
  {
   "cell_type": "code",
   "execution_count": null,
   "metadata": {},
   "outputs": [],
   "source": [
    "from typing import List\n",
    "\n",
    "# Lets check have this generate the if/else statments\n",
    "def find_type_match(d: Dict[str, Any], types: List[Type]) -> Type:\n",
    "    for t in types:\n"
   ]
  },
  {
   "cell_type": "code",
   "execution_count": null,
   "metadata": {},
   "outputs": [],
   "source": []
  },
  {
   "cell_type": "code",
   "execution_count": 192,
   "metadata": {},
   "outputs": [
    {
     "data": {
      "text/plain": [
       "{'b': int, 'c': str}"
      ]
     },
     "execution_count": 192,
     "metadata": {},
     "output_type": "execute_result"
    }
   ],
   "source": [
    "typing.get_type_hints(A)"
   ]
  },
  {
   "cell_type": "code",
   "execution_count": 185,
   "metadata": {},
   "outputs": [
    {
     "ename": "AttributeError",
     "evalue": "type object 'int' has no attribute '__annotations__'",
     "output_type": "error",
     "traceback": [
      "\u001b[0;31m---------------------------------------------------------------------------\u001b[0m",
      "\u001b[0;31mAttributeError\u001b[0m                            Traceback (most recent call last)",
      "Cell \u001b[0;32mIn [185], line 1\u001b[0m\n\u001b[0;32m----> 1\u001b[0m \u001b[38;5;28mint\u001b[39m\u001b[38;5;241m.\u001b[39m\u001b[38;5;18m__annotations__\u001b[39m\n",
      "\u001b[0;31mAttributeError\u001b[0m: type object 'int' has no attribute '__annotations__'"
     ]
    }
   ],
   "source": [
    "int.__annotations__"
   ]
  },
  {
   "cell_type": "code",
   "execution_count": 180,
   "metadata": {},
   "outputs": [
    {
     "data": {
      "text/plain": [
       "True"
      ]
     },
     "execution_count": 180,
     "metadata": {},
     "output_type": "execute_result"
    }
   ],
   "source": [
    "hasattr(a, 'b')"
   ]
  },
  {
   "cell_type": "code",
   "execution_count": 182,
   "metadata": {},
   "outputs": [
    {
     "data": {
      "text/plain": [
       "mappingproxy({'__module__': '__main__',\n",
       "              '__annotations__': {'b': int, 'c': str},\n",
       "              '__init__': <function __main__.A.__init__(self, a: int, b: str) -> None>,\n",
       "              't': <function __main__.A.t(self) -> None>,\n",
       "              '__dict__': <attribute '__dict__' of 'A' objects>,\n",
       "              '__weakref__': <attribute '__weakref__' of 'A' objects>,\n",
       "              '__doc__': None})"
      ]
     },
     "execution_count": 182,
     "metadata": {},
     "output_type": "execute_result"
    }
   ],
   "source": [
    "A.__dict__"
   ]
  },
  {
   "cell_type": "code",
   "execution_count": 76,
   "metadata": {},
   "outputs": [],
   "source": [
    "class B(A):\n",
    "    pass"
   ]
  },
  {
   "cell_type": "code",
   "execution_count": null,
   "metadata": {},
   "outputs": [],
   "source": [
    "class C(B):\n",
    "    def a(self) -> None:\n",
    "        self.t()"
   ]
  },
  {
   "cell_type": "code",
   "execution_count": 61,
   "metadata": {},
   "outputs": [],
   "source": [
    "a = A(1, \"sss\")"
   ]
  },
  {
   "cell_type": "code",
   "execution_count": 64,
   "metadata": {},
   "outputs": [
    {
     "data": {
      "text/plain": [
       "{'a': 1, 'b': 'sss'}"
      ]
     },
     "execution_count": 64,
     "metadata": {},
     "output_type": "execute_result"
    }
   ],
   "source": [
    "ad = a.__dict__\n",
    "ad"
   ]
  },
  {
   "cell_type": "code",
   "execution_count": 74,
   "metadata": {},
   "outputs": [
    {
     "ename": "SyntaxError",
     "evalue": "invalid syntax (1338537743.py, line 1)",
     "output_type": "error",
     "traceback": [
      "\u001b[0;36m  Cell \u001b[0;32mIn [74], line 1\u001b[0;36m\u001b[0m\n\u001b[0;31m    aa = object.__new__(A); for k, v in ad.items(): setattr(aa, k, v)\u001b[0m\n\u001b[0m                            ^\u001b[0m\n\u001b[0;31mSyntaxError\u001b[0m\u001b[0;31m:\u001b[0m invalid syntax\n"
     ]
    }
   ],
   "source": [
    "aa = object.__new__(A); a = for k, v in ad.items(): setattr(aa, k, v)"
   ]
  },
  {
   "cell_type": "code",
   "execution_count": 68,
   "metadata": {},
   "outputs": [
    {
     "data": {
      "text/plain": [
       "<__main__.A at 0x130f24b20>"
      ]
     },
     "execution_count": 68,
     "metadata": {},
     "output_type": "execute_result"
    }
   ],
   "source": [
    "aa"
   ]
  },
  {
   "cell_type": "code",
   "execution_count": 69,
   "metadata": {},
   "outputs": [
    {
     "data": {
      "text/plain": [
       "{}"
      ]
     },
     "execution_count": 69,
     "metadata": {},
     "output_type": "execute_result"
    }
   ],
   "source": [
    "aa.__dict__"
   ]
  },
  {
   "cell_type": "code",
   "execution_count": 70,
   "metadata": {},
   "outputs": [],
   "source": []
  },
  {
   "cell_type": "code",
   "execution_count": 71,
   "metadata": {},
   "outputs": [
    {
     "data": {
      "text/plain": [
       "{'a': 1, 'b': 'sss'}"
      ]
     },
     "execution_count": 71,
     "metadata": {},
     "output_type": "execute_result"
    }
   ],
   "source": [
    "aa.__dict__"
   ]
  },
  {
   "cell_type": "code",
   "execution_count": 72,
   "metadata": {},
   "outputs": [],
   "source": [
    "t = {\"this\": \"that\"}"
   ]
  },
  {
   "cell_type": "code",
   "execution_count": 73,
   "metadata": {},
   "outputs": [
    {
     "ename": "AttributeError",
     "evalue": "'dict' object has no attribute '__dict__'",
     "output_type": "error",
     "traceback": [
      "\u001b[0;31m---------------------------------------------------------------------------\u001b[0m",
      "\u001b[0;31mAttributeError\u001b[0m                            Traceback (most recent call last)",
      "Cell \u001b[0;32mIn [73], line 1\u001b[0m\n\u001b[0;32m----> 1\u001b[0m t\u001b[38;5;241m.\u001b[39m\u001b[38;5;18m__dict__\u001b[39m\n",
      "\u001b[0;31mAttributeError\u001b[0m: 'dict' object has no attribute '__dict__'"
     ]
    }
   ],
   "source": [
    "t.__dict__"
   ]
  },
  {
   "cell_type": "code",
   "execution_count": 84,
   "metadata": {},
   "outputs": [],
   "source": [
    "def g(a: Dict[str, Any] = {}):\n",
    "    pass"
   ]
  },
  {
   "cell_type": "code",
   "execution_count": 91,
   "metadata": {},
   "outputs": [
    {
     "data": {
      "text/plain": [
       "typing.Dict[str, typing.Any]"
      ]
     },
     "execution_count": 91,
     "metadata": {},
     "output_type": "execute_result"
    }
   ],
   "source": [
    "from typing import get_type_hints\n",
    "\n",
    "\n",
    "hints = get_type_hints(g)\n",
    "ha = hints['a']\n",
    "ha"
   ]
  },
  {
   "cell_type": "code",
   "execution_count": 92,
   "metadata": {},
   "outputs": [
    {
     "data": {
      "text/plain": [
       "dict"
      ]
     },
     "execution_count": 92,
     "metadata": {},
     "output_type": "execute_result"
    }
   ],
   "source": [
    "ha.__origin__"
   ]
  },
  {
   "cell_type": "code",
   "execution_count": 90,
   "metadata": {},
   "outputs": [
    {
     "name": "stdout",
     "output_type": "stream",
     "text": [
      "yes\n"
     ]
    }
   ],
   "source": [
    "if ha == typing.Dict[str, typing.Any]:\n",
    "    print(\"yes\")"
   ]
  },
  {
   "cell_type": "code",
   "execution_count": 80,
   "metadata": {},
   "outputs": [
    {
     "name": "stdout",
     "output_type": "stream",
     "text": [
      "hello\n"
     ]
    }
   ],
   "source": [
    "from types import NoneType\n",
    "\n",
    "\n",
    "if type(a) == NoneType:\n",
    "    print(\"hello\")"
   ]
  },
  {
   "cell_type": "code",
   "execution_count": 95,
   "metadata": {},
   "outputs": [],
   "source": [
    "a = \"aa\"\n",
    "b = \"bb\"\n",
    "\n",
    "if a == \"aa\": b = \"cc\""
   ]
  },
  {
   "cell_type": "code",
   "execution_count": 97,
   "metadata": {},
   "outputs": [
    {
     "data": {
      "text/plain": [
       "'cc'"
      ]
     },
     "execution_count": 97,
     "metadata": {},
     "output_type": "execute_result"
    }
   ],
   "source": [
    "b"
   ]
  },
  {
   "cell_type": "code",
   "execution_count": 98,
   "metadata": {},
   "outputs": [],
   "source": [
    "from typing import TypeVar"
   ]
  },
  {
   "cell_type": "code",
   "execution_count": 99,
   "metadata": {},
   "outputs": [],
   "source": [
    "T = TypeVar(\"T\", bound=\"A\")"
   ]
  },
  {
   "cell_type": "code",
   "execution_count": 108,
   "metadata": {},
   "outputs": [
    {
     "data": {
      "text/plain": [
       "ForwardRef('A')"
      ]
     },
     "execution_count": 108,
     "metadata": {},
     "output_type": "execute_result"
    }
   ],
   "source": [
    "ref = T.__bound__\n",
    "ref"
   ]
  },
  {
   "cell_type": "code",
   "execution_count": 122,
   "metadata": {},
   "outputs": [
    {
     "data": {
      "text/plain": [
       "typing.ForwardRef"
      ]
     },
     "execution_count": 122,
     "metadata": {},
     "output_type": "execute_result"
    }
   ],
   "source": [
    "ref.__class__"
   ]
  },
  {
   "cell_type": "code",
   "execution_count": 124,
   "metadata": {},
   "outputs": [
    {
     "data": {
      "text/plain": [
       "['__class__',\n",
       " '__delattr__',\n",
       " '__dir__',\n",
       " '__doc__',\n",
       " '__eq__',\n",
       " '__format__',\n",
       " '__forward_arg__',\n",
       " '__forward_code__',\n",
       " '__forward_evaluated__',\n",
       " '__forward_is_argument__',\n",
       " '__forward_is_class__',\n",
       " '__forward_module__',\n",
       " '__forward_value__',\n",
       " '__ge__',\n",
       " '__getattribute__',\n",
       " '__gt__',\n",
       " '__hash__',\n",
       " '__init__',\n",
       " '__init_subclass__',\n",
       " '__le__',\n",
       " '__lt__',\n",
       " '__module__',\n",
       " '__ne__',\n",
       " '__new__',\n",
       " '__reduce__',\n",
       " '__reduce_ex__',\n",
       " '__repr__',\n",
       " '__setattr__',\n",
       " '__sizeof__',\n",
       " '__slots__',\n",
       " '__str__',\n",
       " '__subclasshook__',\n",
       " '__weakref__',\n",
       " '_evaluate']"
      ]
     },
     "execution_count": 124,
     "metadata": {},
     "output_type": "execute_result"
    }
   ],
   "source": [
    "dir(ref)"
   ]
  },
  {
   "cell_type": "code",
   "execution_count": 118,
   "metadata": {},
   "outputs": [
    {
     "data": {
      "text/plain": [
       "'A'"
      ]
     },
     "execution_count": 118,
     "metadata": {},
     "output_type": "execute_result"
    }
   ],
   "source": [
    "ref.__forward_arg__"
   ]
  },
  {
   "cell_type": "code",
   "execution_count": 120,
   "metadata": {},
   "outputs": [],
   "source": [
    "cl = eval(ref.__forward_arg__)"
   ]
  },
  {
   "cell_type": "code",
   "execution_count": 121,
   "metadata": {},
   "outputs": [
    {
     "data": {
      "text/plain": [
       "__main__.A"
      ]
     },
     "execution_count": 121,
     "metadata": {},
     "output_type": "execute_result"
    }
   ],
   "source": [
    "cl"
   ]
  },
  {
   "cell_type": "code",
   "execution_count": 125,
   "metadata": {},
   "outputs": [
    {
     "data": {
      "text/plain": [
       "'__main__'"
      ]
     },
     "execution_count": 125,
     "metadata": {},
     "output_type": "execute_result"
    }
   ],
   "source": [
    "A.__module__"
   ]
  },
  {
   "cell_type": "code",
   "execution_count": 126,
   "metadata": {},
   "outputs": [],
   "source": [
    "from typing import List\n",
    "a = List[str]"
   ]
  },
  {
   "cell_type": "code",
   "execution_count": 127,
   "metadata": {},
   "outputs": [
    {
     "data": {
      "text/plain": [
       "typing.List[str]"
      ]
     },
     "execution_count": 127,
     "metadata": {},
     "output_type": "execute_result"
    }
   ],
   "source": [
    "a"
   ]
  },
  {
   "cell_type": "code",
   "execution_count": 128,
   "metadata": {},
   "outputs": [
    {
     "data": {
      "text/plain": [
       "list"
      ]
     },
     "execution_count": 128,
     "metadata": {},
     "output_type": "execute_result"
    }
   ],
   "source": [
    "a.__origin__"
   ]
  },
  {
   "cell_type": "code",
   "execution_count": 130,
   "metadata": {},
   "outputs": [
    {
     "name": "stdout",
     "output_type": "stream",
     "text": [
      "hello\n"
     ]
    }
   ],
   "source": [
    "if a == list or (hasattr(a, \"__origin__\") and a.__origin__ in [dict, list, str]):\n",
    "    print(\"hello\")"
   ]
  },
  {
   "cell_type": "code",
   "execution_count": 132,
   "metadata": {},
   "outputs": [
    {
     "data": {
      "text/plain": [
       "mappingproxy({'__module__': '__main__',\n",
       "              '__annotations__': {'b': int, 'c': str},\n",
       "              '__init__': <function __main__.A.__init__(self, a: int, b: str) -> None>,\n",
       "              '__dict__': <attribute '__dict__' of 'A' objects>,\n",
       "              '__weakref__': <attribute '__weakref__' of 'A' objects>,\n",
       "              '__doc__': None})"
      ]
     },
     "execution_count": 132,
     "metadata": {},
     "output_type": "execute_result"
    }
   ],
   "source": [
    "A.__dict__"
   ]
  },
  {
   "cell_type": "code",
   "execution_count": 135,
   "metadata": {},
   "outputs": [],
   "source": [
    "t = type(\"Geeks\", (object, ), {})"
   ]
  },
  {
   "cell_type": "code",
   "execution_count": 136,
   "metadata": {},
   "outputs": [
    {
     "data": {
      "text/plain": [
       "__main__.Geeks"
      ]
     },
     "execution_count": 136,
     "metadata": {},
     "output_type": "execute_result"
    }
   ],
   "source": [
    "t"
   ]
  },
  {
   "cell_type": "code",
   "execution_count": 137,
   "metadata": {},
   "outputs": [
    {
     "data": {
      "text/plain": [
       "type"
      ]
     },
     "execution_count": 137,
     "metadata": {},
     "output_type": "execute_result"
    }
   ],
   "source": [
    "type(t)"
   ]
  },
  {
   "cell_type": "code",
   "execution_count": 138,
   "metadata": {},
   "outputs": [],
   "source": [
    "aa = typing.Type[A]"
   ]
  },
  {
   "cell_type": "code",
   "execution_count": 139,
   "metadata": {},
   "outputs": [
    {
     "data": {
      "text/plain": [
       "typing.Type[__main__.A]"
      ]
     },
     "execution_count": 139,
     "metadata": {},
     "output_type": "execute_result"
    }
   ],
   "source": [
    "aa"
   ]
  },
  {
   "cell_type": "code",
   "execution_count": 140,
   "metadata": {},
   "outputs": [
    {
     "data": {
      "text/plain": [
       "typing._GenericAlias"
      ]
     },
     "execution_count": 140,
     "metadata": {},
     "output_type": "execute_result"
    }
   ],
   "source": [
    "type(aa)"
   ]
  },
  {
   "cell_type": "code",
   "execution_count": 141,
   "metadata": {},
   "outputs": [
    {
     "data": {
      "text/plain": [
       "type"
      ]
     },
     "execution_count": 141,
     "metadata": {},
     "output_type": "execute_result"
    }
   ],
   "source": [
    "aa.__origin__"
   ]
  },
  {
   "cell_type": "code",
   "execution_count": 142,
   "metadata": {},
   "outputs": [],
   "source": [
    "t = typing.Optional[str]"
   ]
  },
  {
   "cell_type": "code",
   "execution_count": 143,
   "metadata": {},
   "outputs": [
    {
     "data": {
      "text/plain": [
       "typing.Union"
      ]
     },
     "execution_count": 143,
     "metadata": {},
     "output_type": "execute_result"
    }
   ],
   "source": [
    "t.__origin__"
   ]
  },
  {
   "cell_type": "code",
   "execution_count": 144,
   "metadata": {},
   "outputs": [],
   "source": [
    "tt = typing.Union[str, int]"
   ]
  },
  {
   "cell_type": "code",
   "execution_count": 145,
   "metadata": {},
   "outputs": [
    {
     "data": {
      "text/plain": [
       "typing.Union"
      ]
     },
     "execution_count": 145,
     "metadata": {},
     "output_type": "execute_result"
    }
   ],
   "source": [
    "tt.__origin__"
   ]
  },
  {
   "cell_type": "code",
   "execution_count": 153,
   "metadata": {},
   "outputs": [],
   "source": [
    "def c(t: List[str], d: bool):\n",
    "    t.append(\"a\")\n",
    "    d = True"
   ]
  },
  {
   "cell_type": "code",
   "execution_count": 154,
   "metadata": {},
   "outputs": [],
   "source": [
    "cc = [\"cd\"]"
   ]
  },
  {
   "cell_type": "code",
   "execution_count": 158,
   "metadata": {},
   "outputs": [],
   "source": [
    "aa = False\n",
    "c(cc, aa)"
   ]
  },
  {
   "cell_type": "code",
   "execution_count": 159,
   "metadata": {},
   "outputs": [
    {
     "data": {
      "text/plain": [
       "['cd', 'a']"
      ]
     },
     "execution_count": 159,
     "metadata": {},
     "output_type": "execute_result"
    }
   ],
   "source": [
    "cc"
   ]
  },
  {
   "cell_type": "code",
   "execution_count": 160,
   "metadata": {},
   "outputs": [
    {
     "data": {
      "text/plain": [
       "False"
      ]
     },
     "execution_count": 160,
     "metadata": {},
     "output_type": "execute_result"
    }
   ],
   "source": [
    "aa"
   ]
  },
  {
   "cell_type": "code",
   "execution_count": 150,
   "metadata": {},
   "outputs": [
    {
     "ename": "NameError",
     "evalue": "name '__module__' is not defined",
     "output_type": "error",
     "traceback": [
      "\u001b[0;31m---------------------------------------------------------------------------\u001b[0m",
      "\u001b[0;31mNameError\u001b[0m                                 Traceback (most recent call last)",
      "Cell \u001b[0;32mIn [150], line 1\u001b[0m\n\u001b[0;32m----> 1\u001b[0m \u001b[38;5;18m__module__\u001b[39m\n",
      "\u001b[0;31mNameError\u001b[0m: name '__module__' is not defined"
     ]
    }
   ],
   "source": [
    "__module__"
   ]
  },
  {
   "cell_type": "code",
   "execution_count": 152,
   "metadata": {},
   "outputs": [
    {
     "data": {
      "text/plain": [
       "<module '__main__'>"
      ]
     },
     "execution_count": 152,
     "metadata": {},
     "output_type": "execute_result"
    }
   ],
   "source": [
    "import sys\n",
    "sys.modules[__name__]"
   ]
  },
  {
   "cell_type": "code",
   "execution_count": 161,
   "metadata": {},
   "outputs": [],
   "source": [
    "import jsonpickle"
   ]
  },
  {
   "cell_type": "code",
   "execution_count": 162,
   "metadata": {},
   "outputs": [],
   "source": [
    "ao = A(1, \"two\")"
   ]
  },
  {
   "cell_type": "code",
   "execution_count": 169,
   "metadata": {},
   "outputs": [],
   "source": [
    "enc = jsonpickle.encode(ao, unpicklable=False)"
   ]
  },
  {
   "cell_type": "code",
   "execution_count": 167,
   "metadata": {},
   "outputs": [
    {
     "data": {
      "text/plain": [
       "'{\"this\": 1}'"
      ]
     },
     "execution_count": 167,
     "metadata": {},
     "output_type": "execute_result"
    }
   ],
   "source": [
    "jsonpickle.encode({\"this\": 1})"
   ]
  },
  {
   "cell_type": "code",
   "execution_count": 170,
   "metadata": {},
   "outputs": [
    {
     "data": {
      "text/plain": [
       "'{\"a\": 1, \"b\": \"two\"}'"
      ]
     },
     "execution_count": 170,
     "metadata": {},
     "output_type": "execute_result"
    }
   ],
   "source": [
    "enc"
   ]
  },
  {
   "cell_type": "code",
   "execution_count": 172,
   "metadata": {},
   "outputs": [],
   "source": [
    "obj = jsonpickle.decode(enc, classes=[A])"
   ]
  },
  {
   "cell_type": "code",
   "execution_count": 174,
   "metadata": {},
   "outputs": [
    {
     "data": {
      "text/plain": [
       "dict"
      ]
     },
     "execution_count": 174,
     "metadata": {},
     "output_type": "execute_result"
    }
   ],
   "source": [
    "type(obj)"
   ]
  },
  {
   "cell_type": "code",
   "execution_count": 211,
   "metadata": {},
   "outputs": [],
   "source": [
    "class E(Enum):\n",
    "    A = \"a\"\n",
    "    B = \"b\"\n",
    "\n",
    "def c(a: E):\n",
    "    print(a)"
   ]
  },
  {
   "cell_type": "code",
   "execution_count": 212,
   "metadata": {},
   "outputs": [
    {
     "name": "stdout",
     "output_type": "stream",
     "text": [
      "E.A\n"
     ]
    }
   ],
   "source": [
    "c(E.A)"
   ]
  },
  {
   "cell_type": "code",
   "execution_count": 213,
   "metadata": {},
   "outputs": [
    {
     "name": "stdout",
     "output_type": "stream",
     "text": [
      "a\n"
     ]
    }
   ],
   "source": [
    "c(\"a\")"
   ]
  },
  {
   "cell_type": "code",
   "execution_count": 216,
   "metadata": {},
   "outputs": [
    {
     "data": {
      "text/plain": [
       "True"
      ]
     },
     "execution_count": 216,
     "metadata": {},
     "output_type": "execute_result"
    }
   ],
   "source": [
    "import enum\n",
    "issubclass(E, enum.Enum)"
   ]
  },
  {
   "cell_type": "code",
   "execution_count": 217,
   "metadata": {},
   "outputs": [],
   "source": [
    "import inspect"
   ]
  },
  {
   "cell_type": "code",
   "execution_count": 221,
   "metadata": {},
   "outputs": [],
   "source": [
    "fns = inspect.getmembers(A, predicate=inspect.isfunction)"
   ]
  },
  {
   "cell_type": "code",
   "execution_count": 228,
   "metadata": {},
   "outputs": [
    {
     "name": "stdout",
     "output_type": "stream",
     "text": [
      "<function A.__init__ at 0x131740c10>\n",
      "['__annotations__', '__builtins__', '__call__', '__class__', '__closure__', '__code__', '__defaults__', '__delattr__', '__dict__', '__dir__', '__doc__', '__eq__', '__format__', '__ge__', '__get__', '__getattribute__', '__globals__', '__gt__', '__hash__', '__init__', '__init_subclass__', '__kwdefaults__', '__le__', '__lt__', '__module__', '__name__', '__ne__', '__new__', '__qualname__', '__reduce__', '__reduce_ex__', '__repr__', '__setattr__', '__sizeof__', '__str__', '__subclasshook__']\n",
      "<class 'function'>\n",
      "<class '__main__.A'>\n",
      "<function A.t at 0x131740e50>\n",
      "['__annotations__', '__builtins__', '__call__', '__class__', '__closure__', '__code__', '__defaults__', '__delattr__', '__dict__', '__dir__', '__doc__', '__eq__', '__format__', '__ge__', '__get__', '__getattribute__', '__globals__', '__gt__', '__hash__', '__init__', '__init_subclass__', '__kwdefaults__', '__le__', '__lt__', '__module__', '__name__', '__ne__', '__new__', '__qualname__', '__reduce__', '__reduce_ex__', '__repr__', '__setattr__', '__sizeof__', '__str__', '__subclasshook__']\n",
      "<class 'function'>\n",
      "<class '__main__.A'>\n"
     ]
    }
   ],
   "source": [
    "for name, fn in fns:\n",
    "    print(fn)\n",
    "    print(dir(fn))\n",
    "    print(fn.__class__)\n",
    "    #print(inspect.getmro(fn))\n",
    "    print(get_class_that_defined_method(fn))"
   ]
  },
  {
   "cell_type": "code",
   "execution_count": 227,
   "metadata": {},
   "outputs": [],
   "source": [
    "def get_class_that_defined_method(meth):\n",
    "    if inspect.ismethod(meth):\n",
    "        for cls in inspect.getmro(meth.__self__.__class__):\n",
    "            if meth.__name__ in cls.__dict__:\n",
    "                return cls\n",
    "        meth = meth.__func__  # fallback to __qualname__ parsing\n",
    "    if inspect.isfunction(meth):\n",
    "        cls = getattr(inspect.getmodule(meth),\n",
    "                      meth.__qualname__.split('.<locals>', 1)[0].rsplit('.', 1)[0],\n",
    "                      None)\n",
    "        if isinstance(cls, type):\n",
    "            return cls\n",
    "    return None "
   ]
  },
  {
   "cell_type": "code",
   "execution_count": 1,
   "metadata": {},
   "outputs": [],
   "source": [
    "from typing import TypeVar\n",
    "\n",
    "CV = TypeVar(\"CV\", bound=\"C\")\n",
    "\n",
    "class B:\n",
    "    def __init__(self, uri: str) -> None:\n",
    "        print(\"uri: \", uri)\n",
    "\n",
    "class C(B):\n",
    "    def __init__(self, a: str, b: int) -> None:\n",
    "        super().__init__(f\"{a}:{b}\")\n",
    "\n",
    "    @classmethod\n",
    "    def from_uri(cls, uri: str) -> \n"
   ]
  },
  {
   "cell_type": "code",
   "execution_count": 1,
   "metadata": {},
   "outputs": [],
   "source": [
    "a = {\"c\": True, \"e\": False}"
   ]
  },
  {
   "cell_type": "code",
   "execution_count": 3,
   "metadata": {},
   "outputs": [
    {
     "data": {
      "text/plain": [
       "['c', 'e']"
      ]
     },
     "execution_count": 3,
     "metadata": {},
     "output_type": "execute_result"
    }
   ],
   "source": [
    "list(a.keys())"
   ]
  },
  {
   "cell_type": "code",
   "execution_count": 6,
   "metadata": {},
   "outputs": [],
   "source": [
    "import typing\n",
    "\n",
    "if type(a) == typing.Dict:\n",
    "    print(\"hello\")"
   ]
  },
  {
   "cell_type": "code",
   "execution_count": 8,
   "metadata": {},
   "outputs": [
    {
     "data": {
      "text/plain": [
       "dict"
      ]
     },
     "execution_count": 8,
     "metadata": {},
     "output_type": "execute_result"
    }
   ],
   "source": [
    "type(a)"
   ]
  },
  {
   "cell_type": "code",
   "execution_count": 9,
   "metadata": {},
   "outputs": [
    {
     "name": "stdout",
     "output_type": "stream",
     "text": [
      "hello\n"
     ]
    }
   ],
   "source": [
    "if isinstance(a, typing.Dict):\n",
    "    print(\"hello\")"
   ]
  },
  {
   "cell_type": "code",
   "execution_count": 10,
   "metadata": {},
   "outputs": [],
   "source": [
    "from pathlib import Path"
   ]
  },
  {
   "cell_type": "code",
   "execution_count": 16,
   "metadata": {},
   "outputs": [
    {
     "ename": "ValueError",
     "evalue": "'/my/fake/path/a.py' is not in the subpath of '/my/fake/path/a/c.py' OR one path is relative and the other is absolute.",
     "output_type": "error",
     "traceback": [
      "\u001b[0;31m---------------------------------------------------------------------------\u001b[0m",
      "\u001b[0;31mValueError\u001b[0m                                Traceback (most recent call last)",
      "Cell \u001b[0;32mIn [16], line 1\u001b[0m\n\u001b[0;32m----> 1\u001b[0m Path(\u001b[39m\"\u001b[39m\u001b[39m/my/fake/path/a.py\u001b[39m\u001b[39m\"\u001b[39m)\u001b[39m.\u001b[39mrelative_to(Path(\u001b[39m\"\u001b[39m\u001b[39m/my/fake/path/a/c.py\u001b[39m\u001b[39m\"\u001b[39m))\n",
      "File \u001b[0;32m~/.pyenv/versions/3.10.1/lib/python3.10/pathlib.py:816\u001b[0m, in \u001b[0;36mPurePath.relative_to\u001b[0;34m(self, *other)\u001b[0m\n\u001b[1;32m    814\u001b[0m \u001b[39mif\u001b[39;00m (root \u001b[39mor\u001b[39;00m drv) \u001b[39mif\u001b[39;00m n \u001b[39m==\u001b[39m \u001b[39m0\u001b[39m \u001b[39melse\u001b[39;00m cf(abs_parts[:n]) \u001b[39m!=\u001b[39m cf(to_abs_parts):\n\u001b[1;32m    815\u001b[0m     formatted \u001b[39m=\u001b[39m \u001b[39mself\u001b[39m\u001b[39m.\u001b[39m_format_parsed_parts(to_drv, to_root, to_parts)\n\u001b[0;32m--> 816\u001b[0m     \u001b[39mraise\u001b[39;00m \u001b[39mValueError\u001b[39;00m(\u001b[39m\"\u001b[39m\u001b[39m{!r}\u001b[39;00m\u001b[39m is not in the subpath of \u001b[39m\u001b[39m{!r}\u001b[39;00m\u001b[39m\"\u001b[39m\n\u001b[1;32m    817\u001b[0m             \u001b[39m\"\u001b[39m\u001b[39m OR one path is relative and the other is absolute.\u001b[39m\u001b[39m\"\u001b[39m\n\u001b[1;32m    818\u001b[0m                      \u001b[39m.\u001b[39mformat(\u001b[39mstr\u001b[39m(\u001b[39mself\u001b[39m), \u001b[39mstr\u001b[39m(formatted)))\n\u001b[1;32m    819\u001b[0m \u001b[39mreturn\u001b[39;00m \u001b[39mself\u001b[39m\u001b[39m.\u001b[39m_from_parsed_parts(\u001b[39m'\u001b[39m\u001b[39m'\u001b[39m, root \u001b[39mif\u001b[39;00m n \u001b[39m==\u001b[39m \u001b[39m1\u001b[39m \u001b[39melse\u001b[39;00m \u001b[39m'\u001b[39m\u001b[39m'\u001b[39m,\n\u001b[1;32m    820\u001b[0m                                abs_parts[n:])\n",
      "\u001b[0;31mValueError\u001b[0m: '/my/fake/path/a.py' is not in the subpath of '/my/fake/path/a/c.py' OR one path is relative and the other is absolute."
     ]
    }
   ],
   "source": [
    "Path(\"/my/fake/path/a.py\").relative_to(Path(\"/my/fake/path/a/c.py\"))"
   ]
  },
  {
   "cell_type": "code",
   "execution_count": 18,
   "metadata": {},
   "outputs": [],
   "source": [
    "p1 = \"/Users/patrickbarker/ghq/github.com/aunum/arc/./arc/core/resource_test.py\"\n",
    "p2 = \"/Users/patrickbarker/ghq/github.com/aunum/arc/arc/core/resource.py\"\n",
    "p3 = \"/Users/patrickbarker/ghq/github.com/aunum/arc/arc/core/resource_test.py\"\n",
    "p4 = \"/Users/patrickbarker/ghq/github.com/aunum/arc/arc/core/test/bar.py\"\n",
    "\n",
    "import os"
   ]
  },
  {
   "cell_type": "code",
   "execution_count": 19,
   "metadata": {},
   "outputs": [
    {
     "data": {
      "text/plain": [
       "'../resource_test.py'"
      ]
     },
     "execution_count": 19,
     "metadata": {},
     "output_type": "execute_result"
    }
   ],
   "source": [
    "os.path.relpath(p1, p2)"
   ]
  },
  {
   "cell_type": "code",
   "execution_count": 20,
   "metadata": {},
   "outputs": [
    {
     "data": {
      "text/plain": [
       "'../resource_test.py'"
      ]
     },
     "execution_count": 20,
     "metadata": {},
     "output_type": "execute_result"
    }
   ],
   "source": [
    "os.path.relpath(p3, p2)"
   ]
  },
  {
   "cell_type": "code",
   "execution_count": 21,
   "metadata": {},
   "outputs": [
    {
     "data": {
      "text/plain": [
       "'../test/bar.py'"
      ]
     },
     "execution_count": 21,
     "metadata": {},
     "output_type": "execute_result"
    }
   ],
   "source": [
    "os.path.relpath(p4, p2)"
   ]
  },
  {
   "cell_type": "code",
   "execution_count": 22,
   "metadata": {},
   "outputs": [
    {
     "data": {
      "text/plain": [
       "'../../resource_test.py'"
      ]
     },
     "execution_count": 22,
     "metadata": {},
     "output_type": "execute_result"
    }
   ],
   "source": [
    "os.path.relpath(p3, p4)"
   ]
  },
  {
   "cell_type": "code",
   "execution_count": 26,
   "metadata": {},
   "outputs": [],
   "source": [
    "import resource_test"
   ]
  },
  {
   "cell_type": "code",
   "execution_count": 28,
   "metadata": {},
   "outputs": [
    {
     "data": {
      "text/plain": [
       "'resource_test'"
      ]
     },
     "execution_count": 28,
     "metadata": {},
     "output_type": "execute_result"
    }
   ],
   "source": [
    "resource_test.Ham.__module__"
   ]
  },
  {
   "cell_type": "code",
   "execution_count": 33,
   "metadata": {},
   "outputs": [],
   "source": [
    "class Ham:\n",
    "    a: str\n",
    "    b: int\n",
    "\n",
    "    def __init__(self, a: str, b: int) -> None:\n",
    "        \"\"\"A Ham resource\n",
    "\n",
    "        Args:\n",
    "            a (str): A string\n",
    "            b (int): An int\n",
    "        \"\"\"\n",
    "        self.a = a\n",
    "        self.b = b\n",
    "\n",
    "    def c(d: int) -> bool:\n",
    "        return False"
   ]
  },
  {
   "cell_type": "code",
   "execution_count": 34,
   "metadata": {},
   "outputs": [
    {
     "data": {
      "text/plain": [
       "mappingproxy({'__module__': '__main__',\n",
       "              '__annotations__': {'a': str, 'b': int},\n",
       "              '__init__': <function __main__.Ham.__init__(self, a: str, b: int) -> None>,\n",
       "              'c': <function __main__.Ham.c(d: int) -> bool>,\n",
       "              '__dict__': <attribute '__dict__' of 'Ham' objects>,\n",
       "              '__weakref__': <attribute '__weakref__' of 'Ham' objects>,\n",
       "              '__doc__': None})"
      ]
     },
     "execution_count": 34,
     "metadata": {},
     "output_type": "execute_result"
    }
   ],
   "source": [
    "Ham.__dict__"
   ]
  },
  {
   "cell_type": "code",
   "execution_count": 31,
   "metadata": {},
   "outputs": [],
   "source": [
    "from resource_test import Ham as Ham2"
   ]
  },
  {
   "cell_type": "code",
   "execution_count": 43,
   "metadata": {},
   "outputs": [
    {
     "data": {
      "text/plain": [
       "False"
      ]
     },
     "execution_count": 43,
     "metadata": {},
     "output_type": "execute_result"
    }
   ],
   "source": [
    "Ham == Ham2"
   ]
  },
  {
   "cell_type": "code",
   "execution_count": 49,
   "metadata": {},
   "outputs": [
    {
     "data": {
      "text/plain": [
       "{'__name__': '__main__',\n",
       " '__doc__': 'Automatically created module for IPython interactive environment',\n",
       " '__package__': None,\n",
       " '__loader__': None,\n",
       " '__spec__': None,\n",
       " '__builtin__': <module 'builtins' (built-in)>,\n",
       " '__builtins__': <module 'builtins' (built-in)>,\n",
       " '_ih': ['',\n",
       "  'a = {\"c\": True, \"e\": False}',\n",
       "  'a.keys()',\n",
       "  'list(a.keys())',\n",
       "  'if a == typing.Dict:\\n    print(\"hello\")',\n",
       "  'import typing\\n\\nif a == typing.Dict:\\n    print(\"hello\")',\n",
       "  'import typing\\n\\nif type(a) == typing.Dict:\\n    print(\"hello\")',\n",
       "  'a',\n",
       "  'type(a)',\n",
       "  'if isinstance(a, typing.Dict):\\n    print(\"hello\")',\n",
       "  'from pathlib import Path',\n",
       "  '__file__',\n",
       "  '__name__',\n",
       "  'Path(\"/my/fake/path/a.py\").relative_to(\"/my/fake/c.py\")',\n",
       "  'Path(\"/my/fake/path/a.py\").relative_to(\"/my/fake/path/c.py\")',\n",
       "  'Path(\"/my/fake/path/a.py\").relative_to(Path(\"/my/fake/path/c.py\"))',\n",
       "  'Path(\"/my/fake/path/a.py\").relative_to(Path(\"/my/fake/path/a/c.py\"))',\n",
       "  'p1 = \"/Users/patrickbarker/ghq/github.com/aunum/arc/./arc/core/resource_test.py\"\\np2 = \"/Users/patrickbarker/ghq/github.com/aunum/arc/arc/core/resource.py\"\\np3 = \"/Users/patrickbarker/ghq/github.com/aunum/arc/arc/core/resource_test.py\"\\n\\nimport os',\n",
       "  'p1 = \"/Users/patrickbarker/ghq/github.com/aunum/arc/./arc/core/resource_test.py\"\\np2 = \"/Users/patrickbarker/ghq/github.com/aunum/arc/arc/core/resource.py\"\\np3 = \"/Users/patrickbarker/ghq/github.com/aunum/arc/arc/core/resource_test.py\"\\np4 = \"/Users/patrickbarker/ghq/github.com/aunum/arc/arc/core/test/bar.py\"\\n\\nimport os',\n",
       "  'os.path.relpath(p1, p2)',\n",
       "  'os.path.relpath(p3, p2)',\n",
       "  'os.path.relpath(p4, p2)',\n",
       "  'os.path.relpath(p3, p4)',\n",
       "  'Path(p1).relative_to(p4)',\n",
       "  'Path(p4).relative_to(Path(p1))',\n",
       "  'Path(p2).relative_to(Path(p1))',\n",
       "  'import resource_test',\n",
       "  'resource_test.Ham',\n",
       "  'resource_test.Ham.__module__',\n",
       "  'class Ham:\\n    a: str\\n    b: int\\n\\n    def __init__(self, a: str, b: int) -> None:\\n        \"\"\"A Ham resource\\n\\n        Args:\\n            a (str): A string\\n            b (int): An int\\n        \"\"\"\\n        self.a = a\\n        self.b = b',\n",
       "  'Ham.__dict__',\n",
       "  'from resource_test import Ham as Ham2',\n",
       "  'Ham == Ham2',\n",
       "  'class Ham:\\n    a: str\\n    b: int\\n\\n    def __init__(self, a: str, b: int) -> None:\\n        \"\"\"A Ham resource\\n\\n        Args:\\n            a (str): A string\\n            b (int): An int\\n        \"\"\"\\n        self.a = a\\n        self.b = b\\n\\n    def c(d: int) -> bool:\\n        return False',\n",
       "  'Ham.__dict__',\n",
       "  'Ham == Ham2',\n",
       "  'Ham.c',\n",
       "  'Ham.c',\n",
       "  'Ham.c.__dict__',\n",
       "  'Ham.c.__code__',\n",
       "  'Ham.c.__code__.__str__',\n",
       "  'str(Ham.c.__code__)',\n",
       "  'Ham2(Ham)',\n",
       "  'Ham == Ham2',\n",
       "  '__main__',\n",
       "  'inspect.getfile(__main__)',\n",
       "  'import __main__\\ninspect.getfile(__main__)',\n",
       "  'import __main__\\nimport inspect\\n\\ninspect.getfile(__main__)',\n",
       "  'import __main__\\nimport inspect\\n\\n__main__.__file__',\n",
       "  'import __main__\\nimport inspect\\n\\n__main__.__dict__'],\n",
       " '_oh': {2: dict_keys(['c', 'e']),\n",
       "  3: ['c', 'e'],\n",
       "  7: {'c': True, 'e': False},\n",
       "  8: dict,\n",
       "  12: '__main__',\n",
       "  19: '../resource_test.py',\n",
       "  20: '../resource_test.py',\n",
       "  21: '../test/bar.py',\n",
       "  22: '../../resource_test.py',\n",
       "  27: resource_test.Ham,\n",
       "  28: 'resource_test',\n",
       "  30: mappingproxy({'__module__': '__main__',\n",
       "                '__annotations__': {'a': str, 'b': int},\n",
       "                '__init__': <function __main__.Ham.__init__(self, a: str, b: int) -> None>,\n",
       "                '__dict__': <attribute '__dict__' of 'Ham' objects>,\n",
       "                '__weakref__': <attribute '__weakref__' of 'Ham' objects>,\n",
       "                '__doc__': None}),\n",
       "  32: False,\n",
       "  34: mappingproxy({'__module__': '__main__',\n",
       "                '__annotations__': {'a': str, 'b': int},\n",
       "                '__init__': <function __main__.Ham.__init__(self, a: str, b: int) -> None>,\n",
       "                'c': <function __main__.Ham.c(d: int) -> bool>,\n",
       "                '__dict__': <attribute '__dict__' of 'Ham' objects>,\n",
       "                '__weakref__': <attribute '__weakref__' of 'Ham' objects>,\n",
       "                '__doc__': None}),\n",
       "  35: False,\n",
       "  36: <function __main__.Ham.c(d: int) -> bool>,\n",
       "  37: <function __main__.Ham.c(d: int) -> bool>,\n",
       "  38: {},\n",
       "  39: <code object c at 0x13274ec30, file \"/var/folders/2y/6b7m4pk176d8t6hmvwhj93880000gn/T/ipykernel_30775/2451351510.py\", line 15>,\n",
       "  40: <method-wrapper '__str__' of code object at 0x13274ec30>,\n",
       "  41: '<code object c at 0x13274ec30, file \"/var/folders/2y/6b7m4pk176d8t6hmvwhj93880000gn/T/ipykernel_30775/2451351510.py\", line 15>',\n",
       "  43: False},\n",
       " '_dh': [PosixPath('/Users/patrickbarker/ghq/github.com/aunum/arc/arc/core'),\n",
       "  PosixPath('/Users/patrickbarker/ghq/github.com/aunum/arc/arc/core')],\n",
       " 'In': ['',\n",
       "  'a = {\"c\": True, \"e\": False}',\n",
       "  'a.keys()',\n",
       "  'list(a.keys())',\n",
       "  'if a == typing.Dict:\\n    print(\"hello\")',\n",
       "  'import typing\\n\\nif a == typing.Dict:\\n    print(\"hello\")',\n",
       "  'import typing\\n\\nif type(a) == typing.Dict:\\n    print(\"hello\")',\n",
       "  'a',\n",
       "  'type(a)',\n",
       "  'if isinstance(a, typing.Dict):\\n    print(\"hello\")',\n",
       "  'from pathlib import Path',\n",
       "  '__file__',\n",
       "  '__name__',\n",
       "  'Path(\"/my/fake/path/a.py\").relative_to(\"/my/fake/c.py\")',\n",
       "  'Path(\"/my/fake/path/a.py\").relative_to(\"/my/fake/path/c.py\")',\n",
       "  'Path(\"/my/fake/path/a.py\").relative_to(Path(\"/my/fake/path/c.py\"))',\n",
       "  'Path(\"/my/fake/path/a.py\").relative_to(Path(\"/my/fake/path/a/c.py\"))',\n",
       "  'p1 = \"/Users/patrickbarker/ghq/github.com/aunum/arc/./arc/core/resource_test.py\"\\np2 = \"/Users/patrickbarker/ghq/github.com/aunum/arc/arc/core/resource.py\"\\np3 = \"/Users/patrickbarker/ghq/github.com/aunum/arc/arc/core/resource_test.py\"\\n\\nimport os',\n",
       "  'p1 = \"/Users/patrickbarker/ghq/github.com/aunum/arc/./arc/core/resource_test.py\"\\np2 = \"/Users/patrickbarker/ghq/github.com/aunum/arc/arc/core/resource.py\"\\np3 = \"/Users/patrickbarker/ghq/github.com/aunum/arc/arc/core/resource_test.py\"\\np4 = \"/Users/patrickbarker/ghq/github.com/aunum/arc/arc/core/test/bar.py\"\\n\\nimport os',\n",
       "  'os.path.relpath(p1, p2)',\n",
       "  'os.path.relpath(p3, p2)',\n",
       "  'os.path.relpath(p4, p2)',\n",
       "  'os.path.relpath(p3, p4)',\n",
       "  'Path(p1).relative_to(p4)',\n",
       "  'Path(p4).relative_to(Path(p1))',\n",
       "  'Path(p2).relative_to(Path(p1))',\n",
       "  'import resource_test',\n",
       "  'resource_test.Ham',\n",
       "  'resource_test.Ham.__module__',\n",
       "  'class Ham:\\n    a: str\\n    b: int\\n\\n    def __init__(self, a: str, b: int) -> None:\\n        \"\"\"A Ham resource\\n\\n        Args:\\n            a (str): A string\\n            b (int): An int\\n        \"\"\"\\n        self.a = a\\n        self.b = b',\n",
       "  'Ham.__dict__',\n",
       "  'from resource_test import Ham as Ham2',\n",
       "  'Ham == Ham2',\n",
       "  'class Ham:\\n    a: str\\n    b: int\\n\\n    def __init__(self, a: str, b: int) -> None:\\n        \"\"\"A Ham resource\\n\\n        Args:\\n            a (str): A string\\n            b (int): An int\\n        \"\"\"\\n        self.a = a\\n        self.b = b\\n\\n    def c(d: int) -> bool:\\n        return False',\n",
       "  'Ham.__dict__',\n",
       "  'Ham == Ham2',\n",
       "  'Ham.c',\n",
       "  'Ham.c',\n",
       "  'Ham.c.__dict__',\n",
       "  'Ham.c.__code__',\n",
       "  'Ham.c.__code__.__str__',\n",
       "  'str(Ham.c.__code__)',\n",
       "  'Ham2(Ham)',\n",
       "  'Ham == Ham2',\n",
       "  '__main__',\n",
       "  'inspect.getfile(__main__)',\n",
       "  'import __main__\\ninspect.getfile(__main__)',\n",
       "  'import __main__\\nimport inspect\\n\\ninspect.getfile(__main__)',\n",
       "  'import __main__\\nimport inspect\\n\\n__main__.__file__',\n",
       "  'import __main__\\nimport inspect\\n\\n__main__.__dict__'],\n",
       " 'Out': {2: dict_keys(['c', 'e']),\n",
       "  3: ['c', 'e'],\n",
       "  7: {'c': True, 'e': False},\n",
       "  8: dict,\n",
       "  12: '__main__',\n",
       "  19: '../resource_test.py',\n",
       "  20: '../resource_test.py',\n",
       "  21: '../test/bar.py',\n",
       "  22: '../../resource_test.py',\n",
       "  27: resource_test.Ham,\n",
       "  28: 'resource_test',\n",
       "  30: mappingproxy({'__module__': '__main__',\n",
       "                '__annotations__': {'a': str, 'b': int},\n",
       "                '__init__': <function __main__.Ham.__init__(self, a: str, b: int) -> None>,\n",
       "                '__dict__': <attribute '__dict__' of 'Ham' objects>,\n",
       "                '__weakref__': <attribute '__weakref__' of 'Ham' objects>,\n",
       "                '__doc__': None}),\n",
       "  32: False,\n",
       "  34: mappingproxy({'__module__': '__main__',\n",
       "                '__annotations__': {'a': str, 'b': int},\n",
       "                '__init__': <function __main__.Ham.__init__(self, a: str, b: int) -> None>,\n",
       "                'c': <function __main__.Ham.c(d: int) -> bool>,\n",
       "                '__dict__': <attribute '__dict__' of 'Ham' objects>,\n",
       "                '__weakref__': <attribute '__weakref__' of 'Ham' objects>,\n",
       "                '__doc__': None}),\n",
       "  35: False,\n",
       "  36: <function __main__.Ham.c(d: int) -> bool>,\n",
       "  37: <function __main__.Ham.c(d: int) -> bool>,\n",
       "  38: {},\n",
       "  39: <code object c at 0x13274ec30, file \"/var/folders/2y/6b7m4pk176d8t6hmvwhj93880000gn/T/ipykernel_30775/2451351510.py\", line 15>,\n",
       "  40: <method-wrapper '__str__' of code object at 0x13274ec30>,\n",
       "  41: '<code object c at 0x13274ec30, file \"/var/folders/2y/6b7m4pk176d8t6hmvwhj93880000gn/T/ipykernel_30775/2451351510.py\", line 15>',\n",
       "  43: False},\n",
       " 'get_ipython': <bound method InteractiveShell.get_ipython of <ipykernel.zmqshell.ZMQInteractiveShell object at 0x1280b9960>>,\n",
       " 'exit': <IPython.core.autocall.ZMQExitAutocall at 0x128082dd0>,\n",
       " 'quit': <IPython.core.autocall.ZMQExitAutocall at 0x128082dd0>,\n",
       " '_': False,\n",
       " '__': '<code object c at 0x13274ec30, file \"/var/folders/2y/6b7m4pk176d8t6hmvwhj93880000gn/T/ipykernel_30775/2451351510.py\", line 15>',\n",
       " '___': <method-wrapper '__str__' of code object at 0x13274ec30>,\n",
       " 'os': <module 'os' from '/Users/patrickbarker/.pyenv/versions/3.10.1/lib/python3.10/os.py'>,\n",
       " 'sys': <module 'sys' (built-in)>,\n",
       " '__vsc_ipynb_file__': '/Users/patrickbarker/ghq/github.com/aunum/arc/arc/core/foo.ipynb',\n",
       " '_i': 'import __main__\\nimport inspect\\n\\n__main__.__file__',\n",
       " '_ii': 'import __main__\\nimport inspect\\n\\ninspect.getfile(__main__)',\n",
       " '_iii': 'import __main__\\ninspect.getfile(__main__)',\n",
       " '_i1': 'a = {\"c\": True, \"e\": False}',\n",
       " 'a': {'c': True, 'e': False},\n",
       " '_i2': 'a.keys()',\n",
       " '_2': dict_keys(['c', 'e']),\n",
       " '_i3': 'list(a.keys())',\n",
       " '_3': ['c', 'e'],\n",
       " '_i4': 'if a == typing.Dict:\\n    print(\"hello\")',\n",
       " '_i5': 'import typing\\n\\nif a == typing.Dict:\\n    print(\"hello\")',\n",
       " 'typing': <module 'typing' from '/Users/patrickbarker/.pyenv/versions/3.10.1/lib/python3.10/typing.py'>,\n",
       " '_i6': 'import typing\\n\\nif type(a) == typing.Dict:\\n    print(\"hello\")',\n",
       " '_i7': 'a',\n",
       " '_7': {'c': True, 'e': False},\n",
       " '_i8': 'type(a)',\n",
       " '_8': dict,\n",
       " '_i9': 'if isinstance(a, typing.Dict):\\n    print(\"hello\")',\n",
       " '_i10': 'from pathlib import Path',\n",
       " 'Path': pathlib.Path,\n",
       " '_i11': '__file__',\n",
       " '_i12': '__name__',\n",
       " '_12': '__main__',\n",
       " '_i13': 'Path(\"/my/fake/path/a.py\").relative_to(\"/my/fake/c.py\")',\n",
       " '_i14': 'Path(\"/my/fake/path/a.py\").relative_to(\"/my/fake/path/c.py\")',\n",
       " '_i15': 'Path(\"/my/fake/path/a.py\").relative_to(Path(\"/my/fake/path/c.py\"))',\n",
       " '_i16': 'Path(\"/my/fake/path/a.py\").relative_to(Path(\"/my/fake/path/a/c.py\"))',\n",
       " '_i17': 'p1 = \"/Users/patrickbarker/ghq/github.com/aunum/arc/./arc/core/resource_test.py\"\\np2 = \"/Users/patrickbarker/ghq/github.com/aunum/arc/arc/core/resource.py\"\\np3 = \"/Users/patrickbarker/ghq/github.com/aunum/arc/arc/core/resource_test.py\"\\n\\nimport os',\n",
       " 'p1': '/Users/patrickbarker/ghq/github.com/aunum/arc/./arc/core/resource_test.py',\n",
       " 'p2': '/Users/patrickbarker/ghq/github.com/aunum/arc/arc/core/resource.py',\n",
       " 'p3': '/Users/patrickbarker/ghq/github.com/aunum/arc/arc/core/resource_test.py',\n",
       " '_i18': 'p1 = \"/Users/patrickbarker/ghq/github.com/aunum/arc/./arc/core/resource_test.py\"\\np2 = \"/Users/patrickbarker/ghq/github.com/aunum/arc/arc/core/resource.py\"\\np3 = \"/Users/patrickbarker/ghq/github.com/aunum/arc/arc/core/resource_test.py\"\\np4 = \"/Users/patrickbarker/ghq/github.com/aunum/arc/arc/core/test/bar.py\"\\n\\nimport os',\n",
       " 'p4': '/Users/patrickbarker/ghq/github.com/aunum/arc/arc/core/test/bar.py',\n",
       " '_i19': 'os.path.relpath(p1, p2)',\n",
       " '_19': '../resource_test.py',\n",
       " '_i20': 'os.path.relpath(p3, p2)',\n",
       " '_20': '../resource_test.py',\n",
       " '_i21': 'os.path.relpath(p4, p2)',\n",
       " '_21': '../test/bar.py',\n",
       " '_i22': 'os.path.relpath(p3, p4)',\n",
       " '_22': '../../resource_test.py',\n",
       " '_i23': 'Path(p1).relative_to(p4)',\n",
       " '_i24': 'Path(p4).relative_to(Path(p1))',\n",
       " '_i25': 'Path(p2).relative_to(Path(p1))',\n",
       " '_i26': 'import resource_test',\n",
       " 'resource_test': <module 'resource_test' from '/Users/patrickbarker/ghq/github.com/aunum/arc/arc/core/resource_test.py'>,\n",
       " '_i27': 'resource_test.Ham',\n",
       " '_27': resource_test.Ham,\n",
       " '_i28': 'resource_test.Ham.__module__',\n",
       " '_28': 'resource_test',\n",
       " '_i29': 'class Ham:\\n    a: str\\n    b: int\\n\\n    def __init__(self, a: str, b: int) -> None:\\n        \"\"\"A Ham resource\\n\\n        Args:\\n            a (str): A string\\n            b (int): An int\\n        \"\"\"\\n        self.a = a\\n        self.b = b',\n",
       " 'Ham': __main__.Ham,\n",
       " '_i30': 'Ham.__dict__',\n",
       " '_30': mappingproxy({'__module__': '__main__',\n",
       "               '__annotations__': {'a': str, 'b': int},\n",
       "               '__init__': <function __main__.Ham.__init__(self, a: str, b: int) -> None>,\n",
       "               '__dict__': <attribute '__dict__' of 'Ham' objects>,\n",
       "               '__weakref__': <attribute '__weakref__' of 'Ham' objects>,\n",
       "               '__doc__': None}),\n",
       " '_i31': 'from resource_test import Ham as Ham2',\n",
       " 'Ham2': resource_test.Ham,\n",
       " '_i32': 'Ham == Ham2',\n",
       " '_32': False,\n",
       " '_i33': 'class Ham:\\n    a: str\\n    b: int\\n\\n    def __init__(self, a: str, b: int) -> None:\\n        \"\"\"A Ham resource\\n\\n        Args:\\n            a (str): A string\\n            b (int): An int\\n        \"\"\"\\n        self.a = a\\n        self.b = b\\n\\n    def c(d: int) -> bool:\\n        return False',\n",
       " '_i34': 'Ham.__dict__',\n",
       " '_34': mappingproxy({'__module__': '__main__',\n",
       "               '__annotations__': {'a': str, 'b': int},\n",
       "               '__init__': <function __main__.Ham.__init__(self, a: str, b: int) -> None>,\n",
       "               'c': <function __main__.Ham.c(d: int) -> bool>,\n",
       "               '__dict__': <attribute '__dict__' of 'Ham' objects>,\n",
       "               '__weakref__': <attribute '__weakref__' of 'Ham' objects>,\n",
       "               '__doc__': None}),\n",
       " '_i35': 'Ham == Ham2',\n",
       " '_35': False,\n",
       " '_i36': 'Ham.c',\n",
       " '_36': <function __main__.Ham.c(d: int) -> bool>,\n",
       " '_i37': 'Ham.c',\n",
       " '_37': <function __main__.Ham.c(d: int) -> bool>,\n",
       " '_i38': 'Ham.c.__dict__',\n",
       " '_38': {},\n",
       " '_i39': 'Ham.c.__code__',\n",
       " '_39': <code object c at 0x13274ec30, file \"/var/folders/2y/6b7m4pk176d8t6hmvwhj93880000gn/T/ipykernel_30775/2451351510.py\", line 15>,\n",
       " '_i40': 'Ham.c.__code__.__str__',\n",
       " '_40': <method-wrapper '__str__' of code object at 0x13274ec30>,\n",
       " '_i41': 'str(Ham.c.__code__)',\n",
       " '_41': '<code object c at 0x13274ec30, file \"/var/folders/2y/6b7m4pk176d8t6hmvwhj93880000gn/T/ipykernel_30775/2451351510.py\", line 15>',\n",
       " '_i42': 'Ham2(Ham)',\n",
       " '_i43': 'Ham == Ham2',\n",
       " '_43': False,\n",
       " '_i44': '__main__',\n",
       " '_i45': 'inspect.getfile(__main__)',\n",
       " '_i46': 'import __main__\\ninspect.getfile(__main__)',\n",
       " '__main__': <module '__main__'>,\n",
       " '_i47': 'import __main__\\nimport inspect\\n\\ninspect.getfile(__main__)',\n",
       " 'inspect': <module 'inspect' from '/Users/patrickbarker/.pyenv/versions/3.10.1/lib/python3.10/inspect.py'>,\n",
       " '_i48': 'import __main__\\nimport inspect\\n\\n__main__.__file__',\n",
       " '_i49': 'import __main__\\nimport inspect\\n\\n__main__.__dict__'}"
      ]
     },
     "execution_count": 49,
     "metadata": {},
     "output_type": "execute_result"
    }
   ],
   "source": [
    "import __main__\n",
    "import inspect\n",
    "\n",
    "dir()"
   ]
  },
  {
   "cell_type": "code",
   "execution_count": 41,
   "metadata": {},
   "outputs": [
    {
     "data": {
      "text/plain": [
       "'<code object c at 0x13274ec30, file \"/var/folders/2y/6b7m4pk176d8t6hmvwhj93880000gn/T/ipykernel_30775/2451351510.py\", line 15>'"
      ]
     },
     "execution_count": 41,
     "metadata": {},
     "output_type": "execute_result"
    }
   ],
   "source": [
    "Ham.c.__code__"
   ]
  },
  {
   "cell_type": "code",
   "execution_count": 42,
   "metadata": {},
   "outputs": [
    {
     "ename": "TypeError",
     "evalue": "Ham.__init__() missing 1 required positional argument: 'b'",
     "output_type": "error",
     "traceback": [
      "\u001b[0;31m---------------------------------------------------------------------------\u001b[0m",
      "\u001b[0;31mTypeError\u001b[0m                                 Traceback (most recent call last)",
      "Cell \u001b[0;32mIn [42], line 1\u001b[0m\n\u001b[0;32m----> 1\u001b[0m Ham2(Ham)\n",
      "\u001b[0;31mTypeError\u001b[0m: Ham.__init__() missing 1 required positional argument: 'b'"
     ]
    }
   ],
   "source": [
    "Ham2(Ham)"
   ]
  },
  {
   "cell_type": "code",
   "execution_count": null,
   "metadata": {},
   "outputs": [],
   "source": [
    "def equal_types(a: Type, b: Type) -> bool:\n",
    "    "
   ]
  },
  {
   "cell_type": "code",
   "execution_count": 50,
   "metadata": {},
   "outputs": [
    {
     "name": "stdout",
     "output_type": "stream",
     "text": [
      "/Users/patrickbarker/ghq/github.com/aunum/arc/arc/core\n"
     ]
    }
   ],
   "source": [
    "import pathlib\n",
    "pathlib.Path.\n",
    "print(pathlib.Path.cwd())"
   ]
  },
  {
   "cell_type": "code",
   "execution_count": 51,
   "metadata": {},
   "outputs": [
    {
     "name": "stdout",
     "output_type": "stream",
     "text": [
      "/Users/patrickbarker/ghq/github.com/aunum/arc/.venv/lib/python3.10/site-packages/ipykernel_launcher.py\n"
     ]
    }
   ],
   "source": [
    "import sys\n",
    "print(sys.argv[0])"
   ]
  },
  {
   "cell_type": "code",
   "execution_count": 60,
   "metadata": {},
   "outputs": [],
   "source": [
    "import lib_programname\n",
    "from pathlib import PosixPath, Path"
   ]
  },
  {
   "cell_type": "code",
   "execution_count": 61,
   "metadata": {},
   "outputs": [
    {
     "data": {
      "text/plain": [
       "True"
      ]
     },
     "execution_count": 61,
     "metadata": {},
     "output_type": "execute_result"
    }
   ],
   "source": [
    "lib_programname.get_path_executed_script() == Path('/Users/patrickbarker/ghq/github.com/aunum/arc/.venv/lib/python3.10/site-packages/ipykernel_launcher.py')"
   ]
  },
  {
   "cell_type": "code",
   "execution_count": 59,
   "metadata": {},
   "outputs": [
    {
     "data": {
      "text/plain": [
       "PosixPath('/Users/patrickbarker/ghq/github.com/aunum/arc/arc/core/resource.py')"
      ]
     },
     "execution_count": 59,
     "metadata": {},
     "output_type": "execute_result"
    }
   ],
   "source": [
    "pathlib.Path.cwd().joinpath(Path(\"resource.py\"))"
   ]
  },
  {
   "cell_type": "code",
   "execution_count": 63,
   "metadata": {},
   "outputs": [
    {
     "data": {
      "text/plain": [
       "True"
      ]
     },
     "execution_count": 63,
     "metadata": {},
     "output_type": "execute_result"
    }
   ],
   "source": [
    "Ham(\"a\", 1).__dict__ == Ham(\"a\", 1).__dict__"
   ]
  },
  {
   "cell_type": "code",
   "execution_count": 71,
   "metadata": {},
   "outputs": [],
   "source": [
    "from typing import Dict, Any, Optional\n",
    "a: Dict[str, Any] = {\"a\": 1}"
   ]
  },
  {
   "cell_type": "code",
   "execution_count": 69,
   "metadata": {},
   "outputs": [
    {
     "data": {
      "text/plain": [
       "False"
      ]
     },
     "execution_count": 69,
     "metadata": {},
     "output_type": "execute_result"
    }
   ],
   "source": [
    "type(a) == typing.Dict"
   ]
  },
  {
   "cell_type": "code",
   "execution_count": 78,
   "metadata": {},
   "outputs": [],
   "source": [
    "def optional_obj(return_dict: Optional[bool] = None):\n",
    "    \"\"\"Receives either a Ham or a dictionary and optionally returns a ham\n",
    "\n",
    "    Args:\n",
    "        h (Union[Ham, Dict[str, Any]]): A Ham or a dictionary of Ham\n",
    "\n",
    "    Returns:\n",
    "        Union[Ham, Dict[str, Any]]: A Ham or nothing\n",
    "    \"\"\"\n",
    "\n",
    "    print(\"Return dict: \", return_dict)\n",
    "    if return_dict:\n",
    "        print(\"returning dictionary\")\n",
    "        return\n",
    "\n",
    "    print(\"not returning dictionary\")"
   ]
  },
  {
   "cell_type": "code",
   "execution_count": 82,
   "metadata": {},
   "outputs": [
    {
     "name": "stdout",
     "output_type": "stream",
     "text": [
      "Return dict:  False\n",
      "not returning dictionary\n"
     ]
    }
   ],
   "source": [
    "optional_obj(False)"
   ]
  },
  {
   "cell_type": "code",
   "execution_count": 88,
   "metadata": {},
   "outputs": [
    {
     "data": {
      "text/plain": [
       "typing._SpecialForm"
      ]
     },
     "execution_count": 88,
     "metadata": {},
     "output_type": "execute_result"
    }
   ],
   "source": [
    "from typing import List\n",
    "type(Any)"
   ]
  },
  {
   "cell_type": "code",
   "execution_count": 102,
   "metadata": {},
   "outputs": [],
   "source": [
    "class Hams:\n",
    "    a: str\n",
    "    b: int\n",
    "    c: bool\n",
    "\n",
    "    def __init__(self, a: str, b: int) -> None:\n",
    "        \"\"\"A Ham resource\n",
    "\n",
    "        Args:\n",
    "            a (str): A string\n",
    "            b (int): An int\n",
    "        \"\"\"\n",
    "        self.a = a\n",
    "        self.b = b\n",
    "        self.c = True"
   ]
  },
  {
   "cell_type": "code",
   "execution_count": 150,
   "metadata": {},
   "outputs": [],
   "source": [
    "def is_annotation_match(annotations: Dict[str, Type], obj: Any) -> bool:\n",
    "    print(\"checking annotations: \", annotations)\n",
    "    print(\"against obj: \", obj)\n",
    "\n",
    "    if isinstance(obj, dict):\n",
    "        pass\n",
    "    elif hasattr(obj, \"__dict__\"):\n",
    "        obj = obj.__dict__\n",
    "    else:\n",
    "        raise ValueError(f\"unable to check annotations for type '{type(obj)}', please raise an issue\")\n",
    "    \n",
    "    for k, v in obj.items():\n",
    "\n",
    "        if k not in annotations:\n",
    "            return False\n",
    "\n",
    "        if not isinstance(v, annotations[k]):\n",
    "            print(\"obj[name] is not type: \", t)\n",
    "            return False\n",
    "\n",
    "    return True"
   ]
  },
  {
   "cell_type": "code",
   "execution_count": 154,
   "metadata": {},
   "outputs": [],
   "source": [
    "from typing import Type, get_args\n",
    "\n",
    "def is_type_match(t: Type, jsn: Dict[str, Any]) -> bool:\n",
    "    if hasattr(t, \"__annotations__\"):\n",
    "        return is_annotation_match(t.__annotations__, jsn)\n",
    "    if t == dict or (hasattr(t, \"__origin__\") and t.__origin__ == dict):\n",
    "        args = get_args(t)\n",
    "        if len(args) != 2:\n",
    "            raise ValueError(f\"dictionary must by typed: {t}\")\n",
    "        for k, v in jsn.items():\n",
    "            if hasattr(args[0], \"__annotations__\"):\n",
    "                if not is_annotation_match(args[0].__annotations__, k):\n",
    "                    return False\n",
    "            else:\n",
    "                if type(k) != args[0]:\n",
    "                    return False\n",
    "            \n",
    "            if hasattr(args[1], \"__annotations__\"):\n",
    "                if not is_annotation_match(args[1].__annotations__, v):\n",
    "                    return False\n",
    "            else:\n",
    "                if type(v) != args[1]:\n",
    "                    return False\n",
    "        return True\n",
    "\n",
    "    if t == list or (hasattr(t, \"__origin__\") and t.__origin__ == list):\n",
    "        args = get_args(t)\n",
    "        if len(args) != 1:\n",
    "            raise ValueError(f\"list must by typed: {t}\")\n",
    "        for v in jsn:\n",
    "            if hasattr(args[0], \"__annotations__\"):\n",
    "                if not is_annotation_match(args[0].__annotations__, v):\n",
    "                    return False\n",
    "            else:\n",
    "                if type(v) != args[0]:\n",
    "                    return False\n",
    "        return True\n",
    "    else:\n",
    "        raise ValueError(f\"type not supported: {t}\")"
   ]
  },
  {
   "cell_type": "code",
   "execution_count": 155,
   "metadata": {},
   "outputs": [
    {
     "data": {
      "text/plain": [
       "mappingproxy({'__module__': '__main__',\n",
       "              '__annotations__': {'a': str, 'b': int, 'c': bool},\n",
       "              '__init__': <function __main__.Hams.__init__(self, a: str, b: int) -> None>,\n",
       "              '__dict__': <attribute '__dict__' of 'Hams' objects>,\n",
       "              '__weakref__': <attribute '__weakref__' of 'Hams' objects>,\n",
       "              '__doc__': None})"
      ]
     },
     "execution_count": 155,
     "metadata": {},
     "output_type": "execute_result"
    }
   ],
   "source": [
    "Hams.__dict__"
   ]
  },
  {
   "cell_type": "code",
   "execution_count": 156,
   "metadata": {},
   "outputs": [
    {
     "name": "stdout",
     "output_type": "stream",
     "text": [
      "checking annotations:  {'a': <class 'str'>, 'b': <class 'int'>}\n",
      "against obj:  {'a': 'sss', 'b': 2}\n"
     ]
    },
    {
     "data": {
      "text/plain": [
       "True"
      ]
     },
     "execution_count": 156,
     "metadata": {},
     "output_type": "execute_result"
    }
   ],
   "source": [
    "\n",
    "is_type_match(Ham, {\"a\": \"sss\", \"b\": 2})"
   ]
  },
  {
   "cell_type": "code",
   "execution_count": 157,
   "metadata": {},
   "outputs": [
    {
     "data": {
      "text/plain": [
       "False"
      ]
     },
     "execution_count": 157,
     "metadata": {},
     "output_type": "execute_result"
    }
   ],
   "source": [
    "is_type_match(Dict[str, int], {\"a\": \"sss\", \"b\": 2})\n"
   ]
  },
  {
   "cell_type": "code",
   "execution_count": 158,
   "metadata": {},
   "outputs": [
    {
     "data": {
      "text/plain": [
       "True"
      ]
     },
     "execution_count": 158,
     "metadata": {},
     "output_type": "execute_result"
    }
   ],
   "source": [
    "is_type_match(Dict[str, int], {\"a\": 1, \"b\": 2})\n"
   ]
  },
  {
   "cell_type": "code",
   "execution_count": 159,
   "metadata": {},
   "outputs": [
    {
     "name": "stdout",
     "output_type": "stream",
     "text": [
      "checking annotations:  {'a': <class 'str'>, 'b': <class 'int'>, 'c': <class 'bool'>}\n",
      "against obj:  {'a': 'astr', 'b': 1}\n",
      "checking annotations:  {'a': <class 'str'>, 'b': <class 'int'>, 'c': <class 'bool'>}\n",
      "against obj:  {'a': 'bstr', 'b': 2}\n"
     ]
    },
    {
     "data": {
      "text/plain": [
       "True"
      ]
     },
     "execution_count": 159,
     "metadata": {},
     "output_type": "execute_result"
    }
   ],
   "source": [
    "is_type_match(Dict[str, Hams], {\"a_ham\": {\"a\": \"astr\", \"b\": 1}, \"b_ham\": {\"a\": \"bstr\", \"b\": 2}})"
   ]
  },
  {
   "cell_type": "code",
   "execution_count": 160,
   "metadata": {},
   "outputs": [
    {
     "data": {
      "text/plain": [
       "True"
      ]
     },
     "execution_count": 160,
     "metadata": {},
     "output_type": "execute_result"
    }
   ],
   "source": [
    "is_type_match(List[str], [\"a\", \"b\", \"c\"])"
   ]
  },
  {
   "cell_type": "code",
   "execution_count": 161,
   "metadata": {},
   "outputs": [
    {
     "data": {
      "text/plain": [
       "False"
      ]
     },
     "execution_count": 161,
     "metadata": {},
     "output_type": "execute_result"
    }
   ],
   "source": [
    "is_type_match(List[str], [\"a\", \"b\", 1])"
   ]
  },
  {
   "cell_type": "code",
   "execution_count": 115,
   "metadata": {},
   "outputs": [
    {
     "data": {
      "text/plain": [
       "{'_inst': False,\n",
       " '_name': 'Dict',\n",
       " '__origin__': dict,\n",
       " '__slots__': None,\n",
       " '__args__': (str, int),\n",
       " '__parameters__': (),\n",
       " '_typevar_types': typing.TypeVar,\n",
       " '_paramspec_tvars': False}"
      ]
     },
     "execution_count": 115,
     "metadata": {},
     "output_type": "execute_result"
    }
   ],
   "source": [
    "a = Dict[str, int]\n",
    "a.__dict__"
   ]
  },
  {
   "cell_type": "code",
   "execution_count": 162,
   "metadata": {},
   "outputs": [
    {
     "data": {
      "text/plain": [
       "dict"
      ]
     },
     "execution_count": 162,
     "metadata": {},
     "output_type": "execute_result"
    }
   ],
   "source": [
    "a.__origin__"
   ]
  },
  {
   "cell_type": "code",
   "execution_count": 163,
   "metadata": {},
   "outputs": [],
   "source": [
    "b = typing.Any"
   ]
  },
  {
   "cell_type": "code",
   "execution_count": 167,
   "metadata": {},
   "outputs": [
    {
     "data": {
      "text/plain": [
       "True"
      ]
     },
     "execution_count": 167,
     "metadata": {},
     "output_type": "execute_result"
    }
   ],
   "source": [
    "b == typing.Any\n"
   ]
  },
  {
   "cell_type": "code",
   "execution_count": 168,
   "metadata": {},
   "outputs": [],
   "source": [
    "a: Dict[str, Any] = {\"this\": \"that\"}"
   ]
  },
  {
   "cell_type": "code",
   "execution_count": 170,
   "metadata": {},
   "outputs": [
    {
     "ename": "TypeError",
     "evalue": "Subscripted generics cannot be used with class and instance checks",
     "output_type": "error",
     "traceback": [
      "\u001b[0;31m---------------------------------------------------------------------------\u001b[0m",
      "\u001b[0;31mTypeError\u001b[0m                                 Traceback (most recent call last)",
      "Cell \u001b[0;32mIn [170], line 1\u001b[0m\n\u001b[0;32m----> 1\u001b[0m \u001b[39misinstance\u001b[39m(a, Dict[\u001b[39mstr\u001b[39m, Any])\n",
      "File \u001b[0;32m~/.pyenv/versions/3.10.1/lib/python3.10/typing.py:980\u001b[0m, in \u001b[0;36m_BaseGenericAlias.__instancecheck__\u001b[0;34m(self, obj)\u001b[0m\n\u001b[1;32m    979\u001b[0m \u001b[39mdef\u001b[39;00m \u001b[39m__instancecheck__\u001b[39m(\u001b[39mself\u001b[39m, obj):\n\u001b[0;32m--> 980\u001b[0m     \u001b[39mreturn\u001b[39;00m \u001b[39mself\u001b[39;49m\u001b[39m.\u001b[39;49m\u001b[39m__subclasscheck__\u001b[39;49m(\u001b[39mtype\u001b[39;49m(obj))\n",
      "File \u001b[0;32m~/.pyenv/versions/3.10.1/lib/python3.10/typing.py:983\u001b[0m, in \u001b[0;36m_BaseGenericAlias.__subclasscheck__\u001b[0;34m(self, cls)\u001b[0m\n\u001b[1;32m    982\u001b[0m \u001b[39mdef\u001b[39;00m \u001b[39m__subclasscheck__\u001b[39m(\u001b[39mself\u001b[39m, \u001b[39mcls\u001b[39m):\n\u001b[0;32m--> 983\u001b[0m     \u001b[39mraise\u001b[39;00m \u001b[39mTypeError\u001b[39;00m(\u001b[39m\"\u001b[39m\u001b[39mSubscripted generics cannot be used with\u001b[39m\u001b[39m\"\u001b[39m\n\u001b[1;32m    984\u001b[0m                     \u001b[39m\"\u001b[39m\u001b[39m class and instance checks\u001b[39m\u001b[39m\"\u001b[39m)\n",
      "\u001b[0;31mTypeError\u001b[0m: Subscripted generics cannot be used with class and instance checks"
     ]
    }
   ],
   "source": [
    "isinstance(a, Dict[str, Any])"
   ]
  },
  {
   "cell_type": "code",
   "execution_count": null,
   "metadata": {},
   "outputs": [],
   "source": [
    "from typing import Union\n",
    "\n",
    "a: Union[str, Ham]\n",
    "\n",
    "c = {\n",
    "    \"c\":{\n",
    "        \"value\": \"string\"\n",
    "    }\n",
    "}\n",
    "\n",
    "d = {\n",
    "    \"d\": {\n",
    "        \"Ham\": {\n",
    "            \"z\": 1\n",
    "        }\n",
    "    }\n",
    "}\n",
    "\n",
    "###\n",
    "\n",
    "c = {\n",
    "    \"c\": \"string\"\n",
    "}\n",
    "\n",
    "d = {\n",
    "    \"d\": {\n",
    "        \"z\": 1\n",
    "    }\n",
    "}\n",
    "\n",
    "### \n",
    "\n",
    "c = {\n",
    "    \"c\": \"string\",\n",
    "    \"type/c\": \"str\"\n",
    "}\n",
    "\n",
    "d = {\n",
    "    \"d\": {\n",
    "        \"z\": 1\n",
    "    },\n",
    "    \"type/d\": \"Ham\"\n",
    "}"
   ]
  },
  {
   "cell_type": "code",
   "execution_count": null,
   "metadata": {},
   "outputs": [],
   "source": []
  },
  {
   "cell_type": "code",
   "execution_count": null,
   "metadata": {},
   "outputs": [],
   "source": [
    "def deep_isinstance(obj: Any, t: Type) -> bool:\n",
    "    if t == dict or (hasattr(t, \"__origin__\") and t.__origin__ == dict):\n",
    "        args = get_args(t)\n",
    "        if len(args) != 2:\n",
    "            raise ValueError(f\"dictionary must by typed: {t}\")\n",
    "        for k, v in obj.items():\n",
    "            if not isinstance(v, args[1]):\n",
    "                return False\n",
    "        return True\n",
    "        \n",
    "    elif t == list or (hasattr(t, \"__origin__\") and t.__origin__ == list):\n",
    "        args = get_args(t)\n",
    "        if len(args) != 1:\n",
    "            raise ValueError(f\"list must by typed: {t}\")\n",
    "        return isinstance(obj[0], args[0])\n",
    "\n",
    "    elif hasattr(t, \"__annotations__\"):\n",
    "        return isinstance(obj, t)\n",
    "\n",
    "    elif t in [int, str, float, bool]:\n",
    "        if t == type(obj):\n",
    "            return True\n",
    "        return False\n",
    "\n",
    "    elif t is None:\n",
    "        if obj is None:\n",
    "            return True\n",
    "        return False\n",
    "    \n",
    "    else:\n",
    "        raise ValueError(f\"type not supported: {t}\")\n"
   ]
  }
 ],
 "metadata": {
  "kernelspec": {
   "display_name": "Python 3.10.1 ('.venv': poetry)",
   "language": "python",
   "name": "python3"
  },
  "language_info": {
   "codemirror_mode": {
    "name": "ipython",
    "version": 3
   },
   "file_extension": ".py",
   "mimetype": "text/x-python",
   "name": "python",
   "nbconvert_exporter": "python",
   "pygments_lexer": "ipython3",
   "version": "3.10.1"
  },
  "orig_nbformat": 4,
  "vscode": {
   "interpreter": {
    "hash": "9cb08cb2a702d17d38c6205b154418aceedf8786af79cc5fee9671f8dd47c302"
   }
  }
 },
 "nbformat": 4,
 "nbformat_minor": 2
}

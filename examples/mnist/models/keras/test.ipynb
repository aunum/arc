{
 "cells": [
  {
   "cell_type": "code",
   "execution_count": 1,
   "metadata": {},
   "outputs": [],
   "source": [
    "from arc.scm import SCM"
   ]
  },
  {
   "cell_type": "code",
   "execution_count": 2,
   "metadata": {},
   "outputs": [],
   "source": [
    "scm = SCM()"
   ]
  },
  {
   "cell_type": "code",
   "execution_count": 3,
   "metadata": {},
   "outputs": [
    {
     "name": "stdout",
     "output_type": "stream",
     "text": [
      "listing paths!!\n",
      "path:  .gitignore\n",
      "path:  .pylintrc\n",
      "path:  .python-version\n",
      "appending path:  .python-version\n",
      "path:  Dockerfile\n",
      "path:  Dockerfile.arc\n",
      "path:  LICENSE\n",
      "path:  Makefile\n",
      "path:  README.md\n",
      "appending path:  README.md\n",
      "path:  poetry.lock\n",
      "path:  pyproject.toml\n",
      "path:  arc/config.py\n",
      "path:  arc/generic.py\n",
      "path:  arc/project.py\n",
      "path:  arc/project_test.py\n",
      "path:  arc/scm.py\n",
      "path:  arc/scm_test.py\n",
      "path:  arc/data/cache.py\n",
      "path:  arc/data/cache_test.py\n",
      "path:  arc/data/encoding.py\n",
      "path:  arc/data/job.py\n",
      "path:  arc/data/job_test.py\n",
      "path:  arc/data/oci.py\n",
      "path:  arc/data/oci_test.py\n",
      "path:  arc/data/refs.py\n",
      "path:  arc/data/render.py\n",
      "path:  arc/data/types.py\n",
      "path:  arc/data/util.py\n",
      "path:  arc/data/shapes/classes.py\n",
      "path:  arc/data/shapes/classes_test.py\n",
      "path:  arc/data/shapes/image.py\n",
      "path:  arc/data/shapes/labels.py\n",
      "path:  arc/data/shapes/table.py\n",
      "path:  arc/data/shapes/text.py\n",
      "path:  arc/data/shapes/timeseries.py\n",
      "path:  arc/data/shapes/video.py\n",
      "path:  arc/image/build.py\n",
      "path:  arc/image/build_test.py\n",
      "path:  arc/image/client.py\n",
      "path:  arc/image/file.py\n",
      "path:  arc/image/file_test.py\n",
      "path:  arc/image/id.py\n",
      "path:  arc/image/registry.py\n",
      "path:  arc/kube/apply.py\n",
      "path:  arc/kube/auth_util.py\n",
      "path:  arc/kube/client.py\n",
      "path:  arc/kube/controller.py\n",
      "path:  arc/kube/entrypoint.py\n",
      "path:  arc/kube/env.py\n",
      "path:  arc/kube/pod_util.py\n",
      "path:  arc/kube/resource.py\n",
      "path:  arc/kube/resource_test.py\n",
      "path:  arc/kube/run.py\n",
      "path:  arc/kube/run_test.py\n",
      "path:  arc/kube/sync.py\n",
      "path:  arc/model/metrics.py\n",
      "path:  arc/model/opts.py\n",
      "path:  arc/model/predictor.py\n",
      "path:  arc/model/router.py\n",
      "path:  arc/model/trainer.py\n",
      "path:  arc/model/trainer_test.py\n",
      "path:  arc/model/types.py\n",
      "path:  arc/model/util.py\n",
      "path:  arc/tune/tunable.py\n",
      "path:  arc/util/rootpath.py\n",
      "path:  docs/artifacts.md\n",
      "path:  docs/finder.md\n",
      "path:  docs/functions.md\n",
      "path:  docs/io.md\n",
      "path:  docs/jobs.md\n",
      "path:  docs/models.md\n",
      "path:  docs/predictor.md\n",
      "path:  docs/router.md\n",
      "path:  docs/trainer.md\n",
      "path:  examples/imdb/hf/README.md\n",
      "path:  examples/imdb/hf/environment.yml\n",
      "path:  examples/mnist/job/.python-version\n",
      "path:  examples/mnist/job/README.md\n",
      "path:  examples/mnist/job/job.py\n",
      "path:  examples/mnist/job/pyproject.toml\n",
      "path:  examples/mnist/models/keras/.python-version\n",
      "path:  examples/mnist/models/keras/README.md\n",
      "path:  examples/mnist/models/keras/arc.yaml\n",
      "path:  examples/mnist/models/keras/classifier.py\n",
      "path:  examples/mnist/models/keras/requirements.txt\n",
      "path:  examples/mnist/models/torch/.env\n",
      "path:  examples/mnist/models/torch/.python-version\n",
      "path:  examples/mnist/models/torch/README.md\n",
      "path:  examples/mnist/models/torch/classifier.py\n",
      "path:  examples/mnist/models/torch/environment.yml\n",
      "path:  static/logo.png\n",
      "all files:  ['examples/mnist/models/keras/convimgclassifier_server.py', 'examples/mnist/models/keras/test.ipynb', '.python-version', 'README.md']\n",
      "all files: ['examples/mnist/models/keras/convimgclassifier_server.py', 'examples/mnist/models/keras/test.ipynb', '.python-version', 'README.md']\n"
     ]
    },
    {
     "data": {
      "text/plain": [
       "['examples/mnist/models/keras/convimgclassifier_server.py',\n",
       " 'examples/mnist/models/keras/test.ipynb',\n",
       " '.python-version',\n",
       " 'README.md']"
      ]
     },
     "execution_count": 3,
     "metadata": {},
     "output_type": "execute_result"
    }
   ],
   "source": [
    "scm.all_files()"
   ]
  },
  {
   "cell_type": "code",
   "execution_count": 4,
   "metadata": {},
   "outputs": [],
   "source": [
    "import getpass"
   ]
  },
  {
   "cell_type": "code",
   "execution_count": 5,
   "metadata": {},
   "outputs": [
    {
     "data": {
      "text/plain": [
       "'patrickbarker'"
      ]
     },
     "execution_count": 5,
     "metadata": {},
     "output_type": "execute_result"
    }
   ],
   "source": [
    "getpass.getuser()"
   ]
  },
  {
   "cell_type": "code",
   "execution_count": 6,
   "metadata": {},
   "outputs": [
    {
     "name": "stdout",
     "output_type": "stream",
     "text": [
      "Patricks-MacBook-Pro.local\n"
     ]
    }
   ],
   "source": [
    "import socket\n",
    "print(socket.gethostname())"
   ]
  },
  {
   "cell_type": "code",
   "execution_count": null,
   "metadata": {},
   "outputs": [],
   "source": []
  }
 ],
 "metadata": {
  "kernelspec": {
   "display_name": "Python 3.10.1 ('.venv': poetry)",
   "language": "python",
   "name": "python3"
  },
  "language_info": {
   "codemirror_mode": {
    "name": "ipython",
    "version": 3
   },
   "file_extension": ".py",
   "mimetype": "text/x-python",
   "name": "python",
   "nbconvert_exporter": "python",
   "pygments_lexer": "ipython3",
   "version": "3.10.1"
  },
  "orig_nbformat": 4,
  "vscode": {
   "interpreter": {
    "hash": "9cb08cb2a702d17d38c6205b154418aceedf8786af79cc5fee9671f8dd47c302"
   }
  }
 },
 "nbformat": 4,
 "nbformat_minor": 2
}
